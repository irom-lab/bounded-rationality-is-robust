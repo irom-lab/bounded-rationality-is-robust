{
 "cells": [
  {
   "cell_type": "code",
   "execution_count": 1,
   "metadata": {
    "pycharm": {
     "name": "#%%\n"
    }
   },
   "outputs": [],
   "source": [
    "import os\n",
    "import sys\n",
    "import pathlib\n",
    "\n",
    "module_path = os.path.abspath(os.path.join('../../'))\n",
    "\n",
    "if module_path not in sys.path:\n",
    "    sys.path.append(module_path)"
   ]
  },
  {
   "cell_type": "code",
   "execution_count": 2,
   "metadata": {
    "pycharm": {
     "name": "#%%\n"
    }
   },
   "outputs": [],
   "source": [
    "import jax\n",
    "import jax.numpy as jnp\n",
    "import jax.random as rnd\n",
    "\n",
    "import cycler\n",
    "import matplotlib as mpl\n",
    "import matplotlib.pyplot as plt\n",
    "import matplotlib.font_manager as fm\n",
    "\n",
    "from rationality import dynamics as dyn, objectives as obj, distributions as dst,\\\n",
    "    controllers as ctl, simulate as sim, util as util"
   ]
  },
  {
   "cell_type": "markdown",
   "metadata": {
    "pycharm": {
     "name": "#%% md\n"
    }
   },
   "source": [
    "Set up plotting configuration."
   ]
  },
  {
   "cell_type": "code",
   "execution_count": 3,
   "metadata": {
    "pycharm": {
     "name": "#%%\n"
    }
   },
   "outputs": [],
   "source": [
    "pathlib.Path('figures/').mkdir(parents=True, exist_ok=True)\n",
    "\n",
    "plt.style.reload_library()\n",
    "plt.style.use(['science', 'notebook'])\n",
    "\n",
    "%config InlineBackend.figure_format = 'svg'\n",
    "\n",
    "figure_formats = ['png', 'eps', 'svg', 'pdf', 'pgf']\n"
   ]
  },
  {
   "cell_type": "code",
   "execution_count": 4,
   "metadata": {
    "pycharm": {
     "name": "#%%\n"
    }
   },
   "outputs": [],
   "source": [
    "relative_noise_stds = jnp.array([0.25, 0.25, 0.1, 0.25, 0.25, 0.1])\n",
    "noise_scale_coeffs = jnp.array([3.0, 2.0, 1.0, 0.0])"
   ]
  },
  {
   "cell_type": "markdown",
   "metadata": {
    "pycharm": {
     "name": "#%% md\n"
    }
   },
   "source": [
    "Control problem parameters."
   ]
  },
  {
   "cell_type": "code",
   "execution_count": 5,
   "metadata": {
    "pycharm": {
     "name": "#%%\n"
    }
   },
   "outputs": [],
   "source": [
    "horizon = 12\n",
    "dt = 0.3  # try ~0.2\n",
    "\n",
    "Q = 0.1 * jnp.eye(6)\n",
    "R = 0.01 * jnp.eye(2)\n",
    "Qf = 10 * jnp.eye(6)\n",
    "\n",
    "ic = jnp.array([1.0, -1.0, 0.0, 0.0, 0.0, 0.0])\n",
    "ic_cov = jnp.diag(jnp.array([1e-1, 1e-1, 1e-3, 1e-2, 1e-2, 1e-4]) ** 2)"
   ]
  },
  {
   "cell_type": "markdown",
   "metadata": {
    "pycharm": {
     "name": "#%% md\n"
    }
   },
   "source": [
    "The values of $\\beta$ to sweep through."
   ]
  },
  {
   "cell_type": "code",
   "execution_count": 6,
   "metadata": {
    "pycharm": {
     "name": "#%%\n"
    }
   },
   "outputs": [],
   "source": [
    "inv_temps = 10 ** (jnp.linspace(1, 2.7, 50))"
   ]
  },
  {
   "cell_type": "markdown",
   "metadata": {
    "pycharm": {
     "name": "#%% md\n"
    }
   },
   "source": [
    "Create problem data structures."
   ]
  },
  {
   "cell_type": "code",
   "execution_count": 7,
   "metadata": {
    "pycharm": {
     "name": "#%%\n"
    }
   },
   "outputs": [],
   "source": [
    "objective = obj.quadratic(Q, R, Qf)\n",
    "dynamics = dyn.crazyflie2d(dt)\n",
    "linearized_dynamics = dyn.linear(*dyn.linearize(dynamics, jnp.zeros(6),\n",
    "                                                jnp.array([dynamics.params.hover_force, 0.0]), 0))\n",
    "\n",
    "prob = ctl.problem(linearized_dynamics, objective, horizon)"
   ]
  },
  {
   "cell_type": "markdown",
   "metadata": {
    "pycharm": {
     "name": "#%% md\n"
    }
   },
   "source": [
    "Compute the exact expected cost of the control problem."
   ]
  },
  {
   "cell_type": "code",
   "execution_count": 8,
   "metadata": {
    "pycharm": {
     "name": "#%%\n"
    }
   },
   "outputs": [
    {
     "name": "stdout",
     "output_type": "stream",
     "text": [
      "Optimal Problem Value: 0.6307664513587952\n"
     ]
    }
   ],
   "source": [
    "lqr = ctl.lqr.create(prob)\n",
    "\n",
    "print(f'Optimal Problem Value: {ctl.lqr.cost_to_go(prob, ic, ic_cov)}')"
   ]
  },
  {
   "cell_type": "markdown",
   "metadata": {
    "pycharm": {
     "name": "#%% md\n"
    }
   },
   "source": [
    "Setup the bounded-rationality controller and simulation."
   ]
  },
  {
   "cell_type": "code",
   "execution_count": 9,
   "metadata": {
    "pycharm": {
     "name": "#%%\n"
    }
   },
   "outputs": [],
   "source": [
    "noise_cov = jnp.transpose(jnp.tile(jnp.diag(relative_noise_stds), (horizon + 1, 1, 1)), (1, 2, 0))\n",
    "\n",
    "key = rnd.PRNGKey(0)\n",
    "key, subkey = rnd.split(key)\n",
    "\n",
    "prior_params = ctl.lqr.input_stats(prob, ic, ic_cov)\n",
    "prior_params = dst.GaussianParams(prior_params.mean, prior_params.cov)\n",
    "lqbr = ctl.lqbr.create(prob, prior_params, 1.0)\n",
    "lqbr_sim = sim.compile_simulation(prob, lqbr)\n",
    "\n",
    "ctg_part_obs = jax.jit(\n",
    "    lambda beta, scale: ctl.lqbr.cost_to_go(prob, ctl.lqbr.LQBRParams(beta, prior_params), ic, ic_cov,\n",
    "                                            (scale ** 2) * noise_cov[:, :, :-1]))\n"
   ]
  },
  {
   "cell_type": "markdown",
   "metadata": {
    "pycharm": {
     "name": "#%% md\n"
    }
   },
   "source": [
    "Compute expected cost for different values of $\\beta$ and $\\sigma^2_{\\hat{x}}$."
   ]
  },
  {
   "cell_type": "code",
   "execution_count": 10,
   "metadata": {
    "pycharm": {
     "name": "#%%\n"
    }
   },
   "outputs": [],
   "source": [
    "noise_coeffs = jnp.array([0.0, 1.0, 2.0, 3.0])\n",
    "\n",
    "expected_problem_value = jax.vmap(lambda s: jax.vmap(lambda it: ctg_part_obs(it, s))(inv_temps), out_axes=-1)(noise_coeffs)\n",
    "best_inv_temps = inv_temps[jnp.argmin(expected_problem_value, axis=0)]\n",
    "best_expected_costs = expected_problem_value.min(axis=0)\n",
    "\n",
    "lqr_expected_costs = jax.vmap(lambda s: ctl.lqr.cost_to_go(prob, ic, ic_cov, (s ** 2) * noise_cov[:, :, :-1]))(noise_coeffs)"
   ]
  },
  {
   "cell_type": "markdown",
   "metadata": {
    "pycharm": {
     "name": "#%% md\n"
    }
   },
   "source": [
    "Plot results:\n"
   ]
  },
  {
   "cell_type": "code",
   "execution_count": 11,
   "outputs": [],
   "source": [
    "def set_size(w=None, h=None, ax=None):\n",
    "    \"\"\" w, h: width, height in inches \"\"\"\n",
    "    if not ax:\n",
    "        ax = plt.gca()\n",
    "\n",
    "    l = ax.figure.subplotpars.left\n",
    "    r = ax.figure.subplotpars.right\n",
    "    t = ax.figure.subplotpars.top\n",
    "    b = ax.figure.subplotpars.bottom\n",
    "\n",
    "    figw = float(w) / (r - l) if w is not None else (r - l)\n",
    "    figh = float(h) / (t - b) if h is not None else (t - b)\n",
    "\n",
    "    ax.figure.set_size_inches(figw, figh)"
   ],
   "metadata": {
    "collapsed": false,
    "pycharm": {
     "name": "#%%\n"
    }
   }
  },
  {
   "cell_type": "code",
   "execution_count": 13,
   "metadata": {
    "pycharm": {
     "name": "#%%\n"
    }
   },
   "outputs": [
    {
     "name": "stderr",
     "output_type": "stream",
     "text": [
      "<ipython-input-13-9ea06f695b66>:34: UserWarning: FixedFormatter should only be used together with FixedLocator\n",
      "  ax[1].set_xticklabels(['', '$\\infty$', ''])\n"
     ]
    },
    {
     "name": "stdout",
     "output_type": "stream",
     "text": [
      "Saving PNG format: figures/log-beta-expectation-analytic-with-inf.png\n",
      "Saving EPS format: figures/log-beta-expectation-analytic-with-inf.eps\n",
      "Saving SVG format: figures/log-beta-expectation-analytic-with-inf.svg\n",
      "Saving PDF format: figures/log-beta-expectation-analytic-with-inf.pdf\n",
      "Saving PGF format: figures/log-beta-expectation-analytic-with-inf.pgf\n"
     ]
    },
    {
     "data": {
      "text/plain": "<Figure size 4645.16x1986.75 with 2 Axes>",
      "image/svg+xml": "<?xml version=\"1.0\" encoding=\"utf-8\" standalone=\"no\"?>\n<!DOCTYPE svg PUBLIC \"-//W3C//DTD SVG 1.1//EN\"\n  \"http://www.w3.org/Graphics/SVG/1.1/DTD/svg11.dtd\">\n<svg height=\"252.982198pt\" version=\"1.1\" viewBox=\"0 0 480.097463 252.982198\" width=\"480.097463pt\" xmlns=\"http://www.w3.org/2000/svg\" xmlns:xlink=\"http://www.w3.org/1999/xlink\">\n <metadata>\n  <rdf:RDF xmlns:cc=\"http://creativecommons.org/ns#\" xmlns:dc=\"http://purl.org/dc/elements/1.1/\" xmlns:rdf=\"http://www.w3.org/1999/02/22-rdf-syntax-ns#\">\n   <cc:Work>\n    <dc:type rdf:resource=\"http://purl.org/dc/dcmitype/StillImage\"/>\n    <dc:date>2021-09-15T01:10:38.518189</dc:date>\n    <dc:format>image/svg+xml</dc:format>\n    <dc:creator>\n     <cc:Agent>\n      <dc:title>Matplotlib v3.4.2, https://matplotlib.org/</dc:title>\n     </cc:Agent>\n    </dc:creator>\n   </cc:Work>\n  </rdf:RDF>\n </metadata>\n <defs>\n  <style type=\"text/css\">*{stroke-linecap:butt;stroke-linejoin:round;}</style>\n </defs>\n <g id=\"figure_1\">\n  <g id=\"patch_1\">\n   <path d=\"M 0 252.982198 \nL 480.097463 252.982198 \nL 480.097463 0 \nL 0 0 \nz\n\" style=\"fill:none;\"/>\n  </g>\n  <g id=\"axes_1\">\n   <g id=\"patch_2\">\n    <path d=\"M 44.497463 209.825166 \nL 443.512241 209.825166 \nL 443.512241 29.825166 \nL 44.497463 29.825166 \nz\n\" style=\"fill:#ffffff;\"/>\n   </g>\n   <g id=\"matplotlib.axis_1\">\n    <g id=\"xtick_1\">\n     <g id=\"line2d_1\">\n      <defs>\n       <path d=\"M 0 0 \nL 0 -6 \n\" id=\"m760838db9b\" style=\"stroke:#000000;\"/>\n      </defs>\n      <g>\n       <use style=\"stroke:#000000;\" x=\"44.497463\" xlink:href=\"#m760838db9b\" y=\"209.825166\"/>\n      </g>\n     </g>\n     <g id=\"line2d_2\">\n      <defs>\n       <path d=\"M 0 0 \nL 0 6 \n\" id=\"m38f2ccdc8c\" style=\"stroke:#000000;\"/>\n      </defs>\n      <g>\n       <use style=\"stroke:#000000;\" x=\"44.497463\" xlink:href=\"#m38f2ccdc8c\" y=\"29.825166\"/>\n      </g>\n     </g>\n     <g id=\"text_1\">\n      <!-- $\\mathdefault{10^{1}}$ -->\n      <g transform=\"translate(29.474256 234.036149)scale(0.24 -0.24)\">\n       <defs>\n        <path d=\"M 2458 0 \nL 2458 166 \nL 2266 166 \nC 1715 166 1702 236 1702 467 \nL 1702 4085 \nC 1702 4217 1696 4224 1606 4224 \nC 1357 3927 979 3833 621 3820 \nC 602 3820 570 3820 563 3808 \nC 557 3795 557 3782 557 3648 \nC 755 3648 1088 3686 1344 3839 \nL 1344 467 \nC 1344 243 1331 166 781 166 \nL 589 166 \nL 589 0 \nL 1523 12 \nL 2458 0 \nz\n\" id=\"LMRoman17-Regular-31\" transform=\"scale(0.015625)\"/>\n        <path d=\"M 2688 2038 \nC 2688 2430 2682 3099 2413 3613 \nC 2176 4063 1798 4224 1466 4224 \nC 1158 4224 768 4082 525 3620 \nC 269 3137 243 2539 243 2038 \nC 243 1671 250 1112 448 623 \nC 723 -39 1216 -128 1466 -128 \nC 1760 -128 2208 -7 2470 604 \nC 2662 1048 2688 1568 2688 2038 \nz\nM 2278 2109 \nC 2278 1691 2278 1176 2202 797 \nC 2067 96 1690 -26 1466 -26 \nC 1056 -26 813 328 723 816 \nC 653 1196 653 1749 653 2109 \nC 653 2604 653 3015 736 3407 \nC 858 3954 1216 4121 1466 4121 \nC 1728 4121 2067 3947 2189 3420 \nC 2272 3054 2278 2623 2278 2109 \nz\n\" id=\"LMRoman17-Regular-30\" transform=\"scale(0.015625)\"/>\n       </defs>\n       <use transform=\"scale(0.996264)\" xlink:href=\"#LMRoman17-Regular-31\"/>\n       <use transform=\"translate(45.690948 0)scale(0.996264)\" xlink:href=\"#LMRoman17-Regular-30\"/>\n       <use transform=\"translate(91.381897 36.153639)scale(0.737241)\" xlink:href=\"#LMRoman17-Regular-31\"/>\n      </g>\n     </g>\n    </g>\n    <g id=\"xtick_2\">\n     <g id=\"line2d_3\">\n      <g>\n       <use style=\"stroke:#000000;\" x=\"279.212038\" xlink:href=\"#m760838db9b\" y=\"209.825166\"/>\n      </g>\n     </g>\n     <g id=\"line2d_4\">\n      <g>\n       <use style=\"stroke:#000000;\" x=\"279.212038\" xlink:href=\"#m38f2ccdc8c\" y=\"29.825166\"/>\n      </g>\n     </g>\n     <g id=\"text_2\">\n      <!-- $\\mathdefault{10^{2}}$ -->\n      <g transform=\"translate(264.188831 234.036149)scale(0.24 -0.24)\">\n       <defs>\n        <path d=\"M 2669 990 \nL 2554 990 \nC 2490 537 2438 460 2413 422 \nC 2381 371 1920 371 1830 371 \nL 602 371 \nL 1824 1596 \nC 2214 1966 2669 2400 2669 3033 \nC 2669 3788 2067 4224 1395 4224 \nC 691 4224 262 3603 262 3027 \nC 262 2777 448 2745 525 2745 \nC 589 2745 781 2783 781 3007 \nC 781 3206 614 3264 525 3264 \nC 486 3264 448 3257 422 3244 \nC 544 3788 915 4057 1306 4057 \nC 1862 4057 2227 3616 2227 3033 \nC 2227 2477 1901 1998 1536 1583 \nL 262 147 \nL 262 0 \nL 2515 0 \nL 2669 990 \nz\n\" id=\"LMRoman17-Regular-32\" transform=\"scale(0.015625)\"/>\n       </defs>\n       <use transform=\"scale(0.996264)\" xlink:href=\"#LMRoman17-Regular-31\"/>\n       <use transform=\"translate(45.690948 0)scale(0.996264)\" xlink:href=\"#LMRoman17-Regular-30\"/>\n       <use transform=\"translate(91.381897 36.153639)scale(0.737241)\" xlink:href=\"#LMRoman17-Regular-32\"/>\n      </g>\n     </g>\n    </g>\n    <g id=\"xtick_3\">\n     <g id=\"line2d_5\">\n      <defs>\n       <path d=\"M 0 0 \nL 0 -3 \n\" id=\"m6300881f59\" style=\"stroke:#000000;\"/>\n      </defs>\n      <g>\n       <use style=\"stroke:#000000;\" x=\"115.15359\" xlink:href=\"#m6300881f59\" y=\"209.825166\"/>\n      </g>\n     </g>\n     <g id=\"line2d_6\">\n      <defs>\n       <path d=\"M 0 0 \nL 0 3 \n\" id=\"m0575765bb9\" style=\"stroke:#000000;\"/>\n      </defs>\n      <g>\n       <use style=\"stroke:#000000;\" x=\"115.15359\" xlink:href=\"#m0575765bb9\" y=\"29.825166\"/>\n      </g>\n     </g>\n    </g>\n    <g id=\"xtick_4\">\n     <g id=\"line2d_7\">\n      <g>\n       <use style=\"stroke:#000000;\" x=\"156.484776\" xlink:href=\"#m6300881f59\" y=\"209.825166\"/>\n      </g>\n     </g>\n     <g id=\"line2d_8\">\n      <g>\n       <use style=\"stroke:#000000;\" x=\"156.484776\" xlink:href=\"#m0575765bb9\" y=\"29.825166\"/>\n      </g>\n     </g>\n    </g>\n    <g id=\"xtick_5\">\n     <g id=\"line2d_9\">\n      <g>\n       <use style=\"stroke:#000000;\" x=\"185.809718\" xlink:href=\"#m6300881f59\" y=\"209.825166\"/>\n      </g>\n     </g>\n     <g id=\"line2d_10\">\n      <g>\n       <use style=\"stroke:#000000;\" x=\"185.809718\" xlink:href=\"#m0575765bb9\" y=\"29.825166\"/>\n      </g>\n     </g>\n    </g>\n    <g id=\"xtick_6\">\n     <g id=\"line2d_11\">\n      <g>\n       <use style=\"stroke:#000000;\" x=\"208.555911\" xlink:href=\"#m6300881f59\" y=\"209.825166\"/>\n      </g>\n     </g>\n     <g id=\"line2d_12\">\n      <g>\n       <use style=\"stroke:#000000;\" x=\"208.555911\" xlink:href=\"#m0575765bb9\" y=\"29.825166\"/>\n      </g>\n     </g>\n    </g>\n    <g id=\"xtick_7\">\n     <g id=\"line2d_13\">\n      <g>\n       <use style=\"stroke:#000000;\" x=\"227.140903\" xlink:href=\"#m6300881f59\" y=\"209.825166\"/>\n      </g>\n     </g>\n     <g id=\"line2d_14\">\n      <g>\n       <use style=\"stroke:#000000;\" x=\"227.140903\" xlink:href=\"#m0575765bb9\" y=\"29.825166\"/>\n      </g>\n     </g>\n    </g>\n    <g id=\"xtick_8\">\n     <g id=\"line2d_15\">\n      <g>\n       <use style=\"stroke:#000000;\" x=\"242.85429\" xlink:href=\"#m6300881f59\" y=\"209.825166\"/>\n      </g>\n     </g>\n     <g id=\"line2d_16\">\n      <g>\n       <use style=\"stroke:#000000;\" x=\"242.85429\" xlink:href=\"#m0575765bb9\" y=\"29.825166\"/>\n      </g>\n     </g>\n    </g>\n    <g id=\"xtick_9\">\n     <g id=\"line2d_17\">\n      <g>\n       <use style=\"stroke:#000000;\" x=\"256.465846\" xlink:href=\"#m6300881f59\" y=\"209.825166\"/>\n      </g>\n     </g>\n     <g id=\"line2d_18\">\n      <g>\n       <use style=\"stroke:#000000;\" x=\"256.465846\" xlink:href=\"#m0575765bb9\" y=\"29.825166\"/>\n      </g>\n     </g>\n    </g>\n    <g id=\"xtick_10\">\n     <g id=\"line2d_19\">\n      <g>\n       <use style=\"stroke:#000000;\" x=\"268.472088\" xlink:href=\"#m6300881f59\" y=\"209.825166\"/>\n      </g>\n     </g>\n     <g id=\"line2d_20\">\n      <g>\n       <use style=\"stroke:#000000;\" x=\"268.472088\" xlink:href=\"#m0575765bb9\" y=\"29.825166\"/>\n      </g>\n     </g>\n    </g>\n    <g id=\"xtick_11\">\n     <g id=\"line2d_21\">\n      <g>\n       <use style=\"stroke:#000000;\" x=\"349.868166\" xlink:href=\"#m6300881f59\" y=\"209.825166\"/>\n      </g>\n     </g>\n     <g id=\"line2d_22\">\n      <g>\n       <use style=\"stroke:#000000;\" x=\"349.868166\" xlink:href=\"#m0575765bb9\" y=\"29.825166\"/>\n      </g>\n     </g>\n    </g>\n    <g id=\"xtick_12\">\n     <g id=\"line2d_23\">\n      <g>\n       <use style=\"stroke:#000000;\" x=\"391.199351\" xlink:href=\"#m6300881f59\" y=\"209.825166\"/>\n      </g>\n     </g>\n     <g id=\"line2d_24\">\n      <g>\n       <use style=\"stroke:#000000;\" x=\"391.199351\" xlink:href=\"#m0575765bb9\" y=\"29.825166\"/>\n      </g>\n     </g>\n    </g>\n    <g id=\"xtick_13\">\n     <g id=\"line2d_25\">\n      <g>\n       <use style=\"stroke:#000000;\" x=\"420.524294\" xlink:href=\"#m6300881f59\" y=\"209.825166\"/>\n      </g>\n     </g>\n     <g id=\"line2d_26\">\n      <g>\n       <use style=\"stroke:#000000;\" x=\"420.524294\" xlink:href=\"#m0575765bb9\" y=\"29.825166\"/>\n      </g>\n     </g>\n    </g>\n    <g id=\"xtick_14\">\n     <g id=\"line2d_27\">\n      <g>\n       <use style=\"stroke:#000000;\" x=\"443.270486\" xlink:href=\"#m6300881f59\" y=\"209.825166\"/>\n      </g>\n     </g>\n     <g id=\"line2d_28\">\n      <g>\n       <use style=\"stroke:#000000;\" x=\"443.270486\" xlink:href=\"#m0575765bb9\" y=\"29.825166\"/>\n      </g>\n     </g>\n    </g>\n    <g id=\"text_3\">\n     <!-- $\\beta$ -->\n     <g transform=\"translate(236.845656 243.774443)scale(0.26 -0.26)\">\n      <defs>\n       <path d=\"M 3283 1196 \nC 3322 1337 3334 1478 3334 1612 \nC 3334 1862 3277 2099 3149 2291 \nC 3072 2406 2982 2508 2867 2579 \nC 2938 2617 3008 2662 3072 2713 \nC 3328 2905 3514 3168 3584 3449 \nC 3603 3538 3616 3623 3616 3701 \nC 3616 3896 3552 4078 3437 4221 \nC 3270 4428 3008 4537 2707 4537 \nC 1952 4537 1389 3649 1178 2765 \nL 186 -1154 \nC 186 -1198 211 -1216 237 -1216 \nL 275 -1216 \nC 301 -1216 320 -1204 326 -1179 \nL 774 599 \nC 864 206 1152 -64 1594 -64 \nC 1952 -64 2330 57 2656 302 \nC 2963 535 3200 864 3283 1206 \nL 3283 1196 \nz\nM 2886 1231 \nC 2816 928 2669 625 2419 399 \nC 2182 180 1882 57 1594 57 \nC 1139 57 883 418 883 877 \nC 883 980 896 1089 922 1206 \nL 1312 2745 \nC 1510 3564 2003 4416 2707 4416 \nC 2925 4416 3104 4318 3206 4149 \nC 3264 4052 3290 3935 3290 3811 \nC 3290 3707 3270 3597 3245 3486 \nC 3181 3239 3072 2992 2867 2804 \nC 2816 2758 2752 2713 2694 2675 \nC 2566 2726 2426 2752 2272 2752 \nC 2054 2752 1792 2752 1754 2604 \nC 1754 2589 1747 2568 1747 2568 \nC 1747 2432 1997 2432 2208 2432 \nC 2362 2432 2522 2457 2675 2515 \nC 2765 2444 2835 2354 2880 2251 \nC 2944 2118 2970 1964 2970 1804 \nC 2970 1625 2938 1433 2886 1241 \nL 2886 1231 \nz\nM 2509 2594 \nC 2413 2568 2310 2553 2214 2553 \nC 2080 2553 1882 2553 1894 2584 \nC 1907 2630 2112 2630 2266 2630 \nC 2355 2630 2432 2620 2509 2594 \nz\n\" id=\"LMMathItalic12-Regular-c\" transform=\"scale(0.015625)\"/>\n      </defs>\n      <use transform=\"scale(0.996264)\" xlink:href=\"#LMMathItalic12-Regular-c\"/>\n     </g>\n    </g>\n   </g>\n   <g id=\"matplotlib.axis_2\">\n    <g id=\"ytick_1\">\n     <g id=\"line2d_29\">\n      <defs>\n       <path d=\"M 0 0 \nL 6 0 \n\" id=\"m34a4124f5b\" style=\"stroke:#000000;\"/>\n      </defs>\n      <g>\n       <use style=\"stroke:#000000;\" x=\"44.497463\" xlink:href=\"#m34a4124f5b\" y=\"200.351481\"/>\n      </g>\n     </g>\n     <g id=\"text_4\">\n      <!-- $\\mathdefault{0}$ -->\n      <g transform=\"translate(25.531642 208.456973)scale(0.24 -0.24)\">\n       <use transform=\"scale(0.996264)\" xlink:href=\"#LMRoman17-Regular-30\"/>\n      </g>\n     </g>\n    </g>\n    <g id=\"ytick_2\">\n     <g id=\"line2d_30\">\n      <g>\n       <use style=\"stroke:#000000;\" x=\"44.497463\" xlink:href=\"#m34a4124f5b\" y=\"105.614639\"/>\n      </g>\n     </g>\n     <g id=\"text_5\">\n      <!-- $\\mathdefault{500}$ -->\n      <g transform=\"translate(3.6 113.720131)scale(0.24 -0.24)\">\n       <defs>\n        <path d=\"M 2669 1260 \nC 2669 2028 2170 2624 1549 2624 \nC 1222 2624 947 2502 730 2271 \nL 730 3692 \nC 794 3667 1056 3584 1325 3584 \nC 1920 3584 2246 3904 2432 4119 \nC 2432 4183 2432 4224 2394 4224 \nC 2394 4224 2374 4224 2323 4191 \nC 2099 4071 1837 3974 1517 3974 \nC 1325 3993 1037 4019 723 4160 \nC 653 4224 634 4224 634 4224 \nC 602 4192 595 4185 595 4057 \nL 595 2206 \nC 595 2092 595 2061 659 2061 \nC 691 2061 704 2074 736 2118 \nC 941 2401 1222 2521 1542 2521 \nC 1766 2521 2246 2382 2246 1304 \nC 2246 1103 2246 735 2054 441 \nC 1894 166 1645 25 1370 25 \nC 947 25 518 334 403 832 \nC 429 806 480 793 506 793 \nC 589 793 749 838 749 1036 \nC 749 1209 627 1280 506 1280 \nC 358 1280 262 1190 262 1011 \nC 262 454 704 -128 1382 -128 \nC 2042 -128 2669 441 2669 1267 \nL 2669 1260 \nz\n\" id=\"LMRoman17-Regular-35\" transform=\"scale(0.015625)\"/>\n       </defs>\n       <use transform=\"scale(0.996264)\" xlink:href=\"#LMRoman17-Regular-35\"/>\n       <use transform=\"translate(45.690948 0)scale(0.996264)\" xlink:href=\"#LMRoman17-Regular-30\"/>\n       <use transform=\"translate(91.381897 0)scale(0.996264)\" xlink:href=\"#LMRoman17-Regular-30\"/>\n      </g>\n     </g>\n    </g>\n    <g id=\"ytick_3\">\n     <g id=\"line2d_31\">\n      <defs>\n       <path d=\"M 0 0 \nL 3 0 \n\" id=\"m76dc27683d\" style=\"stroke:#000000;\"/>\n      </defs>\n      <g>\n       <use style=\"stroke:#000000;\" x=\"44.497463\" xlink:href=\"#m76dc27683d\" y=\"181.404113\"/>\n      </g>\n     </g>\n    </g>\n    <g id=\"ytick_4\">\n     <g id=\"line2d_32\">\n      <g>\n       <use style=\"stroke:#000000;\" x=\"44.497463\" xlink:href=\"#m76dc27683d\" y=\"162.456745\"/>\n      </g>\n     </g>\n    </g>\n    <g id=\"ytick_5\">\n     <g id=\"line2d_33\">\n      <g>\n       <use style=\"stroke:#000000;\" x=\"44.497463\" xlink:href=\"#m76dc27683d\" y=\"143.509376\"/>\n      </g>\n     </g>\n    </g>\n    <g id=\"ytick_6\">\n     <g id=\"line2d_34\">\n      <g>\n       <use style=\"stroke:#000000;\" x=\"44.497463\" xlink:href=\"#m76dc27683d\" y=\"124.562008\"/>\n      </g>\n     </g>\n    </g>\n    <g id=\"ytick_7\">\n     <g id=\"line2d_35\">\n      <g>\n       <use style=\"stroke:#000000;\" x=\"44.497463\" xlink:href=\"#m76dc27683d\" y=\"86.667271\"/>\n      </g>\n     </g>\n    </g>\n    <g id=\"ytick_8\">\n     <g id=\"line2d_36\">\n      <g>\n       <use style=\"stroke:#000000;\" x=\"44.497463\" xlink:href=\"#m76dc27683d\" y=\"67.719902\"/>\n      </g>\n     </g>\n    </g>\n    <g id=\"ytick_9\">\n     <g id=\"line2d_37\">\n      <g>\n       <use style=\"stroke:#000000;\" x=\"44.497463\" xlink:href=\"#m76dc27683d\" y=\"48.772534\"/>\n      </g>\n     </g>\n    </g>\n    <g id=\"ytick_10\">\n     <g id=\"line2d_38\">\n      <g>\n       <use style=\"stroke:#000000;\" x=\"44.497463\" xlink:href=\"#m76dc27683d\" y=\"29.825166\"/>\n      </g>\n     </g>\n    </g>\n   </g>\n   <g id=\"line2d_39\">\n    <path clip-path=\"url(#p14389fa121)\" d=\"M 44.497463 200.02672 \nL 52.640614 200.021823 \nL 60.783794 200.017371 \nL 68.926934 200.013454 \nL 77.070089 200.010147 \nL 85.213237 200.007514 \nL 93.35642 200.005599 \nL 101.499564 200.004432 \nL 109.642749 200.004029 \nL 117.785891 200.004387 \nL 125.929034 200.005493 \nL 134.07219 200.00732 \nL 142.215364 200.009831 \nL 150.358542 200.012979 \nL 158.501666 200.016711 \nL 166.644837 200.02097 \nL 174.788012 200.025694 \nL 182.931164 200.030821 \nL 191.074323 200.036287 \nL 199.217503 200.042031 \nL 207.360613 200.047995 \nL 215.503787 200.05412 \nL 223.646938 200.060355 \nL 231.790121 200.066651 \nL 239.933263 200.072965 \nL 248.076448 200.079257 \nL 256.2196 200.085493 \nL 264.362751 200.091643 \nL 272.505898 200.097682 \nL 280.649098 200.103588 \nL 288.792222 200.109346 \nL 296.935391 200.114941 \nL 305.078524 200.120363 \nL 313.221692 200.125606 \nL 321.364871 200.130666 \nL 329.507998 200.135541 \nL 337.65117 200.140232 \nL 345.794291 200.144739 \nL 353.937521 200.149067 \nL 362.080647 200.153219 \nL 370.223767 200.157202 \nL 378.366994 200.161022 \nL 386.510118 200.164684 \nL 394.653297 200.168194 \nL 402.796413 200.17156 \nL 410.939602 200.174788 \nL 419.082776 200.177884 \nL 427.225893 200.180854 \nL 435.369077 200.183703 \nL 443.512246 200.186435 \n\" style=\"fill:none;stroke:#1e90ff;stroke-linecap:square;stroke-width:2;\"/>\n   </g>\n   <g id=\"line2d_40\">\n    <path clip-path=\"url(#p14389fa121)\" d=\"M 44.497463 181.576452 \nL 52.640614 181.874313 \nL 60.783794 182.1671 \nL 68.926934 182.454571 \nL 77.070089 182.736464 \nL 85.213237 183.012449 \nL 93.35642 183.282158 \nL 101.499564 183.545168 \nL 109.642749 183.801028 \nL 117.785891 184.049254 \nL 125.929034 184.289337 \nL 134.07219 184.520749 \nL 142.215364 184.742968 \nL 150.358542 184.955497 \nL 158.501666 185.157825 \nL 166.644837 185.349536 \nL 174.788012 185.530235 \nL 182.931164 185.699621 \nL 191.074323 185.857469 \nL 199.217503 186.003648 \nL 207.360613 186.138142 \nL 215.503787 186.26103 \nL 223.646938 186.372503 \nL 231.790121 186.472861 \nL 239.933263 186.562485 \nL 248.076448 186.641867 \nL 256.2196 186.711553 \nL 264.362751 186.772151 \nL 272.505898 186.824326 \nL 280.649098 186.868752 \nL 288.792222 186.90612 \nL 296.935391 186.937113 \nL 305.078524 186.962385 \nL 313.221692 186.98257 \nL 321.364871 186.998238 \nL 329.507998 187.009924 \nL 337.65117 187.01808 \nL 345.794291 187.023109 \nL 353.937521 187.025341 \nL 362.080647 187.025023 \nL 370.223767 187.022361 \nL 378.366994 187.017485 \nL 386.510118 187.010456 \nL 394.653297 187.001297 \nL 402.796413 186.989984 \nL 410.939602 186.976451 \nL 419.082776 186.960596 \nL 427.225893 186.942305 \nL 435.369077 186.921447 \nL 443.512246 186.897874 \n\" style=\"fill:none;stroke:#dc1839;stroke-linecap:square;stroke-width:2;\"/>\n   </g>\n   <g id=\"line2d_41\">\n    <path clip-path=\"url(#p14389fa121)\" d=\"M 44.497463 126.225673 \nL 52.640614 127.431775 \nL 60.783794 128.616281 \nL 68.926934 129.777935 \nL 77.070089 130.915413 \nL 85.213237 132.027247 \nL 93.35642 133.111811 \nL 101.499564 134.167377 \nL 109.642749 135.19202 \nL 117.785891 136.18386 \nL 125.929034 137.140862 \nL 134.07219 138.061036 \nL 142.215364 138.9424 \nL 150.358542 139.783039 \nL 158.501666 140.581178 \nL 166.644837 141.335228 \nL 174.788012 142.043858 \nL 182.931164 142.706033 \nL 191.074323 143.321007 \nL 199.217503 143.888508 \nL 207.360613 144.408601 \nL 215.503787 144.881765 \nL 223.646938 145.30896 \nL 231.790121 145.691469 \nL 239.933263 146.031051 \nL 248.076448 146.3297 \nL 256.2196 146.5897 \nL 264.362751 146.813688 \nL 272.505898 147.004254 \nL 280.649098 147.164256 \nL 288.792222 147.296433 \nL 296.935391 147.403619 \nL 305.078524 147.488451 \nL 313.221692 147.553467 \nL 321.364871 147.60098 \nL 329.507998 147.633089 \nL 337.65117 147.651627 \nL 345.794291 147.658236 \nL 353.937521 147.654171 \nL 362.080647 147.640432 \nL 370.223767 147.617835 \nL 378.366994 147.586877 \nL 386.510118 147.547777 \nL 394.653297 147.500599 \nL 402.796413 147.445274 \nL 410.939602 147.381444 \nL 419.082776 147.308737 \nL 427.225893 147.226658 \nL 435.369077 147.134662 \nL 443.512246 147.0322 \n\" style=\"fill:none;stroke:#ff871e;stroke-linecap:square;stroke-width:2;\"/>\n   </g>\n   <g id=\"line2d_42\">\n    <path clip-path=\"url(#p14389fa121)\" d=\"M 44.497463 33.97432 \nL 52.640614 36.69428 \nL 60.783794 39.364918 \nL 68.926934 41.983504 \nL 77.070089 44.547019 \nL 85.213237 47.051925 \nL 93.35642 49.494579 \nL 101.499564 51.870991 \nL 109.642749 54.177044 \nL 117.785891 56.408194 \nL 125.929034 58.56008 \nL 134.07219 60.628193 \nL 142.215364 62.608091 \nL 150.358542 64.495623 \nL 158.501666 66.28673 \nL 166.644837 67.978127 \nL 174.788012 69.566565 \nL 182.931164 71.050055 \nL 191.074323 72.426931 \nL 199.217503 73.696604 \nL 207.360613 74.859339 \nL 215.503787 75.916351 \nL 223.646938 76.869687 \nL 231.790121 77.722503 \nL 239.933263 78.478663 \nL 248.076448 79.142735 \nL 256.2196 79.720026 \nL 264.362751 80.216215 \nL 272.505898 80.637511 \nL 280.649098 80.990068 \nL 288.792222 81.280316 \nL 296.935391 81.514463 \nL 305.078524 81.698536 \nL 313.221692 81.838271 \nL 321.364871 81.938848 \nL 329.507998 82.004974 \nL 337.65117 82.040882 \nL 345.794291 82.050099 \nL 353.937521 82.035504 \nL 362.080647 81.999446 \nL 370.223767 81.943659 \nL 378.366994 81.869183 \nL 386.510118 81.776585 \nL 394.653297 81.666144 \nL 402.796413 81.537396 \nL 410.939602 81.389716 \nL 419.082776 81.222296 \nL 427.225893 81.033887 \nL 435.369077 80.823377 \nL 443.512246 80.589391 \n\" style=\"fill:none;stroke:#15b34e;stroke-linecap:square;stroke-width:2;\"/>\n   </g>\n   <g id=\"patch_3\">\n    <path d=\"M 44.497463 209.825166 \nL 44.497463 29.825166 \n\" style=\"fill:none;stroke:#000000;stroke-linecap:square;stroke-linejoin:miter;\"/>\n   </g>\n   <g id=\"patch_4\">\n    <path d=\"M 44.497463 209.825166 \nL 443.512241 209.825166 \n\" style=\"fill:none;stroke:#000000;stroke-linecap:square;stroke-linejoin:miter;\"/>\n   </g>\n   <g id=\"patch_5\">\n    <path d=\"M 44.497463 29.825166 \nL 443.512241 29.825166 \n\" style=\"fill:none;stroke:#000000;stroke-linecap:square;stroke-linejoin:miter;\"/>\n   </g>\n   <g id=\"PathCollection_1\">\n    <defs>\n     <path d=\"M 0 -4.1833 \nL -0.939209 -1.292711 \nL -3.978555 -1.292711 \nL -1.519673 0.493772 \nL -2.458882 3.384361 \nL -0 1.597878 \nL 2.458882 3.384361 \nL 1.519673 0.493772 \nL 3.978555 -1.292711 \nL 0.939209 -1.292711 \nz\n\" id=\"m30d3baced8\" style=\"stroke:#000000;\"/>\n    </defs>\n    <g clip-path=\"url(#p14389fa121)\">\n     <use style=\"stroke:#000000;\" x=\"353.937521\" xlink:href=\"#m30d3baced8\" y=\"187.025341\"/>\n    </g>\n   </g>\n   <g id=\"PathCollection_2\">\n    <g clip-path=\"url(#p14389fa121)\">\n     <use style=\"stroke:#000000;\" x=\"345.794291\" xlink:href=\"#m30d3baced8\" y=\"147.658236\"/>\n    </g>\n   </g>\n   <g id=\"PathCollection_3\">\n    <g clip-path=\"url(#p14389fa121)\">\n     <use style=\"stroke:#000000;\" x=\"345.794291\" xlink:href=\"#m30d3baced8\" y=\"82.050099\"/>\n    </g>\n   </g>\n  </g>\n  <g id=\"axes_2\">\n   <g id=\"patch_6\">\n    <path d=\"M 449.896478 209.825166 \nL 476.497463 209.825166 \nL 476.497463 29.825166 \nL 449.896478 29.825166 \nz\n\" style=\"fill:#ffffff;\"/>\n   </g>\n   <g id=\"PathCollection_4\">\n    <defs>\n     <path d=\"M 0 3.535534 \nC 0.937635 3.535534 1.836992 3.163008 2.5 2.5 \nC 3.163008 1.836992 3.535534 0.937635 3.535534 0 \nC 3.535534 -0.937635 3.163008 -1.836992 2.5 -2.5 \nC 1.836992 -3.163008 0.937635 -3.535534 0 -3.535534 \nC -0.937635 -3.535534 -1.836992 -3.163008 -2.5 -2.5 \nC -3.163008 -1.836992 -3.535534 -0.937635 -3.535534 0 \nC -3.535534 0.937635 -3.163008 1.836992 -2.5 2.5 \nC -1.836992 3.163008 -0.937635 3.535534 0 3.535534 \nz\n\" id=\"md7325d97b6\" style=\"stroke:#1e90ff;\"/>\n    </defs>\n    <g clip-path=\"url(#p6c80a70367)\">\n     <use style=\"fill:#1e90ff;stroke:#1e90ff;\" x=\"463.19697\" xlink:href=\"#md7325d97b6\" y=\"200.231968\"/>\n    </g>\n   </g>\n   <g id=\"PathCollection_5\">\n    <defs>\n     <path d=\"M 0 3.535534 \nC 0.937635 3.535534 1.836992 3.163008 2.5 2.5 \nC 3.163008 1.836992 3.535534 0.937635 3.535534 0 \nC 3.535534 -0.937635 3.163008 -1.836992 2.5 -2.5 \nC 1.836992 -3.163008 0.937635 -3.535534 0 -3.535534 \nC -0.937635 -3.535534 -1.836992 -3.163008 -2.5 -2.5 \nC -3.163008 -1.836992 -3.535534 -0.937635 -3.535534 0 \nC -3.535534 0.937635 -3.163008 1.836992 -2.5 2.5 \nC -1.836992 3.163008 -0.937635 3.535534 0 3.535534 \nz\n\" id=\"m112a27db03\" style=\"stroke:#dc1839;\"/>\n    </defs>\n    <g clip-path=\"url(#p6c80a70367)\">\n     <use style=\"fill:#dc1839;stroke:#dc1839;\" x=\"463.19697\" xlink:href=\"#m112a27db03\" y=\"182.682812\"/>\n    </g>\n   </g>\n   <g id=\"PathCollection_6\">\n    <defs>\n     <path d=\"M 0 3.535534 \nC 0.937635 3.535534 1.836992 3.163008 2.5 2.5 \nC 3.163008 1.836992 3.535534 0.937635 3.535534 0 \nC 3.535534 -0.937635 3.163008 -1.836992 2.5 -2.5 \nC 1.836992 -3.163008 0.937635 -3.535534 0 -3.535534 \nC -0.937635 -3.535534 -1.836992 -3.163008 -2.5 -2.5 \nC -3.163008 -1.836992 -3.535534 -0.937635 -3.535534 0 \nC -3.535534 0.937635 -3.163008 1.836992 -2.5 2.5 \nC -1.836992 3.163008 -0.937635 3.535534 0 3.535534 \nz\n\" id=\"m4cd46bbfa4\" style=\"stroke:#ff871e;\"/>\n    </defs>\n    <g clip-path=\"url(#p6c80a70367)\">\n     <use style=\"fill:#ff871e;stroke:#ff871e;\" x=\"463.19697\" xlink:href=\"#m4cd46bbfa4\" y=\"130.035385\"/>\n    </g>\n   </g>\n   <g id=\"PathCollection_7\">\n    <defs>\n     <path d=\"M 0 3.535534 \nC 0.937635 3.535534 1.836992 3.163008 2.5 2.5 \nC 3.163008 1.836992 3.535534 0.937635 3.535534 0 \nC 3.535534 -0.937635 3.163008 -1.836992 2.5 -2.5 \nC 1.836992 -3.163008 0.937635 -3.535534 0 -3.535534 \nC -0.937635 -3.535534 -1.836992 -3.163008 -2.5 -2.5 \nC -3.163008 -1.836992 -3.535534 -0.937635 -3.535534 0 \nC -3.535534 0.937635 -3.163008 1.836992 -2.5 2.5 \nC -1.836992 3.163008 -0.937635 3.535534 0 3.535534 \nz\n\" id=\"m4ed98e27e9\" style=\"stroke:#15b34e;\"/>\n    </defs>\n    <g clip-path=\"url(#p6c80a70367)\">\n     <use style=\"fill:#15b34e;stroke:#15b34e;\" x=\"463.19697\" xlink:href=\"#m4ed98e27e9\" y=\"42.289606\"/>\n    </g>\n   </g>\n   <g id=\"matplotlib.axis_3\">\n    <g id=\"xtick_15\">\n     <g id=\"line2d_43\">\n      <g>\n       <use style=\"stroke:#000000;\" x=\"449.896478\" xlink:href=\"#m760838db9b\" y=\"209.825166\"/>\n      </g>\n     </g>\n     <g id=\"line2d_44\">\n      <g>\n       <use style=\"stroke:#000000;\" x=\"449.896478\" xlink:href=\"#m38f2ccdc8c\" y=\"29.825166\"/>\n      </g>\n     </g>\n    </g>\n    <g id=\"xtick_16\">\n     <g id=\"line2d_45\">\n      <g>\n       <use style=\"stroke:#000000;\" x=\"463.19697\" xlink:href=\"#m760838db9b\" y=\"209.825166\"/>\n      </g>\n     </g>\n     <g id=\"line2d_46\">\n      <g>\n       <use style=\"stroke:#000000;\" x=\"463.19697\" xlink:href=\"#m38f2ccdc8c\" y=\"29.825166\"/>\n      </g>\n     </g>\n     <g id=\"text_6\">\n      <!-- $\\infty$ -->\n      <g transform=\"translate(451.241772 234.036149)scale(0.24 -0.24)\">\n       <defs>\n        <path d=\"M 6035 1385 \nC 6035 2094 5587 2828 4826 2828 \nC 3904 2828 3334 1883 3251 1743 \nC 2822 2260 2816 2266 2675 2387 \nC 2470 2560 2093 2828 1587 2828 \nC 845 2828 358 2132 358 1379 \nC 358 670 806 -64 1568 -64 \nC 2490 -64 3059 881 3142 1021 \nC 3571 504 3578 498 3718 377 \nC 3923 204 4301 -64 4806 -64 \nC 5549 -64 6035 632 6035 1385 \nz\nM 5894 1385 \nC 5894 747 5446 242 4909 242 \nC 4614 242 4352 389 4064 702 \nC 3885 900 3597 1302 3418 1519 \nC 3661 1953 4147 2624 4870 2624 \nC 5549 2624 5894 1960 5894 1385 \nz\nM 2976 1245 \nC 2733 811 2246 140 1523 140 \nC 845 140 499 804 499 1379 \nC 499 2017 947 2521 1485 2521 \nC 1779 2521 2042 2375 2330 2062 \nC 2509 1864 2797 1462 2976 1245 \nz\n\" id=\"LMMathSymbols10-Regular-31\" transform=\"scale(0.015625)\"/>\n       </defs>\n       <use transform=\"scale(0.996264)\" xlink:href=\"#LMMathSymbols10-Regular-31\"/>\n      </g>\n     </g>\n    </g>\n    <g id=\"xtick_17\">\n     <g id=\"line2d_47\">\n      <g>\n       <use style=\"stroke:#000000;\" x=\"476.497463\" xlink:href=\"#m760838db9b\" y=\"209.825166\"/>\n      </g>\n     </g>\n     <g id=\"line2d_48\">\n      <g>\n       <use style=\"stroke:#000000;\" x=\"476.497463\" xlink:href=\"#m38f2ccdc8c\" y=\"29.825166\"/>\n      </g>\n     </g>\n    </g>\n    <g id=\"xtick_18\"/>\n    <g id=\"xtick_19\"/>\n    <g id=\"xtick_20\"/>\n    <g id=\"xtick_21\"/>\n    <g id=\"xtick_22\"/>\n    <g id=\"xtick_23\"/>\n    <g id=\"xtick_24\"/>\n    <g id=\"xtick_25\"/>\n   </g>\n   <g id=\"matplotlib.axis_4\">\n    <g id=\"ytick_11\">\n     <g id=\"line2d_49\">\n      <defs>\n       <path d=\"M 0 0 \nL -6 0 \n\" id=\"mbcd1bdd73e\" style=\"stroke:#000000;\"/>\n      </defs>\n      <g>\n       <use style=\"stroke:#000000;\" x=\"476.497463\" xlink:href=\"#mbcd1bdd73e\" y=\"200.351481\"/>\n      </g>\n     </g>\n    </g>\n    <g id=\"ytick_12\">\n     <g id=\"line2d_50\">\n      <g>\n       <use style=\"stroke:#000000;\" x=\"476.497463\" xlink:href=\"#mbcd1bdd73e\" y=\"105.614639\"/>\n      </g>\n     </g>\n    </g>\n    <g id=\"ytick_13\">\n     <g id=\"line2d_51\">\n      <defs>\n       <path d=\"M 0 0 \nL -3 0 \n\" id=\"m884504874f\" style=\"stroke:#000000;\"/>\n      </defs>\n      <g>\n       <use style=\"stroke:#000000;\" x=\"476.497463\" xlink:href=\"#m884504874f\" y=\"181.404113\"/>\n      </g>\n     </g>\n    </g>\n    <g id=\"ytick_14\">\n     <g id=\"line2d_52\">\n      <g>\n       <use style=\"stroke:#000000;\" x=\"476.497463\" xlink:href=\"#m884504874f\" y=\"162.456745\"/>\n      </g>\n     </g>\n    </g>\n    <g id=\"ytick_15\">\n     <g id=\"line2d_53\">\n      <g>\n       <use style=\"stroke:#000000;\" x=\"476.497463\" xlink:href=\"#m884504874f\" y=\"143.509376\"/>\n      </g>\n     </g>\n    </g>\n    <g id=\"ytick_16\">\n     <g id=\"line2d_54\">\n      <g>\n       <use style=\"stroke:#000000;\" x=\"476.497463\" xlink:href=\"#m884504874f\" y=\"124.562008\"/>\n      </g>\n     </g>\n    </g>\n    <g id=\"ytick_17\">\n     <g id=\"line2d_55\">\n      <g>\n       <use style=\"stroke:#000000;\" x=\"476.497463\" xlink:href=\"#m884504874f\" y=\"86.667271\"/>\n      </g>\n     </g>\n    </g>\n    <g id=\"ytick_18\">\n     <g id=\"line2d_56\">\n      <g>\n       <use style=\"stroke:#000000;\" x=\"476.497463\" xlink:href=\"#m884504874f\" y=\"67.719902\"/>\n      </g>\n     </g>\n    </g>\n    <g id=\"ytick_19\">\n     <g id=\"line2d_57\">\n      <g>\n       <use style=\"stroke:#000000;\" x=\"476.497463\" xlink:href=\"#m884504874f\" y=\"48.772534\"/>\n      </g>\n     </g>\n    </g>\n    <g id=\"ytick_20\">\n     <g id=\"line2d_58\">\n      <g>\n       <use style=\"stroke:#000000;\" x=\"476.497463\" xlink:href=\"#m884504874f\" y=\"29.825166\"/>\n      </g>\n     </g>\n    </g>\n   </g>\n   <g id=\"patch_7\">\n    <path d=\"M 476.497463 209.825166 \nL 476.497463 29.825166 \n\" style=\"fill:none;stroke:#000000;stroke-linecap:square;stroke-linejoin:miter;\"/>\n   </g>\n   <g id=\"patch_8\">\n    <path d=\"M 449.896478 209.825166 \nL 476.497463 209.825166 \n\" style=\"fill:none;stroke:#000000;stroke-linecap:square;stroke-linejoin:miter;\"/>\n   </g>\n   <g id=\"patch_9\">\n    <path d=\"M 449.896478 29.825166 \nL 476.497463 29.825166 \n\" style=\"fill:none;stroke:#000000;stroke-linecap:square;stroke-linejoin:miter;\"/>\n   </g>\n   <g id=\"PathCollection_8\">\n    <g clip-path=\"url(#p6c80a70367)\">\n     <use style=\"stroke:#000000;\" x=\"463.19697\" xlink:href=\"#m30d3baced8\" y=\"200.186435\"/>\n    </g>\n   </g>\n  </g>\n  <g id=\"text_7\">\n   <!-- Linearized Model Expected Cost -->\n   <g transform=\"translate(56.390924 23.863733)scale(0.3 -0.3)\">\n    <defs>\n     <path d=\"M 3667 1110 \nC 3558 868 3469 721 3373 613 \nC 3149 364 2797 249 2266 249 \nL 1837 249 \nC 1370 249 1286 287 1286 511 \nL 1286 3528 \nC 1286 3981 1376 4070 1882 4102 \nL 1882 4224 \nL 77 4224 \nL 77 4102 \nC 550 4064 634 3974 634 3528 \nL 634 696 \nC 634 249 544 153 77 121 \nL 77 0 \nL 3520 0 \nL 3827 1113 \nL 3667 1110 \nz\n\" id=\"NimbusRomNo9L-Regu-4c\" transform=\"scale(0.015625)\"/>\n     <path d=\"M 1120 2944 \nL 128 2592 \nL 128 2496 \nL 179 2502 \nC 256 2515 339 2521 397 2521 \nC 550 2521 608 2419 608 2137 \nL 608 652 \nC 608 192 544 121 102 96 \nL 102 0 \nL 1619 0 \nL 1619 96 \nC 1197 128 1146 192 1146 652 \nL 1146 2924 \nL 1120 2944 \nz\nM 819 4352 \nC 646 4352 499 4204 499 4025 \nC 499 3846 640 3699 819 3699 \nC 1005 3699 1152 3839 1152 4025 \nC 1152 4204 1005 4352 819 4352 \nz\n\" id=\"NimbusRomNo9L-Regu-69\" transform=\"scale(0.015625)\"/>\n     <path d=\"M 102 2547 \nC 141 2566 205 2572 275 2572 \nC 454 2572 512 2476 512 2163 \nL 512 576 \nC 512 211 442 121 115 96 \nL 115 0 \nL 1472 0 \nL 1472 96 \nC 1146 121 1050 198 1050 428 \nL 1050 2227 \nC 1357 2515 1498 2591 1709 2591 \nC 2022 2591 2176 2393 2176 1971 \nL 2176 633 \nC 2176 230 2093 121 1773 96 \nL 1773 0 \nL 3104 0 \nL 3104 96 \nC 2790 128 2714 204 2714 518 \nL 2714 1984 \nC 2714 2585 2432 2944 1958 2944 \nC 1664 2944 1466 2835 1030 2425 \nL 1030 2931 \nL 986 2944 \nC 672 2828 454 2758 102 2655 \nL 102 2547 \nz\n\" id=\"NimbusRomNo9L-Regu-6e\" transform=\"scale(0.015625)\"/>\n     <path d=\"M 2611 1052 \nC 2304 564 2029 377 1619 377 \nC 1254 377 979 564 794 930 \nC 678 1174 634 1386 621 1779 \nL 2592 1779 \nC 2541 2193 2477 2377 2317 2580 \nC 2125 2809 1830 2944 1498 2944 \nC 1178 2944 877 2828 634 2612 \nC 333 2351 160 1900 160 1374 \nC 160 486 621 -64 1357 -64 \nC 1965 -64 2445 313 2714 1007 \nL 2611 1052 \nz\nM 634 1984 \nC 704 2478 922 2713 1312 2713 \nC 1702 2713 1856 2535 1939 1984 \nL 634 1984 \nz\n\" id=\"NimbusRomNo9L-Regu-65\" transform=\"scale(0.015625)\"/>\n     <path d=\"M 2829 422 \nC 2720 332 2643 300 2547 300 \nC 2400 300 2355 390 2355 672 \nL 2355 1920 \nC 2355 2252 2323 2438 2227 2592 \nC 2086 2822 1811 2944 1434 2944 \nC 832 2944 358 2630 358 2227 \nC 358 2080 486 1952 634 1952 \nC 787 1952 922 2080 922 2220 \nC 922 2246 915 2278 909 2323 \nC 896 2380 890 2432 890 2476 \nC 890 2649 1094 2790 1350 2790 \nC 1664 2790 1837 2604 1837 2259 \nL 1837 1868 \nC 851 1472 742 1420 467 1177 \nC 326 1049 237 832 237 620 \nC 237 217 518 -64 909 -64 \nC 1190 -64 1453 70 1843 403 \nC 1875 70 1990 -64 2253 -64 \nC 2470 -64 2605 12 2829 256 \nL 2829 422 \nz\nM 1837 787 \nC 1837 588 1805 531 1670 454 \nC 1517 364 1338 307 1203 307 \nC 979 307 800 524 800 800 \nL 800 825 \nC 800 1203 1062 1433 1837 1715 \nL 1837 787 \nz\n\" id=\"NimbusRomNo9L-Regu-61\" transform=\"scale(0.015625)\"/>\n     <path d=\"M 45 2496 \nC 134 2515 192 2521 269 2521 \nC 429 2521 486 2419 486 2137 \nL 486 537 \nC 486 217 442 172 32 96 \nL 32 0 \nL 1568 0 \nL 1568 96 \nC 1133 115 1024 211 1024 576 \nL 1024 2016 \nC 1024 2220 1299 2540 1472 2540 \nC 1510 2540 1568 2508 1638 2444 \nC 1741 2355 1811 2316 1894 2316 \nC 2048 2316 2144 2425 2144 2604 \nC 2144 2815 2010 2944 1792 2944 \nC 1523 2944 1338 2796 1024 2342 \nL 1024 2931 \nL 992 2944 \nC 653 2803 422 2720 45 2598 \nL 45 2496 \nz\n\" id=\"NimbusRomNo9L-Regu-72\" transform=\"scale(0.015625)\"/>\n     <path d=\"M 2675 864 \nL 2560 889 \nC 2496 569 2458 467 2374 358 \nC 2285 249 2067 192 1741 192 \nL 858 192 \nL 2579 2783 \nL 2579 2880 \nL 358 2880 \nL 339 2124 \nL 454 2124 \nC 512 2592 608 2687 992 2687 \nL 1875 2687 \nL 173 96 \nL 173 0 \nL 2586 0 \nL 2675 864 \nz\n\" id=\"NimbusRomNo9L-Regu-7a\" transform=\"scale(0.015625)\"/>\n     <path d=\"M 2202 -64 \nL 3142 268 \nL 3142 371 \nC 3027 364 3014 364 2995 364 \nC 2765 364 2714 435 2714 729 \nL 2714 4358 \nL 2682 4371 \nC 2374 4262 2150 4198 1741 4089 \nL 1741 3987 \nC 1792 3993 1830 3993 1882 3993 \nC 2118 3993 2176 3929 2176 3667 \nL 2176 2668 \nC 1933 2873 1760 2944 1504 2944 \nC 768 2944 173 2220 173 1312 \nC 173 492 653 -64 1357 -64 \nC 1715 -64 1958 64 2176 364 \nL 2176 -45 \nL 2202 -64 \nz\nM 2176 652 \nC 2176 608 2131 531 2067 460 \nC 1952 332 1792 268 1606 268 \nC 1075 268 723 780 723 1568 \nC 723 2291 1037 2764 1523 2764 \nC 1862 2764 2176 2464 2176 2124 \nL 2176 652 \nz\n\" id=\"NimbusRomNo9L-Regu-64\" transform=\"scale(0.015625)\"/>\n     <path d=\"M 4314 3656 \nL 4314 765 \nC 4314 236 4237 153 3731 121 \nL 3731 0 \nL 5523 0 \nL 5523 121 \nC 5056 153 4966 242 4966 695 \nL 4966 3528 \nC 4966 3981 5050 4064 5523 4102 \nL 5523 4224 \nL 4250 4224 \nL 2835 1002 \nL 1357 4224 \nL 90 4224 \nL 90 4102 \nC 614 4070 698 3994 698 3528 \nL 698 938 \nC 698 281 608 159 77 121 \nL 77 0 \nL 1581 0 \nL 1581 121 \nC 1088 147 979 293 979 938 \nL 979 3509 \nL 2586 0 \nL 2675 0 \nL 4314 3656 \nz\n\" id=\"NimbusRomNo9L-Regu-4d\" transform=\"scale(0.015625)\"/>\n     <path d=\"M 1600 2944 \nC 768 2944 186 2329 186 1446 \nC 186 582 781 -64 1587 -64 \nC 2394 -64 3008 614 3008 1497 \nC 3008 2336 2419 2944 1600 2944 \nz\nM 1517 2764 \nC 2054 2764 2432 2150 2432 1273 \nC 2432 550 2144 115 1664 115 \nC 1414 115 1178 268 1043 524 \nC 864 857 762 1305 762 1760 \nC 762 2368 1062 2764 1517 2764 \nz\n\" id=\"NimbusRomNo9L-Regu-6f\" transform=\"scale(0.015625)\"/>\n     <path d=\"M 122 3987 \nL 160 3987 \nC 230 3993 307 4000 358 4000 \nC 563 4000 627 3910 627 3609 \nL 627 556 \nC 627 211 538 128 134 96 \nL 134 0 \nL 1645 0 \nL 1645 96 \nC 1242 121 1165 185 1165 537 \nL 1165 4358 \nL 1139 4371 \nC 806 4262 563 4198 122 4089 \nL 122 3987 \nz\n\" id=\"NimbusRomNo9L-Regu-6c\" transform=\"scale(0.015625)\"/>\n     <path d=\"M 3821 1087 \nL 3642 1087 \nC 3322 391 3046 236 2131 236 \nL 1958 236 \nC 1645 236 1376 269 1331 314 \nC 1299 333 1286 404 1286 513 \nL 1286 2105 \nL 2272 2105 \nC 2797 2105 2893 2021 2976 1487 \nL 3123 1487 \nL 3123 2966 \nL 2976 2966 \nC 2931 2708 2906 2613 2835 2525 \nC 2752 2418 2573 2368 2272 2368 \nL 1286 2368 \nL 1286 3766 \nC 1286 3942 1325 3980 1498 3980 \nL 2362 3980 \nC 3085 3980 3226 3886 3334 3319 \nL 3494 3319 \nL 3475 4224 \nL 77 4224 \nL 77 4102 \nC 550 4064 634 3975 634 3528 \nL 634 695 \nC 634 249 544 153 77 121 \nL 77 0 \nL 3533 0 \nL 3821 1087 \nz\n\" id=\"NimbusRomNo9L-Regu-45\" transform=\"scale(0.015625)\"/>\n     <path d=\"M 1779 0 \nL 3066 0 \nL 3066 96 \nC 2867 96 2739 198 2541 480 \nL 1722 1734 \nL 2253 2502 \nC 2374 2675 2566 2777 2771 2783 \nL 2771 2880 \nL 1760 2880 \nL 1760 2783 \nC 1952 2771 2016 2732 2016 2643 \nC 2016 2566 1939 2425 1779 2227 \nC 1747 2188 1670 2073 1587 1945 \nL 1498 2073 \nC 1318 2342 1203 2560 1203 2643 \nC 1203 2732 1286 2777 1478 2783 \nL 1478 2880 \nL 154 2880 \nL 154 2783 \nL 211 2783 \nC 403 2783 506 2700 704 2400 \nL 1306 1478 \nL 576 422 \nC 384 160 320 115 109 96 \nL 109 0 \nL 1037 0 \nL 1037 96 \nC 858 96 781 128 781 211 \nC 781 249 826 345 909 473 \nL 1414 1260 \nL 1997 364 \nC 2022 326 2035 288 2035 249 \nC 2035 134 1990 108 1779 96 \nL 1779 0 \nz\n\" id=\"NimbusRomNo9L-Regu-78\" transform=\"scale(0.015625)\"/>\n     <path d=\"M 58 2515 \nC 115 2521 160 2521 218 2521 \nC 435 2521 480 2457 480 2157 \nL 480 -839 \nC 480 -1172 410 -1242 32 -1280 \nL 32 -1389 \nL 1581 -1389 \nL 1581 -1280 \nC 1101 -1274 1018 -1203 1018 -798 \nL 1018 211 \nC 1242 0 1395 -64 1664 -64 \nC 2419 -64 3008 652 3008 1580 \nC 3008 2374 2560 2944 1939 2944 \nC 1581 2944 1299 2783 1018 2438 \nL 1018 2931 \nL 979 2944 \nC 634 2809 410 2726 58 2617 \nL 58 2515 \nz\nM 1018 2137 \nC 1018 2329 1376 2559 1670 2559 \nC 2144 2559 2458 2073 2458 1331 \nC 2458 620 2144 140 1683 140 \nC 1382 140 1018 371 1018 563 \nL 1018 2137 \nz\n\" id=\"NimbusRomNo9L-Regu-70\" transform=\"scale(0.015625)\"/>\n     <path d=\"M 2547 998 \nC 2240 550 2010 396 1645 396 \nC 1062 396 653 908 653 1644 \nC 653 2303 1005 2758 1523 2758 \nC 1754 2758 1837 2687 1901 2451 \nL 1939 2310 \nC 1990 2131 2106 2015 2240 2015 \nC 2406 2015 2547 2137 2547 2284 \nC 2547 2643 2099 2944 1562 2944 \nC 1248 2944 922 2815 659 2585 \nC 339 2303 160 1868 160 1363 \nC 160 531 666 -64 1376 -64 \nC 1664 -64 1920 38 2150 236 \nC 2323 390 2445 563 2637 940 \nL 2547 998 \nz\n\" id=\"NimbusRomNo9L-Regu-63\" transform=\"scale(0.015625)\"/>\n     <path d=\"M 1632 2880 \nL 986 2880 \nL 986 3622 \nC 986 3686 979 3705 941 3705 \nC 896 3648 858 3590 813 3526 \nC 570 3174 294 2867 192 2841 \nC 122 2796 83 2751 83 2719 \nC 83 2700 90 2687 109 2675 \nL 448 2675 \nL 448 748 \nC 448 211 640 -64 1018 -64 \nC 1331 -64 1574 89 1786 422 \nL 1702 492 \nC 1568 332 1459 268 1318 268 \nC 1082 268 986 441 986 844 \nL 986 2675 \nL 1632 2675 \nL 1632 2880 \nz\n\" id=\"NimbusRomNo9L-Regu-74\" transform=\"scale(0.015625)\"/>\n     <path d=\"M 3968 2905 \nL 3910 4352 \nL 3776 4352 \nC 3738 4217 3635 4140 3507 4140 \nC 3450 4140 3354 4159 3258 4198 \nC 2944 4300 2624 4352 2323 4352 \nC 1798 4352 1267 4153 870 3801 \nC 422 3405 179 2809 179 2105 \nC 179 1510 371 960 698 595 \nC 1082 179 1670 -64 2304 -64 \nC 3027 -64 3661 230 4051 748 \nL 3936 864 \nC 3462 409 3040 217 2509 217 \nC 2106 217 1747 345 1472 588 \nC 1120 902 922 1478 922 2188 \nC 922 3347 1517 4095 2445 4095 \nC 2810 4095 3142 3961 3398 3705 \nC 3603 3501 3699 3321 3821 2905 \nL 3968 2905 \nz\n\" id=\"NimbusRomNo9L-Regu-43\" transform=\"scale(0.015625)\"/>\n     <path d=\"M 2016 2009 \nL 1990 2880 \nL 1920 2880 \nL 1907 2867 \nC 1850 2822 1843 2815 1818 2815 \nC 1779 2815 1715 2828 1645 2860 \nC 1504 2918 1363 2944 1197 2944 \nC 691 2944 326 2617 326 2155 \nC 326 1796 531 1539 1075 1231 \nL 1446 1019 \nC 1670 891 1779 737 1779 538 \nC 1779 256 1574 76 1248 76 \nC 1030 76 832 160 710 301 \nC 576 461 518 609 435 974 \nL 333 974 \nL 333 -26 \nL 416 -26 \nC 461 38 486 51 563 51 \nC 621 51 710 38 858 0 \nC 1037 -39 1210 -64 1325 -64 \nC 1818 -64 2227 307 2227 756 \nC 2227 1077 2074 1289 1690 1520 \nL 998 1930 \nC 819 2033 723 2193 723 2366 \nC 723 2623 922 2803 1216 2803 \nC 1581 2803 1773 2585 1920 2014 \nL 2016 2009 \nz\n\" id=\"NimbusRomNo9L-Regu-73\" transform=\"scale(0.015625)\"/>\n    </defs>\n    <use transform=\"scale(0.996264)\" xlink:href=\"#NimbusRomNo9L-Regu-4c\"/>\n    <use transform=\"translate(60.871631 0)scale(0.996264)\" xlink:href=\"#NimbusRomNo9L-Regu-69\"/>\n    <use transform=\"translate(88.5668 0)scale(0.996264)\" xlink:href=\"#NimbusRomNo9L-Regu-6e\"/>\n    <use transform=\"translate(138.380001 0)scale(0.996264)\" xlink:href=\"#NimbusRomNo9L-Regu-65\"/>\n    <use transform=\"translate(182.613569 0)scale(0.996264)\" xlink:href=\"#NimbusRomNo9L-Regu-61\"/>\n    <use transform=\"translate(226.847138 0)scale(0.996264)\" xlink:href=\"#NimbusRomNo9L-Regu-72\"/>\n    <use transform=\"translate(260.022368 0)scale(0.996264)\" xlink:href=\"#NimbusRomNo9L-Regu-69\"/>\n    <use transform=\"translate(287.717538 0)scale(0.996264)\" xlink:href=\"#NimbusRomNo9L-Regu-7a\"/>\n    <use transform=\"translate(331.951106 0)scale(0.996264)\" xlink:href=\"#NimbusRomNo9L-Regu-65\"/>\n    <use transform=\"translate(376.184675 0)scale(0.996264)\" xlink:href=\"#NimbusRomNo9L-Regu-64\"/>\n    <use transform=\"translate(450.904476 0)scale(0.996264)\" xlink:href=\"#NimbusRomNo9L-Regu-4d\"/>\n    <use transform=\"translate(539.471382 0)scale(0.996264)\" xlink:href=\"#NimbusRomNo9L-Regu-6f\"/>\n    <use transform=\"translate(589.284583 0)scale(0.996264)\" xlink:href=\"#NimbusRomNo9L-Regu-64\"/>\n    <use transform=\"translate(639.097783 0)scale(0.996264)\" xlink:href=\"#NimbusRomNo9L-Regu-65\"/>\n    <use transform=\"translate(683.331352 0)scale(0.996264)\" xlink:href=\"#NimbusRomNo9L-Regu-6c\"/>\n    <use transform=\"translate(735.933122 0)scale(0.996264)\" xlink:href=\"#NimbusRomNo9L-Regu-45\"/>\n    <use transform=\"translate(796.804753 0)scale(0.996264)\" xlink:href=\"#NimbusRomNo9L-Regu-78\"/>\n    <use transform=\"translate(846.617953 0)scale(0.996264)\" xlink:href=\"#NimbusRomNo9L-Regu-70\"/>\n    <use transform=\"translate(896.431154 0)scale(0.996264)\" xlink:href=\"#NimbusRomNo9L-Regu-65\"/>\n    <use transform=\"translate(940.664722 0)scale(0.996264)\" xlink:href=\"#NimbusRomNo9L-Regu-63\"/>\n    <use transform=\"translate(984.898291 0)scale(0.996264)\" xlink:href=\"#NimbusRomNo9L-Regu-74\"/>\n    <use transform=\"translate(1012.593461 0)scale(0.996264)\" xlink:href=\"#NimbusRomNo9L-Regu-65\"/>\n    <use transform=\"translate(1056.827029 0)scale(0.996264)\" xlink:href=\"#NimbusRomNo9L-Regu-64\"/>\n    <use transform=\"translate(1131.54683 0)scale(0.996264)\" xlink:href=\"#NimbusRomNo9L-Regu-43\"/>\n    <use transform=\"translate(1197.996861 0)scale(0.996264)\" xlink:href=\"#NimbusRomNo9L-Regu-6f\"/>\n    <use transform=\"translate(1247.810062 0)scale(0.996264)\" xlink:href=\"#NimbusRomNo9L-Regu-73\"/>\n    <use transform=\"translate(1286.563768 0)scale(0.996264)\" xlink:href=\"#NimbusRomNo9L-Regu-74\"/>\n   </g>\n  </g>\n </g>\n <defs>\n  <clipPath id=\"p14389fa121\">\n   <rect height=\"180\" width=\"399.014778\" x=\"44.497463\" y=\"29.825166\"/>\n  </clipPath>\n  <clipPath id=\"p6c80a70367\">\n   <rect height=\"180\" width=\"26.600985\" x=\"449.896478\" y=\"29.825166\"/>\n  </clipPath>\n </defs>\n</svg>\n"
     },
     "metadata": {
      "needs_background": "light"
     },
     "output_type": "display_data"
    }
   ],
   "source": [
    "colors = ['#1E90FF', '#DC1839', '#FF871E', '#15B34E']\n",
    "color_cycler = cycler.cycler(color=colors)\n",
    "\n",
    "# Weird bug in EPS file if I don't load then unload IEEE mode...\n",
    "plt.style.use(['science', 'ieee', 'notebook'])\n",
    "plt.style.use(['science', 'notebook'])\n",
    "\n",
    "plt.rc('text', usetex=True)\n",
    "plt.rc('font', family='serif', serif='times')\n",
    "plt.rc('axes', prop_cycle=color_cycler)\n",
    "plt.rc('text.latex', preamble='\\\\usepackage{lmodern}\\n\\\\renewcommand{\\\\rmdefault}{ptm}')\n",
    "\n",
    "\n",
    "f, ax = plt.subplots(1, 2, sharey=True,\n",
    "                     gridspec_kw={'width_ratios': [15, 1]})\n",
    "\n",
    "for i, scale in enumerate(noise_coeffs):\n",
    "    ax[0].plot(inv_temps, expected_problem_value[:, i])\n",
    "    ax[1].scatter(0, lqr_expected_costs[i], s=50)\n",
    "\n",
    "    if i > 0:\n",
    "        ax[0].scatter(best_inv_temps[i], expected_problem_value[:, i].min(), s=70, c='k', marker='*', zorder=3)\n",
    "\n",
    "ax[0].set_xlim([10, 10 ** 2.7])\n",
    "ax[0].set_ylim([-50, 900])\n",
    "ax[0].spines['right'].set_visible(False)\n",
    "ax[0].tick_params(axis='y', which='both', right=False)\n",
    "ax[0].tick_params(axis='both', which='major', pad=8.0, labelsize=24)\n",
    "ax[0].set_xscale('log')\n",
    "\n",
    "ax[1].scatter(0.0, expected_problem_value[:, 0].min(), s=70, c='k', marker='*', zorder=3)\n",
    "ax[1].set_xlim([-0.5, 0.5])\n",
    "#ax[1].set_xticks([1.0])\n",
    "ax[1].set_xticklabels(['', '$\\infty$', ''])\n",
    "ax[1].tick_params(axis='x', which='minor', bottom=False, top=False)\n",
    "ax[1].tick_params(axis='x', which='major', pad=8.0, labelsize=24)\n",
    "\n",
    "ax[1].tick_params(axis='y', which='both', left=False)\n",
    "ax[1].spines['left'].set_visible(False)\n",
    "\n",
    "\n",
    "set_size(6, 2.5, ax[0])\n",
    "\n",
    "\n",
    "ax[0].set_xlabel('$\\\\beta$', fontsize=26, labelpad=-13)\n",
    "f.suptitle('Linearized Model Expected Cost', fontsize=30, y=0.99)\n",
    "f.subplots_adjust(wspace=0.03)\n",
    "\n",
    "util.savefig('figures/log-beta-expectation-analytic-with-inf', figure_formats)"
   ]
  },
  {
   "cell_type": "code",
   "execution_count": null,
   "outputs": [],
   "source": [],
   "metadata": {
    "collapsed": false,
    "pycharm": {
     "name": "#%%"
    }
   }
  }
 ],
 "metadata": {
  "kernelspec": {
   "display_name": "Python 3",
   "language": "python",
   "name": "python3"
  },
  "language_info": {
   "codemirror_mode": {
    "name": "ipython",
    "version": 3
   },
   "file_extension": ".py",
   "mimetype": "text/x-python",
   "name": "python",
   "nbconvert_exporter": "python",
   "pygments_lexer": "ipython3",
   "version": "3.9.5"
  }
 },
 "nbformat": 4,
 "nbformat_minor": 4
}