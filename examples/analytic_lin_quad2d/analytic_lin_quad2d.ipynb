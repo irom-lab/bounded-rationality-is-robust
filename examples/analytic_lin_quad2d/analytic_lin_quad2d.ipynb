{
 "cells": [
  {
   "cell_type": "code",
   "execution_count": 1,
   "metadata": {},
   "outputs": [],
   "source": [
    "import os\n",
    "import sys\n",
    "\n",
    "module_path = os.path.abspath(os.path.join('../../'))\n",
    "\n",
    "if module_path not in sys.path:\n",
    "    sys.path.append(module_path)"
   ]
  },
  {
   "cell_type": "code",
   "execution_count": 2,
   "metadata": {
    "pycharm": {
     "name": "#%%\n"
    }
   },
   "outputs": [],
   "source": [
    "import jax\n",
    "import jax.numpy as jnp\n",
    "import jax.random as rnd\n",
    "import jax.experimental.optimizers as opt\n",
    "import jax.scipy as jsp\n",
    "\n",
    "from tqdm import tqdm\n",
    "\n",
    "import matplotlib.pyplot as plt\n",
    "import matplotlib.font_manager as fm\n",
    "\n",
    "from rationality import dynamics as dyn, objectives as obj, distributions as dst, \\\n",
    "    controllers as ctl, simulate as sim, util as utils"
   ]
  },
  {
   "cell_type": "code",
   "execution_count": 3,
   "metadata": {
    "pycharm": {
     "name": "#%%\n"
    }
   },
   "outputs": [],
   "source": [
    "save_data = False"
   ]
  },
  {
   "cell_type": "code",
   "execution_count": 4,
   "metadata": {
    "pycharm": {
     "name": "#%%\n"
    }
   },
   "outputs": [],
   "source": [
    "key = rnd.PRNGKey(0)\n",
    "prior_samples = 10000\n",
    "trials = 100\n",
    "horizon = 12  # try 10 to 12\n",
    "\n",
    "batch_size = 1000\n",
    "\n",
    "noise_style = 'fixed'\n",
    "noise_scales = [0.1, 0.1, 0.01, 0.01, 0.01, 0.01]\n",
    "noise_states = [0, 1, 2, 3, 4, 5]\n",
    "\n",
    "inv_temps = jnp.concatenate([jnp.exp(jnp.linspace(-7, 7, 100))])\n",
    "prior_ic_cov = jnp.diag(jnp.array([1e-1, 1e-1, 1e-3, 1e-2, 1e-2, 1e-4]) ** 2)"
   ]
  },
  {
   "cell_type": "code",
   "execution_count": 5,
   "metadata": {
    "pycharm": {
     "name": "#%%\n"
    }
   },
   "outputs": [],
   "source": [
    "dt = 0.3  # try ~0.2\n",
    "\n",
    "Q = jnp.eye(6)\n",
    "R = 0.1 * jnp.eye(2)\n",
    "Qf = 100 * jnp.eye(6)\n",
    "\n",
    "ic = jnp.array([1.0, -1.0, 0.0, 0.0, 0.0, 0.0])\n",
    "ic_cov = prior_ic_cov"
   ]
  },
  {
   "cell_type": "code",
   "execution_count": 6,
   "metadata": {
    "pycharm": {
     "name": "#%%\n"
    }
   },
   "outputs": [],
   "source": [
    "objective = obj.quadratic(Q, R, Qf)\n",
    "dynamics = dyn.crazyflie2d(dt)\n",
    "linearized_dynamics = dyn.linear(*dyn.linearize(dynamics, jnp.zeros(6),\n",
    "                                                jnp.array([dynamics.params.hover_force, 0.0]), 0))\n",
    "\n",
    "prob = ctl.problem(linearized_dynamics, objective, horizon)"
   ]
  },
  {
   "cell_type": "code",
   "execution_count": 7,
   "metadata": {
    "pycharm": {
     "name": "#%%\n"
    }
   },
   "outputs": [],
   "source": [
    "key, subkey = rnd.split(key)\n",
    "\n",
    "n = prob.num_states\n",
    "m = prob.num_inputs\n",
    "\n",
    "lqr = ctl.lqr.create(prob)\n",
    "prior_sim = sim.compile_simulation(prob, lqr)\n",
    "prior_ics = jax.vmap(lambda k: rnd.multivariate_normal(k, ic, prior_ic_cov),\n",
    "                     out_axes=-1)(rnd.split(subkey, trials))\n",
    "\n",
    "prior_states, prior_inputs, prior_costs = jax.vmap(lambda x: sim.run(x, jnp.zeros((n, horizon)), prior_sim, prob,\n",
    "                                                                     lqr), in_axes=1, out_axes=-1)(prior_ics)"
   ]
  },
  {
   "cell_type": "code",
   "execution_count": 8,
   "metadata": {
    "pycharm": {
     "name": "#%%\n"
    }
   },
   "outputs": [],
   "source": [
    "key, subkey = rnd.split(key)\n",
    "\n",
    "# prior_cov = jnp.diag(jnp.array([1e-2, 1e-5] * horizon) ** 2)\n",
    "#\n",
    "# prior_params = [dst.GaussianParams(jnp.pad(prior_inputs.mean(axis=2)[:, t:].flatten(order='F'),\n",
    "#                                            (0, t * prob.num_inputs)), prior_cov) for t in range(horizon)]\n",
    "\n",
    "prior_covs = jnp.stack([jnp.cov(prior_inputs[:, t, :]) + 1e-11 * jnp.eye(m) for t in range(horizon)], axis=-1)\n",
    "\n",
    "prior_params = [dst.GaussianParams(prior_inputs.mean(axis=2)[:, t].flatten(order='F'), prior_covs[:, :, t])\n",
    "                for t in range(horizon)]"
   ]
  },
  {
   "cell_type": "code",
   "execution_count": 9,
   "metadata": {
    "pycharm": {
     "name": "#%%\n"
    }
   },
   "outputs": [
    {
     "name": "stdout",
     "output_type": "stream",
     "text": [
      "Estimation Noise for state 0 is N(0, 1.00e-02).\n",
      "Estimation Noise for state 1 is N(0, 1.00e-02).\n",
      "Estimation Noise for state 2 is N(0, 1.00e-04).\n",
      "Estimation Noise for state 3 is N(0, 1.00e-04).\n",
      "Estimation Noise for state 4 is N(0, 1.00e-04).\n",
      "Estimation Noise for state 5 is N(0, 1.00e-04).\n"
     ]
    }
   ],
   "source": [
    "est_noise = jnp.zeros((n, horizon, trials))\n",
    "\n",
    "if noise_style.lower() == 'max':\n",
    "    for state, scale in zip(noise_states, noise_scales):\n",
    "        key, subkey = rnd.split(key)\n",
    "        stddev = (scale * jnp.max(jnp.abs(prior_states[state, :, :])))\n",
    "        est_noise = est_noise.at[state, :, :].set(stddev * rnd.normal(subkey, (horizon, trials)))\n",
    "        print(f'Estimation Noise for state {state} is N(0, {stddev ** 2:.3f}).')\n",
    "\n",
    "elif noise_style.lower() == 'fixed':\n",
    "    for state, scale in zip(noise_states, noise_scales):\n",
    "        key, subkey = rnd.split(key)\n",
    "        est_noise = est_noise.at[state, :, :].set(scale * rnd.normal(subkey, (horizon, trials)))\n",
    "        print(f'Estimation Noise for state {state} is N(0, {scale ** 2:.2e}).')\n",
    "else:\n",
    "    raise ValueError(f\"Noise style must be one of: 'max', 'varying', 'fixed'\")"
   ]
  },
  {
   "cell_type": "code",
   "execution_count": 10,
   "metadata": {
    "pycharm": {
     "name": "#%%\n"
    }
   },
   "outputs": [],
   "source": [
    "key, subkey = rnd.split(key)\n",
    "lqbr = ctl.lqbr.create(prob, prior_params, 1.0, subkey)\n",
    "lqbr_sim = sim.compile_simulation(prob, lqbr)"
   ]
  },
  {
   "cell_type": "code",
   "execution_count": 11,
   "outputs": [],
   "source": [
    "ctg_full_obs = jax.jit(lambda beta: ctl.lqbr.cost_to_go(prob, ctl.lqbr.LQBRParams(beta, subkey, lqbr.params.prior_params), ic, ic_cov))\n",
    "\n",
    "noise_cov = jnp.transpose(jnp.tile(jnp.diag(jnp.array(noise_scales)), (horizon, 1, 1)), (1, 2, 0))\n",
    "ctg_part_obs = jax.jit(lambda beta: ctl.lqbr.cost_to_go(prob, ctl.lqbr.LQBRParams(beta, subkey, lqbr.params.prior_params), ic, ic_cov, noise_cov))"
   ],
   "metadata": {
    "collapsed": false,
    "pycharm": {
     "name": "#%%\n"
    }
   }
  },
  {
   "cell_type": "code",
   "execution_count": 11,
   "outputs": [],
   "source": [],
   "metadata": {
    "collapsed": false,
    "pycharm": {
     "name": "#%%\n"
    }
   }
  },
  {
   "cell_type": "code",
   "execution_count": 12,
   "outputs": [],
   "source": [
    "@jax.jit\n",
    "def vector_metric(x: jnp.ndarray, y: jnp.ndarray) -> jnp.ndarray:\n",
    "    x = x.reshape((-1, 1))\n",
    "    y = y.reshape((-1, 1))\n",
    "\n",
    "    return 0.5 * jnp.linalg.norm(x @ x.T - y @ y.T, ord='fro') + jnp.linalg.norm(x - y, ord=2)\n",
    "\n",
    "@jax.jit\n",
    "def traj_metric(x: jnp.ndarray, y: jnp.ndarray, weights: jnp.ndarray) -> jnp.ndarray:\n",
    "    return jax.vmap(vector_metric, in_axes=(-1, -1))(x, y) @ weights"
   ],
   "metadata": {
    "collapsed": false,
    "pycharm": {
     "name": "#%%\n"
    }
   }
  },
  {
   "cell_type": "code",
   "execution_count": 13,
   "outputs": [],
   "source": [
    "full_obs = jax.vmap(ctg_full_obs)(inv_temps)\n",
    "part_obs = jax.vmap(ctg_part_obs)(inv_temps)\n",
    "best_inv_temp = inv_temps[jnp.argmin(part_obs)]"
   ],
   "metadata": {
    "collapsed": false,
    "pycharm": {
     "name": "#%%\n"
    }
   }
  },
  {
   "cell_type": "code",
   "execution_count": 16,
   "outputs": [],
   "source": [
    "key, ic_key, ctl_key = rnd.split(key, 3)\n",
    "ctl_keys = rnd.split(ctl_key, trials)\n",
    "ics = jax.vmap(lambda k: rnd.multivariate_normal(k, ic, ic_cov), out_axes=-1)(rnd.split(ic_key, trials))\n",
    "\n",
    "states, inputs, costs = jax.vmap(lambda ic, subkey: lqbr_sim(ic, jnp.zeros((6, horizon)), prob.params,\n",
    "                                                             ctl.lqbr.LQBRParams(0.0, subkey, lqbr.params.prior_params)),\n",
    "         in_axes=(0, 0), out_axes=-1)(ics.T, ctl_keys)"
   ],
   "metadata": {
    "collapsed": false,
    "pycharm": {
     "name": "#%%\n"
    }
   }
  },
  {
   "cell_type": "code",
   "execution_count": null,
   "outputs": [],
   "source": [],
   "metadata": {
    "collapsed": false,
    "pycharm": {
     "name": "#%%\n"
    }
   }
  },
  {
   "cell_type": "code",
   "execution_count": null,
   "outputs": [],
   "source": [
    "fm._rebuild()\n",
    "plt.style.reload_library()\n",
    "plt.style.use(['science', 'notebook', 'ieee'])\n",
    "plt.rc('text', usetex=True)\n",
    "plt.rc('font', family='serif')\n",
    "\n",
    "plt.figure()\n",
    "plt.plot(jnp.log(inv_temps), jax.vmap(ctg_full_obs)(inv_temps))\n",
    "plt.plot(jnp.log(inv_temps), jax.vmap(ctg_part_obs)(inv_temps))\n",
    "\n",
    "plt.vlines(jnp.log(best_inv_temp), 0.0, part_obs.max(), colors='gray', linestyles='dotted')\n",
    "\n",
    "plt.xlabel('$\\\\log(\\\\beta)$')\n",
    "plt.ylabel('$\\mathbb{E}[C]$')"
   ],
   "metadata": {
    "collapsed": false,
    "pycharm": {
     "name": "#%%\n"
    }
   }
  }
 ],
 "metadata": {
  "kernelspec": {
   "display_name": "Python 3",
   "language": "python",
   "name": "python3"
  },
  "language_info": {
   "codemirror_mode": {
    "name": "ipython",
    "version": 3
   },
   "file_extension": ".py",
   "mimetype": "text/x-python",
   "name": "python",
   "nbconvert_exporter": "python",
   "pygments_lexer": "ipython3",
   "version": "3.9.5"
  }
 },
 "nbformat": 4,
 "nbformat_minor": 4
}