{
 "cells": [
  {
   "cell_type": "code",
   "execution_count": 1,
   "metadata": {},
   "outputs": [],
   "source": [
    "import os\n",
    "import sys\n",
    "\n",
    "module_path = os.path.abspath(os.path.join('..'))\n",
    "\n",
    "if module_path not in sys.path:\n",
    "    sys.path.append(module_path)"
   ]
  },
  {
   "cell_type": "code",
   "execution_count": 2,
   "metadata": {
    "pycharm": {
     "name": "#%%\n"
    }
   },
   "outputs": [],
   "source": [
    "import jax\n",
    "import jax.numpy as jnp\n",
    "import jax.random as rnd\n",
    "import jax.experimental.optimizers as opt\n",
    "import jax.scipy as jsp\n",
    "\n",
    "from tqdm import tqdm\n",
    "\n",
    "from rationality import dynamics as dyn,\\\n",
    "                        objectives as obj,\\\n",
    "                        distributions as dst,\\\n",
    "                        controllers as ctl,\\\n",
    "                        simulate as sim, \\\n",
    "                        inference as inf\n",
    "\n",
    "from typing import Tuple"
   ]
  },
  {
   "cell_type": "code",
   "execution_count": 3,
   "metadata": {
    "pycharm": {
     "name": "#%%\n"
    }
   },
   "outputs": [],
   "source": [
    "save_data = False"
   ]
  },
  {
   "cell_type": "code",
   "execution_count": 4,
   "metadata": {
    "pycharm": {
     "name": "#%%\n"
    }
   },
   "outputs": [],
   "source": [
    "key = rnd.PRNGKey(0)\n",
    "prior_samples = 10000\n",
    "trials = 100\n",
    "horizon = 12 # try 10 to 12\n",
    "\n",
    "percentile = 95\n",
    "\n",
    "is_samples = 10000\n",
    "\n",
    "svgd_samples = 16\n",
    "svgd_bw = 'dynamic'\n",
    "svgd_iters = 10000\n",
    "svgd_opt = opt.adam(1e-4)\n",
    "\n",
    "\n",
    "noise_style = 'fixed'\n",
    "noise_scales = [0.2, 0.2, 0.02, 0.02, 0.02, 0.02]\n",
    "noise_states = [0, 1, 2, 3, 4, 5]\n",
    "\n",
    "inv_temps = jnp.array([0.0, 1.0, 10.0, 25.0, 50.0, 75.0, 100.0, 125.0, 150.0, 175.0, 200.0, 300.0, 400.0, 500.0, jnp.inf]) / 100\n",
    "prior_ic_cov = jnp.diag(jnp.array([1e-1, 1e-1, 1e-3, 1e-2, 1e-2, 1e-4]) ** 2)"
   ]
  },
  {
   "cell_type": "code",
   "execution_count": 5,
   "metadata": {
    "pycharm": {
     "name": "#%%\n"
    }
   },
   "outputs": [],
   "source": [
    "dt = 0.3 # try ~0.2\n",
    "\n",
    "Q = jnp.eye(6)\n",
    "R = 0.1 * jnp.eye(2)\n",
    "Qf = 100 * jnp.eye(6)\n",
    "\n",
    "ic = jnp.array([1.0, -1.0, 0.0, 0.0, 0.0, 0.0])\n",
    "ic_cov = prior_ic_cov"
   ]
  },
  {
   "cell_type": "code",
   "execution_count": 6,
   "metadata": {
    "pycharm": {
     "name": "#%%\n"
    }
   },
   "outputs": [],
   "source": [
    "objective = obj.quadratic(Q, R, Qf)\n",
    "dynamics = dyn.crazyflie2d(dt)\n",
    "linearized_dynamics = dyn.linear(*dyn.linearize(dynamics, jnp.zeros(6),\n",
    "                                                jnp.array([dynamics.params.hover_force, 0.0]), 0))\n",
    "\n",
    "prob = ctl.problem(linearized_dynamics, objective, horizon)"
   ]
  },
  {
   "cell_type": "code",
   "execution_count": 7,
   "metadata": {
    "pycharm": {
     "name": "#%%\n"
    }
   },
   "outputs": [],
   "source": [
    "key, subkey = rnd.split(key)\n",
    "\n",
    "n = prob.num_states\n",
    "m = prob.num_inputs\n",
    "\n",
    "mpc = ctl.lqr.create(prob)\n",
    "prior_sim = sim.compile_simulation(prob, mpc)\n",
    "prior_ics = jax.vmap(lambda k: rnd.multivariate_normal(k, ic, prior_ic_cov),\n",
    "                     out_axes=-1)(rnd.split(subkey, trials))\n",
    "\n",
    "prior_states, prior_inputs, prior_costs = jax.vmap(lambda x: sim.run(x, jnp.zeros((n, horizon)), prior_sim, prob,\n",
    "                                                                     mpc), in_axes=1, out_axes=-1)(prior_ics)"
   ]
  },
  {
   "cell_type": "code",
   "execution_count": 8,
   "metadata": {
    "pycharm": {
     "name": "#%%\n"
    }
   },
   "outputs": [],
   "source": [
    "key, subkey = rnd.split(key)\n",
    "\n",
    "# prior_cov = jnp.diag(jnp.array([1e-2, 1e-5] * horizon) ** 2)\n",
    "#\n",
    "# prior_params = [dst.GaussianParams(jnp.pad(prior_inputs.mean(axis=2)[:, t:].flatten(order='F'),\n",
    "#                                            (0, t * prob.num_inputs)), prior_cov) for t in range(horizon)]\n",
    "\n",
    "prior_covs = jnp.stack([jsp.linalg.block_diag(jnp.cov(prior_inputs[:, t:, :].reshape((m * (horizon - t), trials), order='F')),\n",
    "                                 0 * jnp.eye(t * m)) + 1e-11 * jnp.eye(horizon * m)\n",
    "           for t in range(horizon)], axis=-1)\n",
    "\n",
    "prior_params = [dst.GaussianParams(jnp.pad(prior_inputs.mean(axis=2)[:, t:].flatten(order='F'),\n",
    "                                           (0, t * prob.num_inputs)), prior_covs[:, :, t])\n",
    "                for t in range(horizon)]\n",
    "\n",
    "isc = ctl.isc.create(prob, jnp.inf, is_samples, subkey, dst.GaussianPrototype(prob.num_inputs * horizon), prior_params)\n",
    "svgdc = ctl.svgdc.create(prob, jnp.inf, subkey, svgd_bw, svgd_samples, dst.GaussianPrototype(prob.num_inputs * horizon),\n",
    "                         prior_params, svgd_opt, svgd_iters)"
   ]
  },
  {
   "cell_type": "code",
   "execution_count": 9,
   "metadata": {
    "pycharm": {
     "name": "#%%\n"
    }
   },
   "outputs": [
    {
     "name": "stdout",
     "output_type": "stream",
     "text": [
      "Estimation Noise for state 0 is N(0, 4.00e-02).\n",
      "Estimation Noise for state 1 is N(0, 4.00e-02).\n",
      "Estimation Noise for state 2 is N(0, 4.00e-04).\n",
      "Estimation Noise for state 3 is N(0, 4.00e-04).\n",
      "Estimation Noise for state 4 is N(0, 4.00e-04).\n",
      "Estimation Noise for state 5 is N(0, 4.00e-04).\n"
     ]
    }
   ],
   "source": [
    "est_noise = jnp.zeros((n, horizon, trials))\n",
    "\n",
    "if noise_style.lower() == 'max':\n",
    "    for state, scale in zip(noise_states, noise_scales):\n",
    "        key, subkey = rnd.split(key)\n",
    "        stddev = (scale * jnp.max(jnp.abs(prior_states[state, :, :])))\n",
    "        est_noise = est_noise.at[state, :, :].set(stddev * rnd.normal(subkey, (horizon, trials)))\n",
    "        print(f'Estimation Noise for state {state} is N(0, {stddev ** 2:.3f}).')\n",
    "\n",
    "elif noise_style.lower() == 'fixed':\n",
    "    for state, scale in zip(noise_states, noise_scales):\n",
    "        key, subkey = rnd.split(key)\n",
    "        est_noise = est_noise.at[state, :, :].set(scale * rnd.normal(subkey, (horizon, trials)))\n",
    "        print(f'Estimation Noise for state {state} is N(0, {scale ** 2:.2e}).')\n",
    "else:\n",
    "    raise ValueError(f\"Noise style must be one of: 'max', 'varying', 'fixed'\")"
   ]
  },
  {
   "cell_type": "code",
   "execution_count": 10,
   "metadata": {
    "pycharm": {
     "name": "#%%\n"
    }
   },
   "outputs": [],
   "source": [
    "key, subkey = rnd.split(key)\n",
    "\n",
    "n = prob.num_states\n",
    "m = prob.num_inputs\n",
    "\n",
    "ic_samples = jax.vmap(lambda k: rnd.multivariate_normal(k, ic, ic_cov), out_axes=-1)(rnd.split(subkey, trials))"
   ]
  },
  {
   "cell_type": "code",
   "execution_count": 11,
   "metadata": {
    "pycharm": {
     "name": "#%%\n"
    }
   },
   "outputs": [],
   "source": [
    "mpc_sim = sim.compile_simulation(prob, mpc)\n",
    "isc_sim = sim.compile_simulation(prob, isc)\n",
    "svgd_sim = sim.compile_simulation(prob, svgdc)\n",
    "\n",
    "mpc_sim_with_noise = jax.jit(lambda ic_s, noise: mpc_sim(ic, noise, prob.params, mpc.params))\n",
    "\n",
    "isc_sim_with_noise = jax.jit(lambda ic_s, inv_temp, key, noise:\n",
    "                             isc_sim(ic, noise, prob.params, ctl.isc.ISCParams(inv_temp, key)))\n",
    "\n",
    "svgdc_sim_with_noise = jax.jit(lambda ic_s, inv_temp, key, noise:\n",
    "                                svgd_sim(ic, noise, prob.params,\n",
    "                                         ctl.svgdc.SVGDCParams(inv_temp, key,\n",
    "                                                               jnp.nan if svgd_bw == 'dynamic' else svgd_bw)))"
   ]
  },
  {
   "cell_type": "code",
   "execution_count": 12,
   "metadata": {
    "pycharm": {
     "name": "#%%\n"
    }
   },
   "outputs": [],
   "source": [
    "def controller_stats(full_costs: jnp.ndarray, part_costs: jnp.ndarray,\n",
    "                     percentile: float) -> Tuple[float, float, float, float]:\n",
    "    full_cumm_costs = full_costs.sum(axis=0)\n",
    "    full_inner_percentile = jnp.percentile(full_cumm_costs, percentile)\n",
    "    full_selected = full_cumm_costs[full_cumm_costs <= full_inner_percentile]\n",
    "    full_mean = full_selected.mean()\n",
    "    full_std = full_selected.std()\n",
    "\n",
    "    part_cumm_costs = part_costs.sum(axis=0)\n",
    "    part_inner_percentile = jnp.percentile(part_cumm_costs, percentile)\n",
    "    part_selected = part_cumm_costs[part_cumm_costs <= part_inner_percentile]\n",
    "    part_mean = part_selected.mean()\n",
    "    part_std = part_selected.std()\n",
    "\n",
    "    return full_mean, full_std, part_mean, part_std\n"
   ]
  },
  {
   "cell_type": "code",
   "execution_count": null,
   "metadata": {
    "pycharm": {
     "name": "#%%\n"
    }
   },
   "outputs": [
    {
     "name": "stdout",
     "output_type": "stream",
     "text": [
      "        name\t\t                part-obs        \t\tfull-obs        \n",
      "          lqr          \t\t   13.370 ± 2.9278   \t\t    6.245 ± 0.0000   \n"
     ]
    },
    {
     "data": {
      "application/vnd.jupyter.widget-view+json": {
       "model_id": "ad821a58abd849849e1d21fa94dde855",
       "version_major": 2,
       "version_minor": 0
      },
      "text/plain": [
       "  0%|          | 0/12 [00:00<?, ?it/s]"
      ]
     },
     "metadata": {},
     "output_type": "display_data"
    }
   ],
   "source": [
    "from IPython.display import clear_output\n",
    "\n",
    "is_full_states = []\n",
    "is_full_inputs = []\n",
    "is_full_costs = []\n",
    "\n",
    "is_part_states = []\n",
    "is_part_inputs = []\n",
    "is_part_costs = []\n",
    "\n",
    "svgdc_full_states = []\n",
    "svgdc_full_inputs = []\n",
    "svgdc_full_costs = []\n",
    "\n",
    "svgdc_part_states = []\n",
    "svgdc_part_inputs = []\n",
    "svgdc_part_costs = []\n",
    "\n",
    "print(f'        name\\t\\t                part-obs        \\t\\tfull-obs        ')\n",
    "\n",
    "mp_full_states, mp_full_inputs, mp_full_costs = jax.vmap(mpc_sim_with_noise, in_axes=(1, 2), out_axes=-1)(ic_samples, jnp.zeros((n, horizon, trials)))\n",
    "mp_part_states, mp_part_inputs, mp_part_costs = jax.vmap(mpc_sim_with_noise, in_axes=(1, 2), out_axes=-1)(ic_samples, est_noise)\n",
    "\n",
    "full_mean, full_std, part_mean, part_std = controller_stats(mp_full_costs, mp_part_costs, percentile)\n",
    "\n",
    "print(f'{\"lqr\":^23}\\t\\t'\n",
    "          f'{part_mean:>9.3f} ± {part_std:<9.4f}\\t\\t'\n",
    "          f'{full_mean:>9.3f} ± {full_std:<9.4f}')\n",
    "\n",
    "\n",
    "for inv_temp in tqdm(inv_temps):\n",
    "    key, subkey = rnd.split(key)\n",
    "\n",
    "    full_results = jax.vmap(isc_sim_with_noise, in_axes=(1, 0, 0, 2), out_axes=-1)(ic_samples,\n",
    "                                                                                   inv_temp * jnp.ones(trials),\n",
    "                                                                                   rnd.split(subkey, trials),\n",
    "                                                                                   jnp.zeros((n, horizon, trials)))\n",
    "\n",
    "    part_results = jax.vmap(isc_sim_with_noise, in_axes=(1, 0, 0, 2), out_axes=-1)(ic_samples,\n",
    "                                                                                   inv_temp * jnp.ones(trials),\n",
    "                                                                                   rnd.split(subkey, trials),\n",
    "                                                                                   est_noise)\n",
    "\n",
    "    is_full_states.append(full_results[0])\n",
    "    is_full_inputs.append(full_results[1])\n",
    "    is_full_costs.append(full_results[2])\n",
    "\n",
    "    is_part_states.append(part_results[0])\n",
    "    is_part_inputs.append(part_results[1])\n",
    "    is_part_costs.append(part_results[2])\n",
    "\n",
    "    full_mean, full_std, part_mean, part_std = controller_stats(is_full_costs[-1], is_part_costs[-1], percentile)\n",
    "    name = f'isc-{inv_temp:.3}'\n",
    "\n",
    "#     tqdm.write(f'{name:^23}\\t\\t'\n",
    "#           f'{part_mean:>9.3f} ± {part_std:<9.4f}\\t\\t'\n",
    "#           f'{full_mean:>9.3f} ± {full_std:<9.4f}')\n",
    "\n",
    "    full_results = jax.vmap(svgdc_sim_with_noise, in_axes=(1, 0, 0, 2), out_axes=-1)(ic_samples,\n",
    "                                                                                   inv_temp * jnp.ones(trials),\n",
    "                                                                                   rnd.split(subkey, trials),\n",
    "                                                                                   jnp.zeros((n, horizon, trials)))\n",
    "\n",
    "    part_results = jax.vmap(svgdc_sim_with_noise, in_axes=(1, 0, 0, 2), out_axes=-1)(ic_samples,\n",
    "                                                                                   inv_temp * jnp.ones(trials),\n",
    "                                                                                   rnd.split(subkey, trials),\n",
    "                                                                                   est_noise)\n",
    "\n",
    "    svgdc_full_states.append(full_results[0])\n",
    "    svgdc_full_inputs.append(full_results[1])\n",
    "    svgdc_full_costs.append(full_results[2])\n",
    "\n",
    "    svgdc_part_states.append(part_results[0])\n",
    "    svgdc_part_inputs.append(part_results[1])\n",
    "    svgdc_part_costs.append(part_results[2])\n",
    "\n",
    "    full_mean, full_std, part_mean, part_std = controller_stats(svgdc_full_costs[-1], svgdc_part_costs[-1], percentile)\n",
    "    name = f'svc-{inv_temp:.3}'\n",
    "\n",
    "    tqdm.write(f'{name:^23}\\t\\t'\n",
    "               f'{part_mean:>9.3f} ± {part_std:<9.4f}\\t\\t'\n",
    "               f'{full_mean:>9.3f} ± {full_std:<9.4f}')"
   ]
  },
  {
   "cell_type": "code",
   "execution_count": null,
   "metadata": {
    "pycharm": {
     "name": "#%%\n"
    }
   },
   "outputs": [],
   "source": [
    "# if save_data:\n",
    "#     import os\n",
    "#     import pandas as pd\n",
    "#\n",
    "#     def make_df(states: jnp.ndarray, inputs: jnp.ndarray, costs: jnp.ndarray,\n",
    "#                 name: str, beta: float, vis: str) -> pd.DataFrame:\n",
    "#         cumm_costs = costs.sum(axis=0)\n",
    "#\n",
    "#         return pd.concat([pd.DataFrame({\n",
    "#             'Controller' : pd.Series([name] * (horizon + 1)),\n",
    "#             'Visibility' : pd.Series([vis] * (horizon + 1)),\n",
    "#             'Discarded' : pd.Series([costs[:, trial].sum() > jnp.percentile(cumm_costs, percentile)] * (horizon + 1)),\n",
    "#             'beta' : pd.Series([beta] * (horizon + 1)),\n",
    "#             'Trial' : pd.Series([trial] * (horizon + 1)),\n",
    "#             't' : pd.Series(list(range(horizon + 1))),\n",
    "#             'x' : pd.Series(states[0, :, trial]),\n",
    "#             'y' : pd.Series(states[1, :, trial]),\n",
    "#             'theta' : pd.Series(states[2, :, trial]),\n",
    "#             'x_dot' : pd.Series(states[3, :, trial]),\n",
    "#             'y_dot' : pd.Series(states[4, :, trial]),\n",
    "#             'theta_dot' : pd.Series(states[5, :, trial]),\n",
    "#             'Thrust' : pd.Series(inputs[0, :, trial]),\n",
    "#             'Moment' : pd.Series(inputs[1, :, trial]),\n",
    "#             'Costs' : pd.Series(costs[:, trial]),\n",
    "#             'Cumm. Costs' : pd.Series(costs[:, trial].cumsum())\n",
    "#         }) for trial in range(trials)])\n",
    "#\n",
    "#     mp_full_df = make_df(mp_full_states, mp_full_inputs, mp_full_costs, 'LQR', jnp.nan, 'Full')\n",
    "#     mp_part_df = make_df(mp_part_states, mp_part_inputs, mp_part_costs, 'LQR', jnp.nan, 'Part')\n",
    "#\n",
    "#     full_dfs = [mp_full_df] + [make_df(is_full_states[i], is_full_inputs[i], is_full_costs[i], 'ISC', inv_temp, 'Full')\n",
    "#                                for i, inv_temp in enumerate(inv_temps)]\n",
    "#\n",
    "#     part_dfs = [mp_part_df] + [make_df(is_part_states[i], is_part_inputs[i], is_part_costs[i], 'ISC', inv_temp, 'Part')\n",
    "#                                for i, inv_temp in enumerate(inv_temps)]\n",
    "#\n",
    "#     df = pd.concat(full_dfs + part_dfs)\n",
    "#\n",
    "#     if os.path.exists('../data/linearized_quad2d/data.pkl'):\n",
    "#         os.remove('../data/linearized_quad2d/data.pkl')\n",
    "#\n",
    "#     df.to_pickle('../data/linearized_quad2d/data.pkl')"
   ]
  },
  {
   "cell_type": "code",
   "execution_count": null,
   "metadata": {
    "pycharm": {
     "name": "#%%\n"
    }
   },
   "outputs": [],
   "source": [
    "print('hi')"
   ]
  },
  {
   "cell_type": "code",
   "execution_count": null,
   "metadata": {},
   "outputs": [],
   "source": []
  }
 ],
 "metadata": {
  "kernelspec": {
   "display_name": "Python 3",
   "language": "python",
   "name": "python3"
  },
  "language_info": {
   "codemirror_mode": {
    "name": "ipython",
    "version": 3
   },
   "file_extension": ".py",
   "mimetype": "text/x-python",
   "name": "python",
   "nbconvert_exporter": "python",
   "pygments_lexer": "ipython3",
   "version": "3.9.5"
  }
 },
 "nbformat": 4,
 "nbformat_minor": 4
}