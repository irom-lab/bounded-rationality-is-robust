{
 "cells": [
  {
   "cell_type": "code",
   "execution_count": 1,
   "metadata": {},
   "outputs": [],
   "source": [
    "import os\n",
    "import sys\n",
    "\n",
    "module_path = os.path.abspath(os.path.join('../../'))\n",
    "\n",
    "if module_path not in sys.path:\n",
    "    sys.path.append(module_path)"
   ]
  },
  {
   "cell_type": "code",
   "execution_count": 2,
   "metadata": {
    "pycharm": {
     "name": "#%%\n"
    }
   },
   "outputs": [],
   "source": [
    "import jax\n",
    "import jax.numpy as jnp\n",
    "import jax.random as rnd\n",
    "import jax.experimental.optimizers as opt\n",
    "import jax.scipy as jsp\n",
    "\n",
    "from tqdm import tqdm\n",
    "\n",
    "from rationality import dynamics as dyn, objectives as obj, distributions as dst,\\\n",
    "    controllers as ctl, simulate as sim, utils as utils\n",
    "\n",
    "from typing import Tuple"
   ]
  },
  {
   "cell_type": "code",
   "execution_count": 3,
   "metadata": {
    "pycharm": {
     "name": "#%%\n"
    }
   },
   "outputs": [],
   "source": [
    "save_data = False"
   ]
  },
  {
   "cell_type": "code",
   "execution_count": 4,
   "metadata": {
    "pycharm": {
     "name": "#%%\n"
    }
   },
   "outputs": [],
   "source": [
    "key = rnd.PRNGKey(0)\n",
    "prior_samples = 10000\n",
    "trials = 100\n",
    "horizon = 12  # try 10 to 12\n",
    "\n",
    "percentile = 95\n",
    "\n",
    "isc_samples = 10000\n",
    "\n",
    "svmpc_samples = 16\n",
    "svmpc_bw = 'dynamic'\n",
    "svmpc_iters = 10000\n",
    "svmpc_opt = opt.adam(1e-5)\n",
    "\n",
    "noise_style = 'fixed'\n",
    "noise_scales = [0.1, 0.1, 0.01, 0.01, 0.01, 0.01]\n",
    "noise_states = [0, 1, 2, 3, 4, 5]\n",
    "\n",
    "inv_temps = jnp.concatenate([jnp.array([0.0]), jnp.exp(jnp.linspace(-6, 6, 20)), jnp.array([jnp.inf])])\n",
    "prior_ic_cov = jnp.diag(jnp.array([1e-1, 1e-1, 1e-3, 1e-2, 1e-2, 1e-4]) ** 2)"
   ]
  },
  {
   "cell_type": "code",
   "execution_count": 5,
   "metadata": {
    "pycharm": {
     "name": "#%%\n"
    }
   },
   "outputs": [],
   "source": [
    "dt = 0.3  # try ~0.2\n",
    "\n",
    "Q = jnp.eye(6)\n",
    "R = 0.1 * jnp.eye(2)\n",
    "Qf = 100 * jnp.eye(6)\n",
    "\n",
    "ic = jnp.array([1.0, -1.0, 0.0, 0.0, 0.0, 0.0])\n",
    "ic_cov = prior_ic_cov"
   ]
  },
  {
   "cell_type": "code",
   "execution_count": 6,
   "metadata": {
    "pycharm": {
     "name": "#%%\n"
    }
   },
   "outputs": [],
   "source": [
    "objective = obj.quadratic(Q, R, Qf)\n",
    "dynamics = dyn.crazyflie2d(dt)\n",
    "linearized_dynamics = dyn.linear(*dyn.linearize(dynamics, jnp.zeros(6),\n",
    "                                                jnp.array([dynamics.params.hover_force, 0.0]), 0))\n",
    "\n",
    "prob = ctl.problem(linearized_dynamics, objective, horizon)"
   ]
  },
  {
   "cell_type": "code",
   "execution_count": 7,
   "metadata": {
    "pycharm": {
     "name": "#%%\n"
    }
   },
   "outputs": [],
   "source": [
    "key, subkey = rnd.split(key)\n",
    "\n",
    "n = prob.num_states\n",
    "m = prob.num_inputs\n",
    "\n",
    "lqr = ctl.lqr.create(prob)\n",
    "prior_sim = sim.compile_simulation(prob, lqr)\n",
    "prior_ics = jax.vmap(lambda k: rnd.multivariate_normal(k, ic, prior_ic_cov),\n",
    "                     out_axes=-1)(rnd.split(subkey, trials))\n",
    "\n",
    "prior_states, prior_inputs, prior_costs = jax.vmap(lambda x: sim.run(x, jnp.zeros((n, horizon)), prior_sim, prob,\n",
    "                                                                     lqr), in_axes=1, out_axes=-1)(prior_ics)"
   ]
  },
  {
   "cell_type": "code",
   "execution_count": 8,
   "metadata": {
    "pycharm": {
     "name": "#%%\n"
    }
   },
   "outputs": [],
   "source": [
    "key, subkey = rnd.split(key)\n",
    "\n",
    "# prior_cov = jnp.diag(jnp.array([1e-2, 1e-5] * horizon) ** 2)\n",
    "#\n",
    "# prior_params = [dst.GaussianParams(jnp.pad(prior_inputs.mean(axis=2)[:, t:].flatten(order='F'),\n",
    "#                                            (0, t * prob.num_inputs)), prior_cov) for t in range(horizon)]\n",
    "\n",
    "prior_covs = jnp.stack(\n",
    "    [jsp.linalg.block_diag(jnp.cov(prior_inputs[:, t:, :].reshape((m * (horizon - t), trials), order='F')),\n",
    "                           0 * jnp.eye(t * m)) + 1e-11 * jnp.eye(horizon * m)\n",
    "     for t in range(horizon)], axis=-1)\n",
    "\n",
    "prior_params = [dst.GaussianParams(jnp.pad(prior_inputs.mean(axis=2)[:, t:].flatten(order='F'),\n",
    "                                           (0, t * prob.num_inputs)), prior_covs[:, :, t])\n",
    "                for t in range(horizon)]\n",
    "\n",
    "isc = ctl.isc.create(prob, jnp.inf, isc_samples, subkey, dst.GaussianPrototype(prob.num_inputs * horizon), prior_params)\n",
    "svmpcc = ctl.svmpcc.create(prob, jnp.inf, subkey, svmpc_bw, svmpc_samples, dst.GaussianPrototype(prob.num_inputs * horizon),\n",
    "                         prior_params, svmpc_opt, svmpc_iters)"
   ]
  },
  {
   "cell_type": "code",
   "execution_count": 9,
   "metadata": {
    "pycharm": {
     "name": "#%%\n"
    }
   },
   "outputs": [
    {
     "name": "stdout",
     "output_type": "stream",
     "text": [
      "Estimation Noise for state 0 is N(0, 4.00e-02).\n",
      "Estimation Noise for state 1 is N(0, 4.00e-02).\n",
      "Estimation Noise for state 2 is N(0, 4.00e-04).\n",
      "Estimation Noise for state 3 is N(0, 4.00e-04).\n",
      "Estimation Noise for state 4 is N(0, 4.00e-04).\n",
      "Estimation Noise for state 5 is N(0, 4.00e-04).\n"
     ]
    }
   ],
   "source": [
    "est_noise = jnp.zeros((n, horizon, trials))\n",
    "\n",
    "if noise_style.lower() == 'max':\n",
    "    for state, scale in zip(noise_states, noise_scales):\n",
    "        key, subkey = rnd.split(key)\n",
    "        stddev = (scale * jnp.max(jnp.abs(prior_states[state, :, :])))\n",
    "        est_noise = est_noise.at[state, :, :].set(stddev * rnd.normal(subkey, (horizon, trials)))\n",
    "        print(f'Estimation Noise for state {state} is N(0, {stddev ** 2:.3f}).')\n",
    "\n",
    "elif noise_style.lower() == 'fixed':\n",
    "    for state, scale in zip(noise_states, noise_scales):\n",
    "        key, subkey = rnd.split(key)\n",
    "        est_noise = est_noise.at[state, :, :].set(scale * rnd.normal(subkey, (horizon, trials)))\n",
    "        print(f'Estimation Noise for state {state} is N(0, {scale ** 2:.2e}).')\n",
    "else:\n",
    "    raise ValueError(f\"Noise style must be one of: 'max', 'varying', 'fixed'\")"
   ]
  },
  {
   "cell_type": "code",
   "execution_count": 10,
   "metadata": {
    "pycharm": {
     "name": "#%%\n"
    }
   },
   "outputs": [],
   "source": [
    "key, subkey = rnd.split(key)\n",
    "\n",
    "n = prob.num_states\n",
    "m = prob.num_inputs\n",
    "\n",
    "ic_samples = jax.vmap(lambda k: rnd.multivariate_normal(k, ic, ic_cov), out_axes=-1)(rnd.split(subkey, trials))"
   ]
  },
  {
   "cell_type": "code",
   "execution_count": 11,
   "metadata": {
    "pycharm": {
     "name": "#%%\n"
    }
   },
   "outputs": [],
   "source": [
    "lqr_sim = sim.compile_simulation(prob, lqr)\n",
    "isc_sim = sim.compile_simulation(prob, isc)\n",
    "svmpc_sim = sim.compile_simulation(prob, svmpcc)\n",
    "\n",
    "lqr_sim_with_noise = jax.jit(lambda ic_samples, noise: lqr_sim(ic_samples, noise, prob.params, lqr.params))\n",
    "\n",
    "isc_sim_with_noise = jax.jit(lambda ic_samples, inv_temp, key, noise:\n",
    "                             isc_sim(ic_samples, noise, prob.params, ctl.isc.ISCParams(inv_temp, key)))\n",
    "\n",
    "svmpc_sim_with_noise = jax.jit(lambda ic_samples, inv_temp, key, noise:\n",
    "                               svmpc_sim(ic_samples, noise, prob.params,\n",
    "                                        ctl.svmpc.svmpcParams(inv_temp, key,\n",
    "                                                              jnp.nan if svmpc_bw == 'dynamic' else svmpc_bw)))"
   ]
  },
  {
   "cell_type": "code",
   "execution_count": 12,
   "metadata": {
    "pycharm": {
     "name": "#%%\n"
    }
   },
   "outputs": [],
   "source": [
    "def controller_stats(full_costs: jnp.ndarray, part_costs: jnp.ndarray,\n",
    "                     percentile: float) -> Tuple[float, float, float, float]:\n",
    "    full_cumm_costs = full_costs.sum(axis=0)\n",
    "    full_inner_percentile = jnp.percentile(full_cumm_costs, percentile)\n",
    "    full_selected = full_cumm_costs[full_cumm_costs <= full_inner_percentile]\n",
    "    full_mean = full_selected.mean()\n",
    "    full_std = full_selected.std()\n",
    "\n",
    "    part_cumm_costs = part_costs.sum(axis=0)\n",
    "    part_inner_percentile = jnp.percentile(part_cumm_costs, percentile)\n",
    "    part_selected = part_cumm_costs[part_cumm_costs <= part_inner_percentile]\n",
    "    part_mean = part_selected.mean()\n",
    "    part_std = part_selected.std()\n",
    "\n",
    "    return full_mean, full_std, part_mean, part_std\n"
   ]
  },
  {
   "cell_type": "code",
   "execution_count": 13,
   "metadata": {
    "pycharm": {
     "name": "#%%\n"
    }
   },
   "outputs": [
    {
     "name": "stdout",
     "output_type": "stream",
     "text": [
      "        name\t\t                part-obs        \t\tfull-obs        \n",
      "          lqr          \t\t   13.117 ± 3.1676   \t\t    6.245 ± 0.0000   \n"
     ]
    },
    {
     "data": {
      "application/vnd.jupyter.widget-view+json": {
       "model_id": "5a5f3a9faa91495bba9bed7aaa17f6e3",
       "version_major": 2,
       "version_minor": 0
      },
      "text/plain": [
       "  0%|          | 0/22 [00:00<?, ?it/s]"
      ]
     },
     "metadata": {},
     "output_type": "display_data"
    },
    {
     "name": "stdout",
     "output_type": "stream",
     "text": [
      "     svc-0.000e+00     \t\t448102.844 ± 487268.0938\t\t448102.844 ± 487268.0938\n",
      "     svc-6.738e-03     \t\t 1970.493 ± 1256.9264\t\t 1899.701 ± 1179.6149\n",
      "     svc-1.141e-02     \t\t 1759.367 ± 1151.5472\t\t 1996.837 ± 1353.4182\n",
      "     svc-1.931e-02     \t\t 1299.610 ± 1118.9490\t\t 1300.989 ± 980.5040 \n",
      "     svc-3.268e-02     \t\t  981.654 ± 755.6959 \t\t 1042.038 ± 764.9310 \n",
      "     svc-5.531e-02     \t\t 1022.316 ± 866.2883 \t\t 1019.208 ± 970.1513 \n",
      "     svc-9.363e-02     \t\t 1045.394 ± 792.1014 \t\t 1038.646 ± 886.5711 \n",
      "     svc-1.585e-01     \t\t  883.537 ± 716.4739 \t\t  907.109 ± 708.0992 \n",
      "     svc-2.683e-01     \t\t  865.898 ± 647.6295 \t\t  794.501 ± 571.7141 \n",
      "     svc-4.541e-01     \t\t  824.216 ± 665.1603 \t\t  768.319 ± 608.4940 \n",
      "     svc-7.686e-01     \t\t  611.340 ± 471.6324 \t\t  567.053 ± 474.0029 \n",
      "     svc-1.301e+00     \t\t  705.881 ± 626.6186 \t\t  683.894 ± 685.6506 \n",
      "     svc-2.202e+00     \t\t  672.361 ± 524.2198 \t\t  871.759 ± 886.9478 \n",
      "     svc-3.728e+00     \t\t  648.902 ± 532.3965 \t\t  694.997 ± 620.1367 \n",
      "     svc-6.310e+00     \t\t  517.143 ± 414.7989 \t\t  619.195 ± 523.0067 \n",
      "     svc-1.068e+01     \t\t  542.433 ± 413.5255 \t\t  572.842 ± 441.2144 \n",
      "     svc-1.808e+01     \t\t  565.107 ± 493.0567 \t\t  573.912 ± 453.4776 \n",
      "     svc-3.060e+01     \t\t  854.180 ± 796.9766 \t\t  685.033 ± 576.0773 \n",
      "     svc-5.180e+01     \t\t  581.855 ± 418.0211 \t\t  678.595 ± 564.5927 \n",
      "     svc-8.768e+01     \t\t  705.808 ± 518.6108 \t\t  725.588 ± 552.4844 \n",
      "     svc-1.484e+02     \t\t  690.782 ± 509.6602 \t\t  738.409 ± 585.6574 \n",
      "        svc-inf        \t\t  740.549 ± 612.9226 \t\t  675.653 ± 560.5563 \n"
     ]
    }
   ],
   "source": [
    "from IPython.display import clear_output\n",
    "\n",
    "isc_full_states = []\n",
    "isc_full_inputs = []\n",
    "isc_full_costs = []\n",
    "\n",
    "isc_part_states = []\n",
    "isc_part_inputs = []\n",
    "isc_part_costs = []\n",
    "\n",
    "svmpc_full_states = []\n",
    "svmpc_full_inputs = []\n",
    "svmpc_full_costs = []\n",
    "\n",
    "svmpc_part_states = []\n",
    "svmpc_part_inputs = []\n",
    "svmpc_part_costs = []\n",
    "\n",
    "print(f'        name\\t\\t                part-obs        \\t\\tfull-obs        ')\n",
    "\n",
    "lqrfull_states, lqrfull_inputs, lqrfull_costs = jax.vmap(lqr_sim_with_noise, in_axes=(1, 2), out_axes=-1)(ic_samples,\n",
    "                                                                                                          jnp.zeros((n,\n",
    "                                                                                                                     horizon,\n",
    "                                                                                                                     trials)))\n",
    "lqrpart_states, lqrpart_inputs, lqrpart_costs = jax.vmap(lqr_sim_with_noise, in_axes=(1, 2), out_axes=-1)(ic_samples,\n",
    "                                                                                                          est_noise)\n",
    "\n",
    "full_mean, full_std, part_mean, part_std = controller_stats(lqrfull_costs, lqrpart_costs, percentile)\n",
    "\n",
    "print(f'{\"lqr\":^23}\\t\\t'\n",
    "      f'{part_mean:>9.3f} ± {part_std:<9.4f}\\t\\t'\n",
    "      f'{full_mean:>9.3f} ± {full_std:<9.4f}')\n",
    "\n",
    "partial_means = []\n",
    "\n",
    "for i, inv_temp in tqdm(enumerate(inv_temps)):\n",
    "    key, subkey = rnd.split(key)\n",
    "\n",
    "    full_results = jax.vmap(isc_sim_with_noise, in_axes=(1, 0, 0, 2), out_axes=-1)(ic_samples,\n",
    "                                                                                   inv_temp * jnp.ones(trials),\n",
    "                                                                                   rnd.split(subkey, trials),\n",
    "                                                                                   jnp.zeros((n, horizon, trials)))\n",
    "\n",
    "    part_results = jax.vmap(isc_sim_with_noise, in_axes=(1, 0, 0, 2), out_axes=-1)(ic_samples,\n",
    "                                                                                   inv_temp * jnp.ones(trials),\n",
    "                                                                                   rnd.split(subkey, trials),\n",
    "                                                                                   est_noise)\n",
    "\n",
    "    isc_full_states.append(full_results[0])\n",
    "    isc_full_inputs.append(full_results[1])\n",
    "    isc_full_costs.append(full_results[2])\n",
    "\n",
    "    isc_part_states.append(part_results[0])\n",
    "    isc_part_inputs.append(part_results[1])\n",
    "    isc_part_costs.append(part_results[2])\n",
    "\n",
    "    full_mean, full_std, part_mean, part_std = controller_stats(isc_full_costs[-1], isc_part_costs[-1], percentile)\n",
    "    name = f'isc-{inv_temp:.3e}'\n",
    "\n",
    "    #     tqdm.write(f'{name:^23}\\t\\t'\n",
    "    #           f'{part_mean:>9.3f} ± {part_std:<9.4f}\\t\\t'\n",
    "    #           f'{full_mean:>9.3f} ± {full_std:<9.4f}')\n",
    "\n",
    "    full_results = jax.vmap(svmpc_sim_with_noise, in_axes=(1, 0, 0, 2), out_axes=-1)(ic_samples,\n",
    "                                                                                     inv_temp * jnp.ones(trials),\n",
    "                                                                                     rnd.split(subkey, trials),\n",
    "                                                                                     jnp.zeros((n, horizon, trials)))\n",
    "\n",
    "    part_results = jax.vmap(svmpc_sim_with_noise, in_axes=(1, 0, 0, 2), out_axes=-1)(ic_samples,\n",
    "                                                                                     inv_temp * jnp.ones(trials),\n",
    "                                                                                     rnd.split(subkey, trials),\n",
    "                                                                                     est_noise)\n",
    "\n",
    "    svmpc_full_states.append(full_results[0])\n",
    "    svmpc_full_inputs.append(full_results[1])\n",
    "    svmpc_full_costs.append(full_results[2])\n",
    "\n",
    "    svmpc_part_states.append(part_results[0])\n",
    "    svmpc_part_inputs.append(part_results[1])\n",
    "    svmpc_part_costs.append(part_results[2])\n",
    "\n",
    "    full_mean, full_std, part_mean, part_std = controller_stats(svmpc_full_costs[-1], svmpc_part_costs[-1], percentile)\n",
    "    name = f'svc-{inv_temp:.3e}'\n",
    "\n",
    "    tqdm.write(f'{name:^23}\\t\\t'\n",
    "               f'{part_mean:>9.3f} ± {part_std:<9.4f}\\t\\t'\n",
    "               f'{full_mean:>9.3f} ± {full_std:<9.4f}')\n",
    "\n",
    "    jnp.savez('data.npz',\n",
    "              lqrfull_states=lqrfull_states,\n",
    "              lqrfull_inputs=lqrfull_inputs,\n",
    "              lqrfull_costs=lqrfull_costs,\n",
    "\n",
    "              lqrpart_states=lqrpart_states,\n",
    "              lqrpart_inputs=lqrpart_inputs,\n",
    "              lqrpart_costs=lqrpart_costs,\n",
    "\n",
    "              svmpc_full_states=jnp.stack(svmpc_full_states, axis=-1),\n",
    "              svmpc_full_inputs=jnp.stack(svmpc_full_inputs, axis=-1),\n",
    "              svmpc_full_costs=jnp.stack(svmpc_full_costs, axis=-1),\n",
    "\n",
    "              svmpc_part_states=jnp.stack(svmpc_part_states, axis=-1),\n",
    "              svmpc_part_inputs=jnp.stack(svmpc_part_inputs, axis=-1),\n",
    "              svmpc_part_costs=jnp.stack(svmpc_part_costs, axis=-1),\n",
    "\n",
    "              isc_full_states=jnp.stack(isc_full_states, axis=-1),\n",
    "              isc_full_inputs=jnp.stack(isc_full_inputs, axis=-1),\n",
    "              isc_full_costs=jnp.stack(isc_full_costs, axis=-1),\n",
    "\n",
    "              isc_part_states=jnp.stack(isc_part_states, axis=-1),\n",
    "              isc_part_inputs=jnp.stack(isc_part_inputs, axis=-1),\n",
    "              isc_part_costs=jnp.stack(isc_part_costs, axis=-1),\n",
    "\n",
    "              inv_temps=inv_temps[:i + 1])\n",
    "\n",
    "    partial_means.append(part_mean)\n",
    "\n",
    "partial_means = jnp.array(partial_means)"
   ]
  },
  {
   "cell_type": "code",
   "execution_count": 14,
   "metadata": {
    "pycharm": {
     "name": "#%%\n"
    }
   },
   "outputs": [
    {
     "data": {
      "image/png": "[encoded data removed]",
      "text/plain": [
       "<Figure size 432x288 with 1 Axes>"
      ]
     },
     "metadata": {
      "needs_background": "light"
     },
     "output_type": "display_data"
    }
   ],
   "source": [
    "import shutil\n",
    "\n",
    "if not utils.in_ipynb():\n",
    "    if shutil.which('gnuplot') is not None:\n",
    "        import termplotlib as tpl\n",
    "\n",
    "        fig = tpl.figure()\n",
    "        fig.plot(jnp.log(inv_temps), jnp.log(partial_means), width=80, height=25, xlabel='Log(β)',\n",
    "                 title='Log Mean Part-Obs Cost (SVMPC)')\n",
    "        fig.show()\n",
    "    else:\n",
    "        print(\"The program `gnuplot' is not installed. Skipping terminal plot.\")\n",
    "else:\n",
    "    import matplotlib.pyplot as plt\n",
    "\n",
    "    plt.figure()\n",
    "    plt.plot(jnp.log(inv_temps), jnp.log(partial_means), 'ok')\n",
    "    plt.title('Mean Part-Obs Cost (SVMPC)')\n",
    "    plt.ylabel('Log Mean Cost')\n",
    "    plt.xlabel('Log(β)')\n",
    "    plt.show()"
   ]
  },
  {
   "cell_type": "code",
   "execution_count": 15,
   "metadata": {
    "collapsed": false,
    "jupyter": {
     "outputs_hidden": false
    },
    "pycharm": {
     "name": "#%%\n"
    }
   },
   "outputs": [],
   "source": [
    "# if save_data:\n",
    "#     import os\n",
    "#     import pandas as pd\n",
    "#\n",
    "#     def make_df(states: jnp.ndarray, inputs: jnp.ndarray, costs: jnp.ndarray,\n",
    "#                 name: str, beta: float, vis: str) -> pd.DataFrame:\n",
    "#         cumm_costs = costs.sum(axis=0)\n",
    "#\n",
    "#         return pd.concat([pd.DataFrame({\n",
    "#             'Controller' : pd.Series([name] * (horizon + 1)),\n",
    "#             'Visibility' : pd.Series([vis] * (horizon + 1)),\n",
    "#             'Discarded' : pd.Series([costs[:, trial].sum() > jnp.percentile(cumm_costs, percentile)] * (horizon + 1)),\n",
    "#             'beta' : pd.Series([beta] * (horizon + 1)),\n",
    "#             'Trial' : pd.Series([trial] * (horizon + 1)),\n",
    "#             't' : pd.Series(list(range(horizon + 1))),\n",
    "#             'x' : pd.Series(states[0, :, trial]),\n",
    "#             'y' : pd.Series(states[1, :, trial]),\n",
    "#             'theta' : pd.Series(states[2, :, trial]),\n",
    "#             'x_dot' : pd.Series(states[3, :, trial]),\n",
    "#             'y_dot' : pd.Series(states[4, :, trial]),\n",
    "#             'theta_dot' : pd.Series(states[5, :, trial]),\n",
    "#             'Thrust' : pd.Series(inputs[0, :, trial]),\n",
    "#             'Moment' : pd.Series(inputs[1, :, trial]),\n",
    "#             'Costs' : pd.Series(costs[:, trial]),\n",
    "#             'Cumm. Costs' : pd.Series(costs[:, trial].cumsum())\n",
    "#         }) for trial in range(trials)])\n",
    "#\n",
    "#     mp_full_df = make_df(mp_full_states, mp_full_inputs, mp_full_costs, 'LQR', jnp.nan, 'Full')\n",
    "#     mp_part_df = make_df(mp_part_states, mp_part_inputs, mp_part_costs, 'LQR', jnp.nan, 'Part')\n",
    "#\n",
    "#     full_dfs = [mp_full_df] + [make_df(isc_full_states[i], isc_full_inputs[i], isc_full_costs[i], 'ISC', inv_temp, 'Full')\n",
    "#                                for i, inv_temp in enumerate(inv_temps)]\n",
    "#\n",
    "#     part_dfs = [mp_part_df] + [make_df(isc_part_states[i], isc_part_inputs[i], isc_part_costs[i], 'ISC', inv_temp, 'Part')\n",
    "#                                for i, inv_temp in enumerate(inv_temps)]\n",
    "#\n",
    "#     df = pd.concat(full_dfs + part_dfs)\n",
    "#\n",
    "#     if os.path.exists('../data/linearized_quad2d/data.pkl'):\n",
    "#         os.remove('../data/linearized_quad2d/data.pkl')\n",
    "#\n",
    "#     df.to_pickle('../data/linearized_quad2d/data.pkl')"
   ]
  },
  {
   "cell_type": "code",
   "execution_count": 15,
   "metadata": {
    "collapsed": false,
    "jupyter": {
     "outputs_hidden": false
    },
    "pycharm": {
     "name": "#%%\n"
    }
   },
   "outputs": [],
   "source": []
  }
 ],
 "metadata": {
  "kernelspec": {
   "display_name": "Python 3",
   "language": "python",
   "name": "python3"
  },
  "language_info": {
   "codemirror_mode": {
    "name": "ipython",
    "version": 3
   },
   "file_extension": ".py",
   "mimetype": "text/x-python",
   "name": "python",
   "nbconvert_exporter": "python",
   "pygments_lexer": "ipython3",
   "version": "3.9.5"
  }
 },
 "nbformat": 4,
 "nbformat_minor": 4
}