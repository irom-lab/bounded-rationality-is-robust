{
 "cells": [
  {
   "cell_type": "code",
   "execution_count": 1,
   "metadata": {
    "collapsed": true
   },
   "outputs": [],
   "source": [
    "import jax\n",
    "import jax.numpy as jnp\n",
    "\n",
    "import pandas as pd\n",
    "\n",
    "import os"
   ]
  },
  {
   "cell_type": "code",
   "execution_count": 2,
   "outputs": [],
   "source": [
    "def make_df(states: jnp.ndarray, inputs: jnp.ndarray, costs: jnp.ndarray,\n",
    "            name: str, beta: float, vis: str, percentile: float) -> pd.DataFrame:\n",
    "    horizon = inputs.shape[1]\n",
    "    trials = states.shape[2]\n",
    "\n",
    "    cumm_costs = costs.sum(axis=0)\n",
    "\n",
    "    return pd.concat([pd.DataFrame({\n",
    "        'Controller': pd.Series([name] * (horizon + 1)),\n",
    "        'Visibility': pd.Series([vis] * (horizon + 1)),\n",
    "        'Discarded': pd.Series([costs[:, trial].sum() > jnp.percentile(cumm_costs, percentile)] * (horizon + 1)),\n",
    "        'beta': pd.Series([beta] * (horizon + 1)),\n",
    "        'Trial': pd.Series([trial] * (horizon + 1)),\n",
    "        't': pd.Series(list(range(horizon + 1))),\n",
    "        'x': pd.Series(states[0, :, trial]),\n",
    "        'y': pd.Series(states[1, :, trial]),\n",
    "        'theta': pd.Series(states[2, :, trial]),\n",
    "        'x_dot': pd.Series(states[3, :, trial]),\n",
    "        'y_dot': pd.Series(states[4, :, trial]),\n",
    "        'theta_dot': pd.Series(states[5, :, trial]),\n",
    "        'Thrust': pd.Series(inputs[0, :, trial]),\n",
    "        'Moment': pd.Series(inputs[1, :, trial]),\n",
    "        'Costs': pd.Series(costs[:, trial]),\n",
    "        'Cumm. Costs': pd.Series(costs[:, trial].cumsum())\n",
    "    }) for trial in range(trials)])"
   ],
   "metadata": {
    "collapsed": false,
    "pycharm": {
     "name": "#%%\n"
    }
   }
  },
  {
   "cell_type": "code",
   "execution_count": 3,
   "outputs": [],
   "source": [
    "percentile = 95.0"
   ],
   "metadata": {
    "collapsed": false,
    "pycharm": {
     "name": "#%%\n"
    }
   }
  },
  {
   "cell_type": "code",
   "execution_count": 4,
   "outputs": [],
   "source": [
    "npzfile = jnp.load('data.npz')\n",
    "locals().update(npzfile)"
   ],
   "metadata": {
    "collapsed": false,
    "pycharm": {
     "name": "#%%\n"
    }
   }
  },
  {
   "cell_type": "code",
   "execution_count": 5,
   "outputs": [],
   "source": [
    "mp_full_df = make_df(mp_full_states, mp_full_inputs, mp_full_costs, 'LQR', jnp.nan, 'Full', percentile)\n",
    "mp_part_df = make_df(mp_part_states, mp_part_inputs, mp_part_costs, 'LQR', jnp.nan, 'Part', percentile)"
   ],
   "metadata": {
    "collapsed": false,
    "pycharm": {
     "name": "#%%\n"
    }
   }
  },
  {
   "cell_type": "code",
   "execution_count": 6,
   "outputs": [],
   "source": [
    "full_dfs = [mp_full_df] + [make_df(is_full_states[:, :, :, i], is_full_inputs[:, :, :, i], is_full_costs[:, :, i],\n",
    "                                   'ISC', inv_temp, 'Full', percentile) for i, inv_temp in enumerate(inv_temps)] \\\n",
    "           + [make_df(svgdc_full_states[:, :, :, i], svgdc_full_inputs[:, :, :, i], svgdc_full_costs[:, :, i],\n",
    "                      'ISC', inv_temp, 'Part', percentile) for i, inv_temp in enumerate(inv_temps)]\n",
    "\n",
    "part_dfs = [mp_part_df] + [make_df(is_part_states[:, :, :, i], is_part_inputs[:, :, :, i], is_part_costs[:, :, i],\n",
    "                                   'ISC', inv_temp, 'Part', percentile) for i, inv_temp in enumerate(inv_temps)] \\\n",
    "           + [make_df(svgdc_part_states[:, :, :, i], svgdc_part_inputs[:, :, :, i], svgdc_part_costs[:, :, i],\n",
    "                      'ISC', inv_temp, 'Part', percentile) for i, inv_temp in enumerate(inv_temps)]\n",
    "\n",
    "df = pd.concat(full_dfs + part_dfs)\n",
    "\n",
    "if os.path.exists('dataframe.pkl'):\n",
    "    os.remove('dataframe.pkl')\n",
    "\n",
    "df.to_pickle('dataframe.pkl')"
   ],
   "metadata": {
    "collapsed": false,
    "pycharm": {
     "name": "#%%\n"
    }
   }
  }
 ],
 "metadata": {
  "kernelspec": {
   "display_name": "Python 3",
   "language": "python",
   "name": "python3"
  },
  "language_info": {
   "codemirror_mode": {
    "name": "ipython",
    "version": 2
   },
   "file_extension": ".py",
   "mimetype": "text/x-python",
   "name": "python",
   "nbconvert_exporter": "python",
   "pygments_lexer": "ipython2",
   "version": "2.7.6"
  }
 },
 "nbformat": 4,
 "nbformat_minor": 0
}