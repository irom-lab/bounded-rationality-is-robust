{
 "cells": [
  {
   "cell_type": "code",
   "execution_count": 1,
   "metadata": {},
   "outputs": [],
   "source": [
    "import os\n",
    "import sys\n",
    "\n",
    "module_path = os.path.abspath(os.path.join('../../'))\n",
    "\n",
    "if module_path not in sys.path:\n",
    "    sys.path.append(module_path)"
   ]
  },
  {
   "cell_type": "code",
   "execution_count": 2,
   "metadata": {
    "pycharm": {
     "name": "#%%\n"
    }
   },
   "outputs": [],
   "source": [
    "import jax\n",
    "import jax.numpy as jnp\n",
    "import jax.random as rnd\n",
    "import jax.experimental.optimizers as opt\n",
    "import jax.scipy as jsp\n",
    "\n",
    "import datetime\n",
    "import shutil\n",
    "\n",
    "import numpy as np\n",
    "\n",
    "from tqdm import tqdm\n",
    "\n",
    "from rationality import dynamics as dyn, objectives as obj, distributions as dst, \\\n",
    "    controllers as ctl, simulate as sim, util as utl, types as typ"
   ]
  },
  {
   "cell_type": "code",
   "execution_count": null,
   "metadata": {
    "pycharm": {
     "name": "#%%\n"
    }
   },
   "outputs": [],
   "source": [
    "key = rnd.PRNGKey(0)\n",
    "trials = 1000\n",
    "horizon = 12 # try 10 to 12\n",
    "\n",
    "percentile = 100\n",
    "\n",
    "svmpc_samples = 16\n",
    "svmpc_bw = 'dynamic'\n",
    "svmpc_iters = 2000\n",
    "svmpc_opt = opt.adam(1e-1)\n",
    "svmpc_clip = 1.0\n",
    "svmpc_clip_ord = jnp.inf\n",
    "\n",
    "mpc_opt = opt.adam(1e-1)\n",
    "mpc_iters = 2000\n",
    "\n",
    "noise_style = 'fixed'\n",
    "\n",
    "relative_noise_stds = jnp.array([0.25, 0.25, 0.1, 0.25, 0.25, 0.1])\n",
    "noise_scale_coeffs = jnp.array([3.0, 2.0, 1.0, 0.0])\n",
    "\n",
    "inv_temps = jnp.concatenate([jnp.array([0.0]), 10 ** (jnp.linspace(3, 6, 30)), jnp.array([jnp.inf])])"
   ]
  },
  {
   "cell_type": "code",
   "execution_count": null,
   "metadata": {
    "pycharm": {
     "name": "#%%\n"
    }
   },
   "outputs": [],
   "source": [
    "dt = 0.3  # try ~0.2\n",
    "\n",
    "Q = 1.0 * jnp.eye(6)\n",
    "R = 0.1 * jnp.eye(2)\n",
    "Qf = 100 * jnp.eye(6)\n",
    "\n",
    "ic = jnp.array([1.0, -1.0, 0.0, 0.0, 0.0, 0.0])\n",
    "ic_cov = jnp.diag(jnp.array([1e-1, 1e-1, 1e-3, 1e-2, 1e-2, 1e-4]) ** 2)"
   ]
  },
  {
   "cell_type": "code",
   "execution_count": null,
   "metadata": {
    "pycharm": {
     "name": "#%%\n"
    }
   },
   "outputs": [],
   "source": [
    "dynamics = dyn.quad2d(dt, 1.0, 9.82, 1.0)\n",
    "hover_input = jnp.array([dynamics.params.hover_force, 0.0])\n",
    "\n",
    "objective = obj.quadratic(Q, R, Qf, input_offset=hover_input)\n",
    "prob = ctl.problem(dynamics, objective, horizon)"
   ]
  },
  {
   "cell_type": "code",
   "execution_count": null,
   "metadata": {
    "pycharm": {
     "name": "#%%\n"
    }
   },
   "outputs": [],
   "source": [
    "n = prob.num_states\n",
    "m = prob.num_inputs\n",
    "\n",
    "mpc_initial_inputs = jnp.zeros((m, horizon)) + hover_input.reshape((-1, 1))\n",
    "\n",
    "mpc = ctl.mpc.create(prob, mpc_opt, mpc_iters, initial_inputs=mpc_initial_inputs)\n",
    "prior_sim = sim.compile_simulation(prob, mpc)"
   ]
  },
  {
   "cell_type": "code",
   "execution_count": null,
   "metadata": {
    "jupyter": {
     "outputs_hidden": false
    },
    "pycharm": {
     "name": "#%%\n"
    }
   },
   "outputs": [],
   "source": [
    "linearized_dynamics = dyn.linear(*dyn.linearize(dynamics, jnp.zeros(6), hover_input, 0))\n",
    "\n",
    "lin_prob = ctl.problem(linearized_dynamics, objective, horizon)\n",
    "\n",
    "prior_params = ctl.lqr.input_stats(lin_prob, ic, ic_cov)"
   ]
  },
  {
   "cell_type": "code",
   "execution_count": null,
   "outputs": [],
   "source": [
    "prior_covs = jnp.stack([1e-12 * jnp.eye(horizon * m) + jnp.diag(jnp.pad(jnp.concatenate([jnp.diag(prior_params.cov[s, :, :]) for s in range(t, horizon)]), ((0, m * t)))) for t in range(horizon)])\n",
    "prior_covs = 1 * prior_covs\n",
    "\n",
    "prior_params = [dst.GaussianParams(jnp.pad((prior_params.mean[t:, :] + hover_input.reshape((1, -1))).T.flatten(order='F'),\n",
    "                                           (0, t * m)), prior_covs[t, :, :]) for t in range(horizon)]"
   ],
   "metadata": {
    "collapsed": false,
    "pycharm": {
     "name": "#%%\n"
    }
   }
  },
  {
   "cell_type": "code",
   "execution_count": null,
   "metadata": {
    "pycharm": {
     "name": "#%%\n"
    }
   },
   "outputs": [],
   "source": [
    "svmpc = ctl.svmpc.create(prob, jnp.inf, svmpc_bw, svmpc_samples,\n",
    "                         dst.GaussianPrototype(prob.num_inputs * horizon),\n",
    "                         prior_params, svmpc_opt, svmpc_iters,\n",
    "                         clip=svmpc_clip, clip_ord=svmpc_clip_ord)"
   ]
  },
  {
   "cell_type": "code",
   "execution_count": null,
   "metadata": {
    "pycharm": {
     "name": "#%%\n"
    }
   },
   "outputs": [],
   "source": [
    "relative_noise_cov = jnp.diag(relative_noise_stds ** 2)"
   ]
  },
  {
   "cell_type": "code",
   "execution_count": null,
   "metadata": {
    "pycharm": {
     "name": "#%%\n"
    }
   },
   "outputs": [],
   "source": [
    "key, ic_subkey, noise_subkey = rnd.split(key, 3)\n",
    "ic_samples = jax.vmap(lambda k: rnd.multivariate_normal(k, ic, ic_cov), out_axes=-1)(rnd.split(ic_subkey, trials))\n",
    "relative_noise_samples = jax.vmap(lambda nc: rnd.multivariate_normal(key, jnp.zeros(6), relative_noise_cov, shape=(horizon,)).T, out_axes=-1)(rnd.split(noise_subkey, trials))"
   ]
  },
  {
   "cell_type": "code",
   "execution_count": null,
   "metadata": {
    "pycharm": {
     "name": "#%%\n"
    }
   },
   "outputs": [],
   "source": [
    "mpc_sim = sim.compile_simulation(prob, mpc)\n",
    "svmpc_sim = sim.compile_simulation(prob, svmpc)\n",
    "\n",
    "mpc_sim_with_noise = jax.jit(lambda ic, noise: mpc_sim(ic, noise))\n",
    "svmpc_sim_with_noise = jax.jit(lambda ic, inv_temp, key, noise: svmpc_sim.run_with_params(ic, noise, ctl.svmpc.SVMPCParams(inv_temp), key))"
   ]
  },
  {
   "cell_type": "code",
   "execution_count": null,
   "metadata": {
    "pycharm": {
     "name": "#%%\n"
    }
   },
   "outputs": [],
   "source": [
    "def trajectory_stats(traj: typ.Trajectory, percentile: int) -> tuple[float, float]:\n",
    "    costs = traj.costs\n",
    "\n",
    "    cumm_costs = costs.sum(axis=1)\n",
    "    inner_percentile = np.percentile(cumm_costs, percentile)\n",
    "    selected = cumm_costs[cumm_costs <= inner_percentile]\n",
    "    mean = selected.mean()\n",
    "    std = selected.std()\n",
    "\n",
    "    return mean, std\n"
   ]
  },
  {
   "cell_type": "code",
   "execution_count": null,
   "metadata": {
    "pycharm": {
     "name": "#%%\n"
    }
   },
   "outputs": [],
   "source": [
    "def format_meanstd(mean: float, std: float) -> str:\n",
    "    return f'{mean:>10.3f} ± {std:<10.3f}'\n",
    "\n",
    "def format_row(name: str, part_obs: str, full_obs: str) -> str:\n",
    "    return f'\\t{name:^23} | {part_obs:^23} | {full_obs:^23} '"
   ]
  },
  {
   "cell_type": "code",
   "execution_count": null,
   "metadata": {
    "jupyter": {
     "outputs_hidden": false
    },
    "pycharm": {
     "name": "#%%\n"
    }
   },
   "outputs": [],
   "source": [
    "print(f'Inverse Temperatures: {jnp.array_str(inv_temps, precision=3)}\\n\\n')\n",
    "\n",
    "for j, noise_scale_coeff in enumerate(noise_scale_coeffs):\n",
    "    if j == 0:\n",
    "        key, subkey = rnd.split(key)\n",
    "        mpc_full = jax.vmap(mpc_sim_with_noise, in_axes=(1, 2))(ic_samples, jnp.zeros((n, horizon, trials)))\n",
    "        svmpc_inf_full = jax.vmap(svmpc_sim_with_noise, in_axes=(1, 0, 0, 2))(ic_samples,\n",
    "                                                                              jnp.inf * jnp.ones(trials),\n",
    "                                                                              rnd.split(subkey, trials),\n",
    "                                                                              jnp.zeros((n, horizon, trials)))\n",
    "\n",
    "        print(f'Fully-Observable MPC Mean Terminal State:       {jnp.array_str(mpc_full.states.mean(axis=0)[:, -1])}')\n",
    "        print(f'Fully-Observable SVMPC-INF Mean Terminal State: {jnp.array_str(svmpc_inf_full.states.mean(axis=0)[:, -1])}')\n",
    "\n",
    "    print(f'Conducting Experiments for Noise Scale Coeff {noise_scale_coeff:.2f}\\n\\n\\n')\n",
    "    noise_samples = noise_scale_coeff * relative_noise_samples\n",
    "    full_file_name = f'data/noise-scale-coeff-{noise_scale_coeff:.2f}.npz'\n",
    "    tmp_file_name = f'data/noise-scale-coeff-{noise_scale_coeff:.2f}-in-progress.npz'\n",
    "\n",
    "    svmpc_part = []\n",
    "\n",
    "    mpc_part = jax.vmap(mpc_sim_with_noise, in_axes=(1, 2))(ic_samples, noise_samples)\n",
    "    part_mean, part_std = trajectory_stats(mpc_part, percentile)\n",
    "\n",
    "\n",
    "    header = format_row('β', 'part-obs', 'full-obs')\n",
    "    print('\\n' * 3)\n",
    "    print(header)\n",
    "    print('\\t' + '-' * len(header))\n",
    "    print(format_row('mpc', format_meanstd(part_mean, part_std), format_meanstd(0.0, 0.0)))\n",
    "\n",
    "    partial_means = []\n",
    "\n",
    "\n",
    "\n",
    "    for i, inv_temp in tqdm(enumerate(inv_temps), total=len(inv_temps), position=0, leave=True):\n",
    "        key, subkey = rnd.split(key)\n",
    "\n",
    "        # full_results = jax.vmap(svmpc_sim_with_noise, in_axes=(1, 0, 0, 2))(ic_samples,\n",
    "        #                                                                     inv_temp * jnp.ones(trials),\n",
    "        #                                                                     rnd.split(subkey, trials),\n",
    "        #                                                                     jnp.zeros((n, horizon, trials)))\n",
    "\n",
    "        part_results = jax.vmap(svmpc_sim_with_noise, in_axes=(1, 0, 0, 2))(ic_samples,\n",
    "                                                                            inv_temp * jnp.ones(trials),\n",
    "                                                                            rnd.split(subkey, trials),\n",
    "                                                                            noise_samples)\n",
    "\n",
    "        # svmpc_full.append(full_results.asnumpy().structured())\n",
    "        svmpc_part.append(part_results.asnumpy().structured())\n",
    "\n",
    "        part_mean, part_std = trajectory_stats(part_results, percentile)\n",
    "        name = f'svmpc-{inv_temp:<18.3e}'.strip()\n",
    "\n",
    "        tqdm.write(format_row(name, format_meanstd(part_mean, part_std), format_meanstd(0.0, 0.0)))\n",
    "        partial_means.append(part_mean)\n",
    "\n",
    "\n",
    "\n",
    "        np.savez(tmp_file_name,\n",
    "                 mpc=mpc_part.asnumpy().structured(),\n",
    "                 svmpc=svmpc_part,\n",
    "                 noise_scale_coeffs=noise_scale_coeffs,\n",
    "                 relative_noise_stds=relative_noise_stds,\n",
    "                 inv_temps=inv_temps[:i])\n",
    "\n",
    "    partial_means = np.array(partial_means)\n",
    "\n",
    "    #%%\n",
    "\n",
    "    if not utl.in_ipynb():\n",
    "        if shutil.which('gnuplot') is not None:\n",
    "            import termplotlib as tpl\n",
    "\n",
    "            print(f'\\n' * 3)\n",
    "\n",
    "            fig = tpl.figure()\n",
    "            fig.plot(jnp.log(inv_temps), jnp.log(partial_means), width=80, height=25, xlabel='Log(β)',\n",
    "                     title='Log Mean Part-Obs Cost (SVMPC)')\n",
    "            fig.show()\n",
    "        else:\n",
    "            print(\"The program `gnuplot' is not installed. Skipping terminal plot.\")\n",
    "    else:\n",
    "        import matplotlib.pyplot as plt\n",
    "\n",
    "        plt.figure()\n",
    "        plt.plot(jnp.log(inv_temps), jnp.log(partial_means), 'ok')\n",
    "        plt.title('Mean Part-Obs Cost (SVMPC)')\n",
    "        plt.ylabel('Log Mean Cost')\n",
    "        plt.xlabel('Log(β)')\n",
    "        plt.show()\n",
    "\n",
    "    now = datetime.datetime.now()\n",
    "    nowstr = now.strftime('%Y.%m.%d.%H.%M.%S')\n",
    "\n",
    "    np.savez(full_file_name,\n",
    "             mpc=mpc_part.asnumpy().structured(),\n",
    "             svmpc=svmpc_part,\n",
    "             noise_scale_coeffs=noise_scale_coeffs,\n",
    "             relative_noise_stds=relative_noise_stds,\n",
    "             inv_temps=inv_temps)\n",
    "\n",
    "    os.remove(tmp_file_name)"
   ]
  },
  {
   "cell_type": "code",
   "execution_count": null,
   "outputs": [],
   "source": [],
   "metadata": {
    "collapsed": false,
    "pycharm": {
     "name": "#%%\n"
    }
   }
  },
  {
   "cell_type": "code",
   "execution_count": null,
   "outputs": [],
   "source": [],
   "metadata": {
    "collapsed": false,
    "pycharm": {
     "name": "#%%\n"
    }
   }
  },
  {
   "cell_type": "code",
   "execution_count": null,
   "outputs": [],
   "source": [],
   "metadata": {
    "collapsed": false,
    "pycharm": {
     "name": "#%%\n"
    }
   }
  }
 ],
 "metadata": {
  "kernelspec": {
   "display_name": "Python 3",
   "language": "python",
   "name": "python3"
  },
  "language_info": {
   "codemirror_mode": {
    "name": "ipython",
    "version": 3
   },
   "file_extension": ".py",
   "mimetype": "text/x-python",
   "name": "python",
   "nbconvert_exporter": "python",
   "pygments_lexer": "ipython3",
   "version": "3.9.5"
  }
 },
 "nbformat": 4,
 "nbformat_minor": 4
}