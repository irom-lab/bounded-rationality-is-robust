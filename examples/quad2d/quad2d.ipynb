{
 "cells": [
  {
   "cell_type": "code",
   "execution_count": 1,
   "metadata": {},
   "outputs": [],
   "source": [
    "import os\n",
    "import sys\n",
    "\n",
    "module_path = os.path.abspath(os.path.join('../../'))\n",
    "\n",
    "if module_path not in sys.path:\n",
    "    sys.path.append(module_path)"
   ]
  },
  {
   "cell_type": "code",
   "execution_count": 2,
   "metadata": {
    "pycharm": {
     "name": "#%%\n"
    }
   },
   "outputs": [],
   "source": [
    "import jax\n",
    "import jax.numpy as jnp\n",
    "import jax.random as rnd\n",
    "import jax.experimental.optimizers as opt\n",
    "import jax.scipy as jsp\n",
    "import datetime\n",
    "\n",
    "import numpy as np\n",
    "\n",
    "from tqdm import tqdm\n",
    "\n",
    "from rationality import dynamics as dyn, objectives as obj, distributions as dst, \\\n",
    "    controllers as ctl, simulate as sim, util as utils\n",
    "\n",
    "from typing import Tuple"
   ]
  },
  {
   "cell_type": "code",
   "execution_count": 3,
   "metadata": {
    "pycharm": {
     "name": "#%%\n"
    }
   },
   "outputs": [],
   "source": [
    "save_data = False"
   ]
  },
  {
   "cell_type": "code",
   "execution_count": 4,
   "metadata": {
    "pycharm": {
     "name": "#%%\n"
    }
   },
   "outputs": [],
   "source": [
    "key = rnd.PRNGKey(0)\n",
    "prior_samples = 1000\n",
    "trials = 100\n",
    "horizon = 12  # try 10 to 12\n",
    "\n",
    "percentile = 95\n",
    "\n",
    "isc_samples = 10000\n",
    "\n",
    "svmpc_samples = 16\n",
    "svmpc_bw = 'dynamic'\n",
    "svmpc_iters = 10000\n",
    "svmpc_opt = opt.adam(1e-1)\n",
    "\n",
    "mpc_opt = opt.adam(1e-0)\n",
    "mpc_iters = 1000\n",
    "\n",
    "noise_style = 'fixed'\n",
    "\n",
    "relative_noise_stds = jnp.array([0.1, 0.1, 0.01, 0.01, 0.01, 0.01])\n",
    "noise_states = [0, 1, 2, 3, 4, 5]\n",
    "noise_scale_coeff = 1.5\n",
    "\n",
    "inv_temps = jnp.concatenate([jnp.array([jnp.inf]), jnp.exp(jnp.linspace(0, 12.5, 20))])\n",
    "prior_ic_cov = jnp.diag(jnp.array([1e-1, 1e-1, 1e-3, 1e-2, 1e-2, 1e-4]) ** 2)"
   ]
  },
  {
   "cell_type": "code",
   "execution_count": 5,
   "metadata": {
    "pycharm": {
     "name": "#%%\n"
    }
   },
   "outputs": [],
   "source": [
    "dt = 0.3  # try ~0.2\n",
    "\n",
    "Q = 1 * jnp.eye(6)\n",
    "R = 0.1 * jnp.eye(2)\n",
    "Qf = 100 * jnp.eye(6)\n",
    "\n",
    "ic = jnp.array([1.0, -1.0, 0.0, 0.0, 0.0, 0.0])\n",
    "ic_cov = prior_ic_cov"
   ]
  },
  {
   "cell_type": "code",
   "execution_count": 6,
   "metadata": {
    "pycharm": {
     "name": "#%%\n"
    }
   },
   "outputs": [],
   "source": [
    "objective = obj.quadratic(Q, R, Qf, input_offset=jnp.array([9.82, 0.0]))\n",
    "dynamics = dyn.quad2d(dt, 1.0, 9.82, 1.0)\n",
    "prob = ctl.problem(dynamics, objective, horizon)"
   ]
  },
  {
   "cell_type": "code",
   "execution_count": 7,
   "metadata": {
    "pycharm": {
     "name": "#%%\n"
    }
   },
   "outputs": [],
   "source": [
    "key, subkey = rnd.split(key)\n",
    "\n",
    "n = prob.num_states\n",
    "m = prob.num_inputs\n",
    "\n",
    "mpc = ctl.mpc.create(prob, mpc_opt, mpc_iters)\n",
    "prior_sim = sim.compile_simulation(prob, mpc)"
   ]
  },
  {
   "cell_type": "code",
   "execution_count": 8,
   "metadata": {
    "jupyter": {
     "outputs_hidden": false
    },
    "pycharm": {
     "name": "#%%\n"
    }
   },
   "outputs": [],
   "source": [
    "prior_ics = jax.vmap(lambda k: rnd.multivariate_normal(k, ic, prior_ic_cov),\n",
    "                     out_axes=-1)(rnd.split(subkey, trials))\n",
    "\n",
    "prior_states, prior_inputs, prior_costs = jax.vmap(lambda x: sim.run(x, jnp.zeros((n, horizon)), prior_sim, prob,\n",
    "                                                                     mpc), in_axes=1, out_axes=-1)(prior_ics)"
   ]
  },
  {
   "cell_type": "code",
   "execution_count": 9,
   "metadata": {
    "pycharm": {
     "name": "#%%\n"
    }
   },
   "outputs": [],
   "source": [
    "key, subkey = rnd.split(key)\n",
    "\n",
    "prior_cov = jnp.diag(jnp.array([1e-2, 1e-5] * horizon) ** 2)\n",
    "\n",
    "prior_params = [dst.GaussianParams(jnp.pad(prior_inputs.mean(axis=2)[:, t:].flatten(order='F'),\n",
    "                                           (0, t * prob.num_inputs)), prior_cov) for t in range(horizon)]\n",
    "\n",
    "prior_covs = jnp.stack(\n",
    "    [jsp.linalg.block_diag(jnp.cov(prior_inputs[:, t:, :].reshape((m * (horizon - t), trials), order='F')),\n",
    "                           0 * jnp.eye(t * m)) + 1e-8 * jnp.eye(horizon * m)\n",
    "     for t in range(horizon)], axis=-1)\n",
    "\n",
    "prior_params = [dst.GaussianParams(jnp.pad(prior_inputs.mean(axis=2)[:, t:].flatten(order='F'),\n",
    "                                           (0, t * prob.num_inputs)), prior_covs[:, :, t])\n",
    "                for t in range(horizon)]\n",
    "\n",
    "isc = ctl.isc.create(prob, jnp.inf, isc_samples, subkey, dst.GaussianPrototype(prob.num_inputs * horizon), prior_params)\n",
    "svmpc = ctl.svmpc.create(prob, jnp.inf, subkey, svmpc_bw, svmpc_samples,\n",
    "                         dst.GaussianPrototype(prob.num_inputs * horizon),\n",
    "                         prior_params, svmpc_opt, svmpc_iters)"
   ]
  },
  {
   "cell_type": "code",
   "execution_count": 10,
   "metadata": {
    "pycharm": {
     "name": "#%%\n"
    }
   },
   "outputs": [],
   "source": [
    "est_noise = jnp.zeros((n, horizon, trials))\n",
    "\n",
    "if noise_style.lower() == 'max':\n",
    "    for state, scale in zip(noise_states, relative_noise_stds):\n",
    "        key, subkey = rnd.split(key)\n",
    "        stddev = (scale * jnp.max(jnp.abs(prior_states[state, :, :])))\n",
    "        est_noise = est_noise.at[state, :, :].set(stddev * rnd.normal(subkey, (horizon, trials)))\n",
    "        print(f'Estimation Noise for state {state} is N(0, {stddev ** 2:.3f}).')\n",
    "\n",
    "elif noise_style.lower() == 'fixed':\n",
    "    for state, rel_scale in zip(noise_states, relative_noise_stds):\n",
    "        key, subkey = rnd.split(key)\n",
    "        stddev = noise_scale_coeff * rel_scale\n",
    "        est_noise = est_noise.at[state, :, :].set(stddev * rnd.normal(subkey, (horizon, trials), ))\n",
    "        print(f'Estimation Noise for state {state} is N(0, {stddev:.2e} ** 2).')\n",
    "else:\n",
    "    raise ValueError(f\"Noise style must be one of: 'max', 'varying', 'fixed'\")"
   ]
  },
  {
   "cell_type": "code",
   "execution_count": 11,
   "metadata": {
    "pycharm": {
     "name": "#%%\n"
    }
   },
   "outputs": [],
   "source": [
    "key, subkey = rnd.split(key)\n",
    "\n",
    "n = prob.num_states\n",
    "m = prob.num_inputs\n",
    "\n",
    "ic_samples = jax.vmap(lambda k: rnd.multivariate_normal(k, ic, ic_cov), out_axes=-1)(rnd.split(subkey, trials))"
   ]
  },
  {
   "cell_type": "code",
   "execution_count": 12,
   "metadata": {
    "pycharm": {
     "name": "#%%\n"
    }
   },
   "outputs": [],
   "source": [
    "mpc_sim = sim.compile_simulation(prob, mpc)\n",
    "isc_sim = sim.compile_simulation(prob, isc)\n",
    "svmpc_sim = sim.compile_simulation(prob, svmpc)\n",
    "\n",
    "mpc_sim_with_noise = jax.jit(lambda ic_samples, noise: mpc_sim(ic_samples, noise, prob.params, mpc.params))\n",
    "\n",
    "isc_sim_with_noise = jax.jit(lambda ic_samples, inv_temp, key, noise:\n",
    "                             isc_sim(ic_samples, noise, prob.params, ctl.isc.ISCParams(inv_temp, key)))\n",
    "\n",
    "svmpc_sim_with_noise = jax.jit(lambda ic_samples, inv_temp, key, noise:\n",
    "                               svmpc_sim(ic_samples, noise, prob.params,\n",
    "                                         ctl.svmpc.SVMPCParams(inv_temp, key,\n",
    "                                                               jnp.nan if svmpc_bw == 'dynamic' else svmpc_bw)))"
   ]
  },
  {
   "cell_type": "code",
   "execution_count": 13,
   "metadata": {
    "pycharm": {
     "name": "#%%\n"
    }
   },
   "outputs": [],
   "source": [
    "def controller_stats(full_costs: np.ndarray, part_costs: np.ndarray,\n",
    "                     percentile: float) -> tuple[float, float, float, float]:\n",
    "    full_cumm_costs = full_costs.sum(axis=0)\n",
    "    full_inner_percentile = np.percentile(full_cumm_costs, percentile)\n",
    "    full_selected = full_cumm_costs[full_cumm_costs <= full_inner_percentile]\n",
    "    full_mean = full_selected.mean()\n",
    "    full_std = full_selected.std()\n",
    "\n",
    "    part_cumm_costs = part_costs.sum(axis=0)\n",
    "    part_inner_percentile = np.percentile(part_cumm_costs, percentile)\n",
    "    part_selected = part_cumm_costs[part_cumm_costs <= part_inner_percentile]\n",
    "    part_mean = part_selected.mean()\n",
    "    part_std = part_selected.std()\n",
    "\n",
    "    return full_mean, full_std, part_mean, part_std\n"
   ]
  },
  {
   "cell_type": "code",
   "execution_count": 14,
   "metadata": {
    "pycharm": {
     "name": "#%%\n"
    }
   },
   "outputs": [],
   "source": [
    "import numpy as np\n",
    "\n",
    "def format_meanstd(mean: float, std: float) -> str:\n",
    "    return f'{mean:>10.3f} ± {std:<10.3f}'\n",
    "\n",
    "def format_row(name: str, part_obs: str, full_obs: str) -> str:\n",
    "    return f'\\t{name:^23} | {part_obs:^23} | {full_obs:^23} '\n",
    "\n",
    "header = format_row('β', 'part-obs', 'full-obs')\n",
    "print()\n",
    "print()\n",
    "print()\n",
    "print(header)\n",
    "print('\\t' + '-' * len(header))\n"
   ]
  },
  {
   "cell_type": "code",
   "execution_count": 15,
   "metadata": {
    "jupyter": {
     "outputs_hidden": false
    },
    "pycharm": {
     "name": "#%%\n"
    }
   },
   "outputs": [],
   "source": [
    "isc_full_states = []\n",
    "isc_full_inputs = []\n",
    "isc_full_costs = []\n",
    "\n",
    "isc_part_states = []\n",
    "isc_part_inputs = []\n",
    "isc_part_costs = []\n",
    "\n",
    "svmpc_full_states = []\n",
    "svmpc_full_inputs = []\n",
    "svmpc_full_costs = []\n",
    "\n",
    "svmpc_part_states = []\n",
    "svmpc_part_inputs = []\n",
    "svmpc_part_costs = []\n",
    "\n",
    "mpc_full_states, \\\n",
    "mpc_full_inputs, \\\n",
    "mpc_full_costs = jax.vmap(mpc_sim_with_noise, in_axes=(1, 2), out_axes=-1)(ic_samples, jnp.zeros((n, horizon, trials)))\n",
    "\n",
    "mpc_part_states, \\\n",
    "mpc_part_inputs, \\\n",
    "mpc_part_costs = jax.vmap(mpc_sim_with_noise, in_axes=(1, 2), out_axes=-1)(ic_samples, est_noise)\n",
    "\n",
    "full_mean, full_std, part_mean, part_std = controller_stats(mpc_full_costs, mpc_part_costs, percentile)\n",
    "\n",
    "# print(f'{\"mpc\":^23}\\t\\t'\n",
    "#       f'{part_mean:>9.3f} ± {part_std:<9.4f}\\t\\t'\n",
    "#       f'{full_mean:>9.3f} ± {full_std:<9.4f}')\n",
    "\n",
    "print(format_row('mpc', format_meanstd(part_mean, part_std), format_meanstd(full_mean, full_std)))\n",
    "\n",
    "partial_means = []\n",
    "\n",
    "for i, inv_temp in tqdm(enumerate(inv_temps), total=len(inv_temps), position=0, leave=True):\n",
    "    key, subkey = rnd.split(key)\n",
    "\n",
    "    full_results = jax.vmap(isc_sim_with_noise, in_axes=(1, 0, 0, 2), out_axes=-1)(ic_samples,\n",
    "                                                                                   inv_temp * jnp.ones(trials),\n",
    "                                                                                   rnd.split(subkey, trials),\n",
    "                                                                                   jnp.zeros((n, horizon, trials)))\n",
    "\n",
    "    part_results = jax.vmap(isc_sim_with_noise, in_axes=(1, 0, 0, 2), out_axes=-1)(ic_samples,\n",
    "                                                                                   inv_temp * jnp.ones(trials),\n",
    "                                                                                   rnd.split(subkey, trials),\n",
    "                                                                                   est_noise)\n",
    "\n",
    "    isc_full_states.append(full_results[0])\n",
    "    isc_full_inputs.append(full_results[1])\n",
    "    isc_full_costs.append(full_results[2])\n",
    "\n",
    "    isc_part_states.append(part_results[0])\n",
    "    isc_part_inputs.append(part_results[1])\n",
    "    isc_part_costs.append(part_results[2])\n",
    "\n",
    "    # full_mean, full_std, part_mean, part_std = controller_stats(isc_full_costs[-1], isc_part_costs[-1], percentile)\n",
    "    # name = f'isc-{inv_temp:.3e}'\n",
    "    #\n",
    "    # #     tqdm.write(f'{name:^23}\\t\\t'\n",
    "    # #           f'{part_mean:>9.3f} ± {part_std:<9.4f}\\t\\t'\n",
    "    # #           f'{full_mean:>9.3f} ± {full_std:<9.4f}')\n",
    "\n",
    "    full_results = jax.vmap(svmpc_sim_with_noise, in_axes=(1, 0, 0, 2), out_axes=-1)(ic_samples,\n",
    "                                                                                     inv_temp * jnp.ones(trials),\n",
    "                                                                                     rnd.split(subkey, trials),\n",
    "                                                                                     jnp.zeros((n, horizon, trials)))\n",
    "\n",
    "    part_results = jax.vmap(svmpc_sim_with_noise, in_axes=(1, 0, 0, 2), out_axes=-1)(ic_samples,\n",
    "                                                                                     inv_temp * jnp.ones(trials),\n",
    "                                                                                     rnd.split(subkey, trials),\n",
    "                                                                                     est_noise)\n",
    "\n",
    "    svmpc_full_states.append(np.asarray(full_results[0]))\n",
    "    svmpc_full_inputs.append(np.asarray(full_results[1]))\n",
    "    svmpc_full_costs.append(np.asarray(full_results[2]))\n",
    "\n",
    "    svmpc_part_states.append(np.asarray(part_results[0]))\n",
    "    svmpc_part_inputs.append(np.asarray(part_results[1]))\n",
    "    svmpc_part_costs.append(np.asarray(part_results[2]))\n",
    "\n",
    "    full_mean, full_std, part_mean, part_std = controller_stats(svmpc_full_costs[-1], svmpc_part_costs[-1], percentile)\n",
    "    name = f'svmpc-{inv_temp:<18.3e}'.strip()\n",
    "\n",
    "    tqdm.write(format_row(name, format_meanstd(part_mean, part_std), format_meanstd(full_mean, full_std)))\n",
    "    partial_means.append(part_mean)\n",
    "\n",
    "    np.savez(f'data/trajectories-in-progress.npz',\n",
    "             mpc_full_states=mpc_full_states,\n",
    "             mpc_full_inputs=mpc_full_inputs,\n",
    "             mpc_full_costs=mpc_full_costs,\n",
    "\n",
    "             mpc_part_states=mpc_part_states,\n",
    "             mpc_part_inputs=mpc_part_inputs,\n",
    "             mpc_part_costs=mpc_part_costs,\n",
    "\n",
    "             svmpc_full_states=np.stack(svmpc_full_states, axis=-1),\n",
    "             svmpc_full_inputs=np.stack(svmpc_full_inputs, axis=-1),\n",
    "             svmpc_full_costs=np.stack(svmpc_full_costs, axis=-1),\n",
    "\n",
    "             svmpc_part_states=np.stack(svmpc_part_states, axis=-1),\n",
    "             svmpc_part_inputs=np.stack(svmpc_part_inputs, axis=-1),\n",
    "             svmpc_part_costs=np.stack(svmpc_part_costs, axis=-1),\n",
    "\n",
    "             isc_full_states=np.stack(isc_full_states, axis=-1),\n",
    "             isc_full_inputs=np.stack(isc_full_inputs, axis=-1),\n",
    "             isc_full_costs=np.stack(isc_full_costs, axis=-1),\n",
    "\n",
    "             isc_part_states=np.stack(isc_part_states, axis=-1),\n",
    "             isc_part_inputs=np.stack(isc_part_inputs, axis=-1),\n",
    "             isc_part_costs=np.stack(isc_part_costs, axis=-1),\n",
    "\n",
    "             inv_temps=inv_temps[:i + 1])\n",
    "\n",
    "\n",
    "partial_means = np.array(partial_means)"
   ]
  },
  {
   "cell_type": "code",
   "execution_count": 16,
   "metadata": {
    "pycharm": {
     "name": "#%%\n"
    }
   },
   "outputs": [],
   "source": [
    "import shutil\n",
    "\n",
    "if not utils.in_ipynb():\n",
    "    if shutil.which('gnuplot') is not None:\n",
    "        import termplotlib as tpl\n",
    "\n",
    "        fig = tpl.figure()\n",
    "        fig.plot(jnp.log(inv_temps), jnp.log(partial_means), width=80, height=25, xlabel='Log(β)',\n",
    "                 title='Log Mean Part-Obs Cost (SVMPC)')\n",
    "        fig.show()\n",
    "    else:\n",
    "        print(\"The program `gnuplot' is not installed. Skipping terminal plot.\")\n",
    "else:\n",
    "    import matplotlib.pyplot as plt\n",
    "\n",
    "    plt.figure()\n",
    "    plt.plot(jnp.log(inv_temps), jnp.log(partial_means), 'ok')\n",
    "    plt.title('Mean Part-Obs Cost (SVMPC)')\n",
    "    plt.ylabel('Log Mean Cost')\n",
    "    plt.xlabel('Log(β)')\n",
    "    plt.show()"
   ]
  },
  {
   "cell_type": "code",
   "execution_count": 17,
   "metadata": {
    "jupyter": {
     "outputs_hidden": false
    },
    "pycharm": {
     "name": "#%%"
    }
   },
   "outputs": [],
   "source": [
    "now = datetime.datetime.now()\n",
    "nowstr = now.strftime('%Y.%m.%d.%H.%M.%S')\n",
    "\n",
    "jnp.savez(f'data/trajectories-{nowstr}.npz',\n",
    "              mpc_full_states=mpc_full_states,\n",
    "              mpc_full_inputs=mpc_full_inputs,\n",
    "              mpc_full_costs=mpc_full_costs,\n",
    "\n",
    "              mpc_part_states=mpc_part_states,\n",
    "              mpc_part_inputs=mpc_part_inputs,\n",
    "              mpc_part_costs=mpc_part_costs,\n",
    "\n",
    "              svmpc_full_states=np.stack(svmpc_full_states, axis=-1),\n",
    "              svmpc_full_inputs=np.stack(svmpc_full_inputs, axis=-1),\n",
    "              svmpc_full_costs=np.stack(svmpc_full_costs, axis=-1),\n",
    "\n",
    "              svmpc_part_states=np.stack(svmpc_part_states, axis=-1),\n",
    "              svmpc_part_inputs=np.stack(svmpc_part_inputs, axis=-1),\n",
    "              svmpc_part_costs=np.stack(svmpc_part_costs, axis=-1),\n",
    "\n",
    "              isc_full_states=np.stack(isc_full_states, axis=-1),\n",
    "              isc_full_inputs=np.stack(isc_full_inputs, axis=-1),\n",
    "              isc_full_costs=np.stack(isc_full_costs, axis=-1),\n",
    "\n",
    "              isc_part_states=np.stack(isc_part_states, axis=-1),\n",
    "              isc_part_inputs=np.stack(isc_part_inputs, axis=-1),\n",
    "              isc_part_costs=np.stack(isc_part_costs, axis=-1),\n",
    "\n",
    "              inv_temps=inv_temps)\n",
    "\n",
    "os.remove('data/trajectories-in-progress.npz')\n"
   ]
  }
 ],
 "metadata": {
  "kernelspec": {
   "display_name": "Python 3",
   "language": "python",
   "name": "python3"
  },
  "language_info": {
   "codemirror_mode": {
    "name": "ipython",
    "version": 3
   },
   "file_extension": ".py",
   "mimetype": "text/x-python",
   "name": "python",
   "nbconvert_exporter": "python",
   "pygments_lexer": "ipython3",
   "version": "3.9.5"
  }
 },
 "nbformat": 4,
 "nbformat_minor": 4
}