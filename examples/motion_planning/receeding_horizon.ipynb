{
 "cells": [
  {
   "cell_type": "code",
   "execution_count": 1,
   "metadata": {},
   "outputs": [],
   "source": [
    "import os\n",
    "import sys\n",
    "import pathlib\n",
    "\n",
    "module_path = os.path.abspath(os.path.join('../../'))\n",
    "\n",
    "if module_path not in sys.path:\n",
    "    sys.path.append(module_path)"
   ]
  },
  {
   "cell_type": "code",
   "execution_count": 2,
   "metadata": {},
   "outputs": [],
   "source": [
    "import jax\n",
    "import jax.numpy as jnp\n",
    "import jax.random as rnd\n",
    "import tqdm\n",
    "\n",
    "import matplotlib as mpl\n",
    "import matplotlib.pyplot as plt\n",
    "import matplotlib.font_manager as fm\n",
    "import matplotlib.patches as patches\n",
    "\n",
    "from rationality import dynamics as dyn, objectives as obj, distributions as dst,\\\n",
    "    controllers as ctl, simulate as sim, geometry as geom, util\n",
    "\n",
    "from mpl_toolkits.axes_grid1 import make_axes_locatable\n",
    "\n",
    "from typing import Optional"
   ]
  },
  {
   "cell_type": "code",
   "execution_count": 3,
   "metadata": {},
   "outputs": [],
   "source": [
    "pathlib.Path('figures/').mkdir(parents=True, exist_ok=True)\n",
    "\n",
    "plt.style.reload_library()\n",
    "plt.style.use(['notebook'])\n",
    "\n",
    "#plt.rcParams['text.latex.preamble'] = r'\\usepackage{lmodern}'\n",
    "\n",
    "\n",
    "%config InlineBackend.figure_format = 'svg'\n",
    "\n",
    "save_figures = False\n",
    "figure_formats = {'png', 'pdf'}"
   ]
  },
  {
   "cell_type": "code",
   "execution_count": 4,
   "metadata": {},
   "outputs": [],
   "source": [
    "width = 1.0\n",
    "height = 1.0\n",
    "\n",
    "obs_width = 0.05\n",
    "\n",
    "middle_height = 0.4\n",
    "middle_offset = 0.17\n",
    "edge_height = 0.1\n",
    "\n",
    "ic = jnp.array([0.15, 0.4])\n",
    "\n",
    "prior_params = dst.GaussianParams(jnp.zeros(2), 0.0008 * jnp.eye(2))\n",
    "ol_dist = dst.gaussian(*prior_params)\n",
    "trials = 1000\n",
    "batch_size = 10000\n",
    "horizon = 100\n",
    "\n",
    "trajectories_to_draw = 5\n",
    "\n",
    "grid_spacing = 0.05\n",
    "goal_centroid = jnp.array([(0.5 + obs_width / 2) + 3 * (0.5 - obs_width / 2) / 4, 0.1])"
   ]
  },
  {
   "cell_type": "code",
   "execution_count": 5,
   "metadata": {},
   "outputs": [],
   "source": [
    "obstacles = [geom.aabb(jnp.array([0.5, edge_height / 2]), jnp.array([obs_width, edge_height])),\n",
    "             geom.aabb(jnp.array([0.5, 0.5 - middle_offset]), jnp.array([obs_width, middle_height])),\n",
    "             geom.aabb(jnp.array([0.5, 1 - edge_height / 2]), jnp.array([obs_width, edge_height]))]\n",
    "\n",
    "workspace = geom.workspace(width, height, obstacles)\n",
    "\n",
    "gap1_height = 0.5 - edge_height - middle_height / 2 - middle_offset\n",
    "gap2_height = 0.5 - edge_height - middle_height / 2 + middle_offset\n",
    "\n",
    "gaps = [geom.aabb(jnp.array([0.5, edge_height + gap1_height / 2]), jnp.array([obs_width, gap1_height])),\n",
    "        geom.aabb(jnp.array([0.5, 1 - edge_height - gap2_height / 2]),\n",
    "                                    jnp.array([obs_width, gap2_height])),]\n",
    "\n",
    "goal = geom.aabb(goal_centroid, jnp.array([(0.5 - obs_width / 2) / 2, 0.2]))"
   ]
  },
  {
   "cell_type": "code",
   "execution_count": 6,
   "metadata": {},
   "outputs": [],
   "source": [
    "def draw_workspace(workspace: geom.Workspace, ic: Optional[jnp.ndarray],\n",
    "                   goal: Optional[geom.Polytope], ax: Optional[plt.Axes] = None) -> plt.Axes:\n",
    "    width, height = workspace.boundary.dimensions\n",
    "    obstacles = workspace.obstacles\n",
    "\n",
    "    if ax is None:\n",
    "        ax = plt.gca()\n",
    "\n",
    "    ax.set_xlim([0, width])\n",
    "    ax.set_ylim([0, height])\n",
    "\n",
    "    if ic is not None:\n",
    "        ax.scatter(ic[0], ic[1], marker='x', color='k', s=180)\n",
    "\n",
    "    for i in range(obstacles.centroid.shape[0]):\n",
    "        geom.draw(geom.aabb(obstacles.centroid[i, :], obstacles.dimensions[i, :]), ax)\n",
    "\n",
    "    # for g in gaps:\n",
    "    #     g.draw(ax, hatch='.')\n",
    "\n",
    "    if goal is not None:\n",
    "       geom.draw(goal, ax, hatch='/')\n",
    "\n",
    "    return ax"
   ]
  },
  {
   "cell_type": "code",
   "execution_count": 7,
   "metadata": {},
   "outputs": [
    {
     "data": {
      "image/svg+xml": "<?xml version=\"1.0\" encoding=\"utf-8\" standalone=\"no\"?>\n<!DOCTYPE svg PUBLIC \"-//W3C//DTD SVG 1.1//EN\"\n  \"http://www.w3.org/Graphics/SVG/1.1/DTD/svg11.dtd\">\n<svg height=\"346.56pt\" version=\"1.1\" viewBox=\"0 0 346.56 346.56\" width=\"346.56pt\" xmlns=\"http://www.w3.org/2000/svg\" xmlns:xlink=\"http://www.w3.org/1999/xlink\">\n <metadata>\n  <rdf:RDF xmlns:cc=\"http://creativecommons.org/ns#\" xmlns:dc=\"http://purl.org/dc/elements/1.1/\" xmlns:rdf=\"http://www.w3.org/1999/02/22-rdf-syntax-ns#\">\n   <cc:Work>\n    <dc:type rdf:resource=\"http://purl.org/dc/dcmitype/StillImage\"/>\n    <dc:date>2022-05-03T15:06:05.597372</dc:date>\n    <dc:format>image/svg+xml</dc:format>\n    <dc:creator>\n     <cc:Agent>\n      <dc:title>Matplotlib v3.4.2, https://matplotlib.org/</dc:title>\n     </cc:Agent>\n    </dc:creator>\n   </cc:Work>\n  </rdf:RDF>\n </metadata>\n <defs>\n  <style type=\"text/css\">*{stroke-linecap:butt;stroke-linejoin:round;}</style>\n </defs>\n <g id=\"figure_1\">\n  <g id=\"patch_1\">\n   <path d=\"M 0 346.56 \nL 346.56 346.56 \nL 346.56 0 \nL 0 0 \nz\n\" style=\"fill:none;\"/>\n  </g>\n  <g id=\"axes_1\">\n   <g id=\"patch_2\">\n    <path d=\"M 13.2 333.36 \nL 339.36 333.36 \nL 339.36 7.2 \nL 13.2 7.2 \nz\n\" style=\"fill:#ffffff;\"/>\n   </g>\n   <g id=\"PathCollection_1\">\n    <defs>\n     <path d=\"M -6.708204 6.708204 \nL 6.708204 -6.708204 \nM -6.708204 -6.708204 \nL 6.708204 6.708204 \n\" id=\"m2570ebc6b2\" style=\"stroke:#000000;stroke-width:2;\"/>\n    </defs>\n    <g clip-path=\"url(#p94b94f42c5)\">\n     <use style=\"stroke:#000000;stroke-width:2;\" x=\"62.124002\" xlink:href=\"#m2570ebc6b2\" y=\"202.895998\"/>\n    </g>\n   </g>\n   <g id=\"patch_3\">\n    <path clip-path=\"url(#p94b94f42c5)\" d=\"M 184.433992 333.36 \nL 168.125998 333.36 \nL 168.125998 300.744 \nL 184.433992 300.744 \nz\n\" style=\"stroke:#000000;stroke-linejoin:miter;\"/>\n   </g>\n   <g id=\"patch_4\">\n    <path clip-path=\"url(#p94b94f42c5)\" d=\"M 184.433992 290.959197 \nL 168.125998 290.959197 \nL 168.125998 160.49519 \nL 184.433992 160.49519 \nz\n\" style=\"stroke:#000000;stroke-linejoin:miter;\"/>\n   </g>\n   <g id=\"patch_5\">\n    <path clip-path=\"url(#p94b94f42c5)\" d=\"M 184.433992 39.816008 \nL 168.125998 39.816008 \nL 168.125998 7.2 \nL 184.433992 7.2 \nz\n\" style=\"stroke:#000000;stroke-linejoin:miter;\"/>\n   </g>\n   <g id=\"patch_6\">\n    <path clip-path=\"url(#p94b94f42c5)\" d=\"M 339.36 333.36 \nL 261.897016 333.36 \nL 261.897016 268.127999 \nL 339.36 268.127999 \nz\n\" style=\"fill:none;stroke:#000000;stroke-linejoin:miter;\"/>\n   </g>\n   <g id=\"matplotlib.axis_1\"/>\n   <g id=\"matplotlib.axis_2\"/>\n   <g id=\"patch_7\">\n    <path d=\"M 13.2 333.36 \nL 13.2 7.2 \n\" style=\"fill:none;stroke:#000000;stroke-linecap:square;stroke-linejoin:miter;\"/>\n   </g>\n   <g id=\"patch_8\">\n    <path d=\"M 339.36 333.36 \nL 339.36 7.2 \n\" style=\"fill:none;stroke:#000000;stroke-linecap:square;stroke-linejoin:miter;\"/>\n   </g>\n   <g id=\"patch_9\">\n    <path d=\"M 13.2 333.36 \nL 339.36 333.36 \n\" style=\"fill:none;stroke:#000000;stroke-linecap:square;stroke-linejoin:miter;\"/>\n   </g>\n   <g id=\"patch_10\">\n    <path d=\"M 13.2 7.2 \nL 339.36 7.2 \n\" style=\"fill:none;stroke:#000000;stroke-linecap:square;stroke-linejoin:miter;\"/>\n   </g>\n   <g id=\"legend_1\">\n    <g id=\"patch_11\">\n     <path d=\"M 27.6 33.7575 \nL 59.6 33.7575 \nL 59.6 22.5575 \nL 27.6 22.5575 \nz\n\" style=\"fill:url(#h061623a884);stroke:#000000;stroke-linejoin:miter;\"/>\n    </g>\n    <g id=\"text_1\">\n     <!-- Goal -->\n     <g transform=\"translate(72.4 33.7575)scale(0.16 -0.16)\">\n      <defs>\n       <path d=\"M 3809 666 \nL 3809 1919 \nL 2778 1919 \nL 2778 2438 \nL 4434 2438 \nL 4434 434 \nQ 4069 175 3628 42 \nQ 3188 -91 2688 -91 \nQ 1594 -91 976 548 \nQ 359 1188 359 2328 \nQ 359 3472 976 4111 \nQ 1594 4750 2688 4750 \nQ 3144 4750 3555 4637 \nQ 3966 4525 4313 4306 \nL 4313 3634 \nQ 3963 3931 3569 4081 \nQ 3175 4231 2741 4231 \nQ 1884 4231 1454 3753 \nQ 1025 3275 1025 2328 \nQ 1025 1384 1454 906 \nQ 1884 428 2741 428 \nQ 3075 428 3337 486 \nQ 3600 544 3809 666 \nz\n\" id=\"DejaVuSans-47\" transform=\"scale(0.015625)\"/>\n       <path d=\"M 1959 3097 \nQ 1497 3097 1228 2736 \nQ 959 2375 959 1747 \nQ 959 1119 1226 758 \nQ 1494 397 1959 397 \nQ 2419 397 2687 759 \nQ 2956 1122 2956 1747 \nQ 2956 2369 2687 2733 \nQ 2419 3097 1959 3097 \nz\nM 1959 3584 \nQ 2709 3584 3137 3096 \nQ 3566 2609 3566 1747 \nQ 3566 888 3137 398 \nQ 2709 -91 1959 -91 \nQ 1206 -91 779 398 \nQ 353 888 353 1747 \nQ 353 2609 779 3096 \nQ 1206 3584 1959 3584 \nz\n\" id=\"DejaVuSans-6f\" transform=\"scale(0.015625)\"/>\n       <path d=\"M 2194 1759 \nQ 1497 1759 1228 1600 \nQ 959 1441 959 1056 \nQ 959 750 1161 570 \nQ 1363 391 1709 391 \nQ 2188 391 2477 730 \nQ 2766 1069 2766 1631 \nL 2766 1759 \nL 2194 1759 \nz\nM 3341 1997 \nL 3341 0 \nL 2766 0 \nL 2766 531 \nQ 2569 213 2275 61 \nQ 1981 -91 1556 -91 \nQ 1019 -91 701 211 \nQ 384 513 384 1019 \nQ 384 1609 779 1909 \nQ 1175 2209 1959 2209 \nL 2766 2209 \nL 2766 2266 \nQ 2766 2663 2505 2880 \nQ 2244 3097 1772 3097 \nQ 1472 3097 1187 3025 \nQ 903 2953 641 2809 \nL 641 3341 \nQ 956 3463 1253 3523 \nQ 1550 3584 1831 3584 \nQ 2591 3584 2966 3190 \nQ 3341 2797 3341 1997 \nz\n\" id=\"DejaVuSans-61\" transform=\"scale(0.015625)\"/>\n       <path d=\"M 603 4863 \nL 1178 4863 \nL 1178 0 \nL 603 0 \nL 603 4863 \nz\n\" id=\"DejaVuSans-6c\" transform=\"scale(0.015625)\"/>\n      </defs>\n      <use xlink:href=\"#DejaVuSans-47\"/>\n      <use x=\"77.490234\" xlink:href=\"#DejaVuSans-6f\"/>\n      <use x=\"138.671875\" xlink:href=\"#DejaVuSans-61\"/>\n      <use x=\"199.951172\" xlink:href=\"#DejaVuSans-6c\"/>\n     </g>\n    </g>\n    <g id=\"patch_12\">\n     <path d=\"M 27.6 57.2425 \nL 59.6 57.2425 \nL 59.6 46.0425 \nL 27.6 46.0425 \nz\n\" style=\"stroke:#000000;stroke-linejoin:miter;\"/>\n    </g>\n    <g id=\"text_2\">\n     <!-- Obstacle -->\n     <g transform=\"translate(72.4 57.2425)scale(0.16 -0.16)\">\n      <defs>\n       <path d=\"M 2522 4238 \nQ 1834 4238 1429 3725 \nQ 1025 3213 1025 2328 \nQ 1025 1447 1429 934 \nQ 1834 422 2522 422 \nQ 3209 422 3611 934 \nQ 4013 1447 4013 2328 \nQ 4013 3213 3611 3725 \nQ 3209 4238 2522 4238 \nz\nM 2522 4750 \nQ 3503 4750 4090 4092 \nQ 4678 3434 4678 2328 \nQ 4678 1225 4090 567 \nQ 3503 -91 2522 -91 \nQ 1538 -91 948 565 \nQ 359 1222 359 2328 \nQ 359 3434 948 4092 \nQ 1538 4750 2522 4750 \nz\n\" id=\"DejaVuSans-4f\" transform=\"scale(0.015625)\"/>\n       <path d=\"M 3116 1747 \nQ 3116 2381 2855 2742 \nQ 2594 3103 2138 3103 \nQ 1681 3103 1420 2742 \nQ 1159 2381 1159 1747 \nQ 1159 1113 1420 752 \nQ 1681 391 2138 391 \nQ 2594 391 2855 752 \nQ 3116 1113 3116 1747 \nz\nM 1159 2969 \nQ 1341 3281 1617 3432 \nQ 1894 3584 2278 3584 \nQ 2916 3584 3314 3078 \nQ 3713 2572 3713 1747 \nQ 3713 922 3314 415 \nQ 2916 -91 2278 -91 \nQ 1894 -91 1617 61 \nQ 1341 213 1159 525 \nL 1159 0 \nL 581 0 \nL 581 4863 \nL 1159 4863 \nL 1159 2969 \nz\n\" id=\"DejaVuSans-62\" transform=\"scale(0.015625)\"/>\n       <path d=\"M 2834 3397 \nL 2834 2853 \nQ 2591 2978 2328 3040 \nQ 2066 3103 1784 3103 \nQ 1356 3103 1142 2972 \nQ 928 2841 928 2578 \nQ 928 2378 1081 2264 \nQ 1234 2150 1697 2047 \nL 1894 2003 \nQ 2506 1872 2764 1633 \nQ 3022 1394 3022 966 \nQ 3022 478 2636 193 \nQ 2250 -91 1575 -91 \nQ 1294 -91 989 -36 \nQ 684 19 347 128 \nL 347 722 \nQ 666 556 975 473 \nQ 1284 391 1588 391 \nQ 1994 391 2212 530 \nQ 2431 669 2431 922 \nQ 2431 1156 2273 1281 \nQ 2116 1406 1581 1522 \nL 1381 1569 \nQ 847 1681 609 1914 \nQ 372 2147 372 2553 \nQ 372 3047 722 3315 \nQ 1072 3584 1716 3584 \nQ 2034 3584 2315 3537 \nQ 2597 3491 2834 3397 \nz\n\" id=\"DejaVuSans-73\" transform=\"scale(0.015625)\"/>\n       <path d=\"M 1172 4494 \nL 1172 3500 \nL 2356 3500 \nL 2356 3053 \nL 1172 3053 \nL 1172 1153 \nQ 1172 725 1289 603 \nQ 1406 481 1766 481 \nL 2356 481 \nL 2356 0 \nL 1766 0 \nQ 1100 0 847 248 \nQ 594 497 594 1153 \nL 594 3053 \nL 172 3053 \nL 172 3500 \nL 594 3500 \nL 594 4494 \nL 1172 4494 \nz\n\" id=\"DejaVuSans-74\" transform=\"scale(0.015625)\"/>\n       <path d=\"M 3122 3366 \nL 3122 2828 \nQ 2878 2963 2633 3030 \nQ 2388 3097 2138 3097 \nQ 1578 3097 1268 2742 \nQ 959 2388 959 1747 \nQ 959 1106 1268 751 \nQ 1578 397 2138 397 \nQ 2388 397 2633 464 \nQ 2878 531 3122 666 \nL 3122 134 \nQ 2881 22 2623 -34 \nQ 2366 -91 2075 -91 \nQ 1284 -91 818 406 \nQ 353 903 353 1747 \nQ 353 2603 823 3093 \nQ 1294 3584 2113 3584 \nQ 2378 3584 2631 3529 \nQ 2884 3475 3122 3366 \nz\n\" id=\"DejaVuSans-63\" transform=\"scale(0.015625)\"/>\n       <path d=\"M 3597 1894 \nL 3597 1613 \nL 953 1613 \nQ 991 1019 1311 708 \nQ 1631 397 2203 397 \nQ 2534 397 2845 478 \nQ 3156 559 3463 722 \nL 3463 178 \nQ 3153 47 2828 -22 \nQ 2503 -91 2169 -91 \nQ 1331 -91 842 396 \nQ 353 884 353 1716 \nQ 353 2575 817 3079 \nQ 1281 3584 2069 3584 \nQ 2775 3584 3186 3129 \nQ 3597 2675 3597 1894 \nz\nM 3022 2063 \nQ 3016 2534 2758 2815 \nQ 2500 3097 2075 3097 \nQ 1594 3097 1305 2825 \nQ 1016 2553 972 2059 \nL 3022 2063 \nz\n\" id=\"DejaVuSans-65\" transform=\"scale(0.015625)\"/>\n      </defs>\n      <use xlink:href=\"#DejaVuSans-4f\"/>\n      <use x=\"78.710938\" xlink:href=\"#DejaVuSans-62\"/>\n      <use x=\"142.1875\" xlink:href=\"#DejaVuSans-73\"/>\n      <use x=\"194.287109\" xlink:href=\"#DejaVuSans-74\"/>\n      <use x=\"233.496094\" xlink:href=\"#DejaVuSans-61\"/>\n      <use x=\"294.775391\" xlink:href=\"#DejaVuSans-63\"/>\n      <use x=\"349.755859\" xlink:href=\"#DejaVuSans-6c\"/>\n      <use x=\"377.539062\" xlink:href=\"#DejaVuSans-65\"/>\n     </g>\n    </g>\n   </g>\n  </g>\n </g>\n <defs>\n  <clipPath id=\"p94b94f42c5\">\n   <rect height=\"326.16\" width=\"326.16\" x=\"13.2\" y=\"7.2\"/>\n  </clipPath>\n </defs>\n <defs>\n  <pattern height=\"72\" id=\"h061623a884\" patternUnits=\"userSpaceOnUse\" width=\"72\" x=\"0\" y=\"0\">\n   <rect fill=\"none\" height=\"73\" width=\"73\" x=\"0\" y=\"0\"/>\n   <path d=\"M -36 36 \nL 36 -36 \nM -24 48 \nL 48 -24 \nM -12 60 \nL 60 -12 \nM 0 72 \nL 72 0 \nM 12 84 \nL 84 12 \nM 24 96 \nL 96 24 \nM 36 108 \nL 108 36 \n\" style=\"fill:#000000;stroke:#000000;stroke-linecap:butt;stroke-linejoin:miter;stroke-width:1.0;\"/>\n  </pattern>\n </defs>\n</svg>\n",
      "text/plain": [
       "<Figure size 576x432 with 1 Axes>"
      ]
     },
     "metadata": {},
     "output_type": "display_data"
    }
   ],
   "source": [
    "plt.figure()\n",
    "draw_workspace(workspace, ic, goal)\n",
    "\n",
    "goal_patch = patches.Patch(fill=False, edgecolor='k', hatch=r'/', label='Goal')\n",
    "obs_patch = patches.Patch(fill=True, color='k', label='Obstacle')\n",
    "plt.gca().legend(handles=[goal_patch, obs_patch], loc=2, frameon=False)\n",
    "\n",
    "plt.gca().set_xticks([])\n",
    "plt.gca().set_yticks([])\n",
    "plt.gca().set_aspect('equal')\n",
    "\n",
    "util.savefig('figures/workspace', figure_formats, perform_save=save_figures)"
   ]
  },
  {
   "cell_type": "code",
   "execution_count": 8,
   "metadata": {},
   "outputs": [],
   "source": [
    "A = jnp.array([[1.0, 1.0, 0.0, 0.0],\n",
    "               [0.0, 0.0, 1.0, 1.0],\n",
    "               [0.0, 1.0, 0.0, 0.0],\n",
    "               [0.0, 0.0, 0.0, 1.0]])\n",
    "\n",
    "B = jnp.array([[0.0, 0.0],\n",
    "               [0.0, 0.0],\n",
    "               [1.0, 0.0],               \n",
    "               [0.0, 1.0]])\n",
    "\n",
    "               \n",
    "\n",
    "Q = jnp.zeros((4, 4))\n",
    "R = jnp.eye(2)\n",
    "Qf = jnp.diag(jnp.array([1.0, 1.0, 0.0, 0.0]))\n",
    "\n",
    "dynamics = dyn.linear(A, B)\n",
    "objective = obj.quadratic(Q, R, Qf, goal_centroid)\n",
    "\n",
    "@jax.jit\n",
    "def stopping_condition(state, input, t, next_state):\n",
    "    return ~(geom.freespace_contains_point(workspace, state[:2]) &\n",
    "             geom.freespace_contains_point(workspace, state[:2]) &\n",
    "             geom.freespace_contains_segment(workspace, state[:2], next_state[:2]))"
   ]
  },
  {
   "cell_type": "code",
   "execution_count": 9,
   "metadata": {},
   "outputs": [
    {
     "data": {
      "text/plain": [
       "DeviceArray(True, dtype=bool)"
      ]
     },
     "execution_count": 9,
     "metadata": {},
     "output_type": "execute_result"
    }
   ],
   "source": [
    "controller = ctl.motion.create()"
   ]
  },
  {
   "cell_type": "code",
   "execution_count": null,
   "metadata": {},
   "outputs": [],
   "source": []
  }
 ],
 "metadata": {
  "interpreter": {
   "hash": "603a626c4bc78891363952bf8bbad2009e3c9648d0ac28677163152b2880f176"
  },
  "kernelspec": {
   "display_name": "Python 3.9.5 ('rationality')",
   "language": "python",
   "name": "python3"
  },
  "language_info": {
   "codemirror_mode": {
    "name": "ipython",
    "version": 3
   },
   "file_extension": ".py",
   "mimetype": "text/x-python",
   "name": "python",
   "nbconvert_exporter": "python",
   "pygments_lexer": "ipython3",
   "version": "3.9.5"
  },
  "orig_nbformat": 4
 },
 "nbformat": 4,
 "nbformat_minor": 2
}
