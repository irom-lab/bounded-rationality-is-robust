{
 "cells": [
  {
   "cell_type": "code",
   "execution_count": null,
   "metadata": {},
   "outputs": [],
   "source": [
    "import os\n",
    "import sys\n",
    "import pathlib\n",
    "\n",
    "module_path = os.path.abspath(os.path.join('../../'))\n",
    "\n",
    "if module_path not in sys.path:\n",
    "    sys.path.append(module_path)"
   ]
  },
  {
   "cell_type": "code",
   "execution_count": null,
   "metadata": {
    "pycharm": {
     "name": "#%%\n"
    }
   },
   "outputs": [],
   "source": [
    "import jax\n",
    "import jax.numpy as jnp\n",
    "import jax.random as rnd\n",
    "import tqdm\n",
    "\n",
    "import matplotlib as mpl\n",
    "import matplotlib.pyplot as plt\n",
    "import matplotlib.font_manager as fm\n",
    "import matplotlib.patches as patches\n",
    "\n",
    "from rationality import dynamics as dyn, objectives as obj, distributions as dst,\\\n",
    "    controllers as ctl, simulate as sim, geometry as geom, util\n",
    "\n",
    "from mpl_toolkits.axes_grid1 import make_axes_locatable\n",
    "\n",
    "from typing import Optional"
   ]
  },
  {
   "cell_type": "markdown",
   "metadata": {},
   "source": [
    "Set up plotting configuration."
   ]
  },
  {
   "cell_type": "code",
   "execution_count": null,
   "metadata": {
    "pycharm": {
     "name": "#%%\n"
    }
   },
   "outputs": [],
   "source": [
    "pathlib.Path('figures/').mkdir(parents=True, exist_ok=True)\n",
    "\n",
    "plt.style.reload_library()\n",
    "plt.style.use(['notebook'])\n",
    "\n",
    "#plt.rcParams['text.latex.preamble'] = r'\\usepackage{lmodern}'\n",
    "\n",
    "\n",
    "%config InlineBackend.figure_format = 'svg'\n",
    "\n",
    "figure_formats = {'png', 'pdf'}"
   ]
  },
  {
   "cell_type": "code",
   "execution_count": null,
   "metadata": {
    "pycharm": {
     "name": "#%%\n"
    }
   },
   "outputs": [],
   "source": [
    "width = 1.0\n",
    "height = 1.0\n",
    "\n",
    "obs_width = 0.05\n",
    "\n",
    "middle_height = 0.4\n",
    "middle_offset = 0.17\n",
    "edge_height = 0.1\n",
    "\n",
    "ic = jnp.array([0.15, 0.4])\n",
    "\n",
    "prior_params = dst.GaussianParams(jnp.zeros(2), 0.0008 * jnp.eye(2))\n",
    "ol_dist = dst.gaussian(*prior_params)\n",
    "trials = 1000\n",
    "batch_size = 10000\n",
    "horizon = 100\n",
    "\n",
    "trajectories_to_draw = 5\n",
    "\n",
    "grid_spacing = 0.05"
   ]
  },
  {
   "cell_type": "code",
   "execution_count": null,
   "metadata": {
    "pycharm": {
     "name": "#%%\n"
    }
   },
   "outputs": [],
   "source": [
    "obstacles = [geom.aabb(jnp.array([0.5, edge_height / 2]), jnp.array([obs_width, edge_height])),\n",
    "             geom.aabb(jnp.array([0.5, 0.5 - middle_offset]), jnp.array([obs_width, middle_height])),\n",
    "             geom.aabb(jnp.array([0.5, 1 - edge_height / 2]), jnp.array([obs_width, edge_height]))]\n",
    "\n",
    "workspace = geom.workspace(width, height, obstacles)\n",
    "\n",
    "gap1_height = 0.5 - edge_height - middle_height / 2 - middle_offset\n",
    "gap2_height = 0.5 - edge_height - middle_height / 2 + middle_offset\n",
    "\n",
    "gaps = [geom.aabb(jnp.array([0.5, edge_height + gap1_height / 2]), jnp.array([obs_width, gap1_height])),\n",
    "        geom.aabb(jnp.array([0.5, 1 - edge_height - gap2_height / 2]),\n",
    "                                    jnp.array([obs_width, gap2_height])),]\n",
    "\n",
    "goal = geom.aabb(jnp.array([(0.5 + obs_width / 2) + 3 * (0.5 - obs_width / 2) / 4, 0.1]),\n",
    "                 jnp.array([(0.5 - obs_width / 2) / 2, 0.2]))"
   ]
  },
  {
   "cell_type": "code",
   "execution_count": null,
   "metadata": {
    "pycharm": {
     "name": "#%%\n"
    }
   },
   "outputs": [],
   "source": [
    "def draw_workspace(workspace: geom.Workspace, ic: Optional[jnp.ndarray],\n",
    "                   goal: Optional[geom.Polytope], ax: Optional[plt.Axes] = None) -> plt.Axes:\n",
    "    width, height = workspace.boundary.dimensions\n",
    "    obstacles = workspace.obstacles\n",
    "\n",
    "    if ax is None:\n",
    "        ax = plt.gca()\n",
    "\n",
    "    ax.set_xlim([0, width])\n",
    "    ax.set_ylim([0, height])\n",
    "\n",
    "    if ic is not None:\n",
    "        ax.scatter(ic[0], ic[1], marker='x', color='k', s=180)\n",
    "\n",
    "    for i in range(obstacles.centroid.shape[0]):\n",
    "        geom.draw(geom.aabb(obstacles.centroid[i, :], obstacles.dimensions[i, :]), ax)\n",
    "\n",
    "    # for g in gaps:\n",
    "    #     g.draw(ax, hatch='.')\n",
    "\n",
    "    if goal is not None:\n",
    "       geom.draw(goal, ax, hatch='/')\n",
    "\n",
    "    return ax"
   ]
  },
  {
   "cell_type": "code",
   "execution_count": null,
   "metadata": {
    "pycharm": {
     "name": "#%%\n"
    }
   },
   "outputs": [],
   "source": [
    "plt.figure()\n",
    "draw_workspace(workspace, ic, goal)\n",
    "\n",
    "goal_patch = patches.Patch(fill=False, edgecolor='k', hatch=r'/', label='Goal')\n",
    "obs_patch = patches.Patch(fill=True, color='k', label='Obstacle')\n",
    "plt.gca().legend(handles=[goal_patch, obs_patch], loc=2, frameon=False)\n",
    "\n",
    "plt.gca().set_xticks([])\n",
    "plt.gca().set_yticks([])\n",
    "plt.gca().set_aspect('equal')\n",
    "\n",
    "util.savefig('figures/workspace', figure_formats)"
   ]
  },
  {
   "cell_type": "code",
   "execution_count": null,
   "metadata": {
    "pycharm": {
     "name": "#%%\n"
    }
   },
   "outputs": [],
   "source": [
    "State = tuple[jnp.ndarray, jnp.ndarray]\n",
    "\n",
    "@jax.jit\n",
    "def rollout(key: jnp.ndarray) -> tuple[State, jnp.ndarray, jnp.ndarray, jnp.ndarray]:\n",
    "    inputs = ol_dist.sample(horizon, key)\n",
    "\n",
    "    @jax.jit\n",
    "    def scanner(state, input) -> tuple[State, tuple[jnp.ndarray, float, bool, bool]]:\n",
    "        pos, vel = state\n",
    "\n",
    "        new_pos = pos + vel\n",
    "        new_vel = vel + input\n",
    "\n",
    "        is_in_goal = goal.contains(new_pos)\n",
    "        is_in_free = workspace.freespace_contains_segment(pos, new_pos)\n",
    "\n",
    "        dist = jnp.linalg.norm(input, ord=2)\n",
    "        \n",
    "        new_state = (new_pos, new_vel)\n",
    "\n",
    "        return new_state, (new_state, dist, is_in_goal, is_in_free)\n",
    "\n",
    "    carry, temporal = jax.lax.scan(scanner, (ic, jnp.zeros(2)), inputs.T)\n",
    "    states, dists, is_in_goal, is_in_free = temporal\n",
    "\n",
    "\n",
    "\n",
    "    return (jnp.concatenate([ic.reshape((-1, 1)), states[0].T], axis=1), jnp.concatenate([jnp.zeros((2, 1)), states[1].T], axis=1)),\\\n",
    "           dists, is_in_goal, is_in_free"
   ]
  },
  {
   "cell_type": "code",
   "execution_count": null,
   "metadata": {
    "pycharm": {
     "name": "#%%\n"
    }
   },
   "outputs": [],
   "source": [
    "from functools import partial\n",
    "\n",
    "@partial(jax.jit, static_argnums=3)\n",
    "def process_traj(dists: jnp.ndarray, is_in_goal: jnp.ndarray, is_in_free: jnp.ndarray) -> tuple[int, float]:\n",
    "    @jax.jit\n",
    "    def scanner(carry: tuple[int, int, float], time_dist_goal_free: tuple[int, float, bool, bool]) -> tuple[float, bool]:\n",
    "        reached_goal_idx, collision_idx, total_cost = carry\n",
    "        time, dist, in_goal, in_free = time_dist_goal_free\n",
    "\n",
    "        reached_goal_idx = jax.lax.cond(in_goal,\n",
    "                                        lambda t: jnp.minimum(reached_goal_idx, t + 1),\n",
    "                                        lambda _: reached_goal_idx,\n",
    "                                        time)\n",
    "\n",
    "        collision_idx = jax.lax.cond(~in_free,\n",
    "                                     lambda t: jnp.minimum(collision_idx, t + 1),\n",
    "                                     lambda _: collision_idx,\n",
    "                                     time)\n",
    "\n",
    "        step_cost = jax.lax.cond(in_free,\n",
    "                                 lambda d: d,\n",
    "                                 lambda _: jnp.inf,\n",
    "                                 dist)\n",
    "\n",
    "        total_cost += jax.lax.cond(reached_goal_idx <= horizon,\n",
    "                                   lambda _: 0.0,\n",
    "                                   lambda c: c,\n",
    "                                   step_cost)\n",
    "        \n",
    "        return (reached_goal_idx, collision_idx, total_cost), step_cost\n",
    "\n",
    "    carry, _ = jax.lax.scan(scanner, (horizon + 1, horizon + 1, 0.0), (jnp.arange(len(dists)) + 1, dists, is_in_goal, is_in_free))\n",
    "\n",
    "    return carry\n",
    "\n"
   ]
  },
  {
   "cell_type": "code",
   "execution_count": null,
   "metadata": {},
   "outputs": [],
   "source": [
    "key = rnd.PRNGKey(0)\n",
    "states, dists, in_goal, in_free = jax.vmap(jax.jit(lambda k: rollout(k)), out_axes=-1)(rnd.split(key, 10000))\n",
    "reached_goal_idxs, collision_idxs, total_costs = jax.vmap(process_traj, in_axes=-1)(dists, in_goal, in_free)"
   ]
  },
  {
   "cell_type": "code",
   "execution_count": null,
   "metadata": {},
   "outputs": [],
   "source": [
    "total_costs.shape"
   ]
  },
  {
   "cell_type": "code",
   "execution_count": null,
   "metadata": {},
   "outputs": [],
   "source": [
    "key = rnd.PRNGKey(0)\n",
    "\n",
    "found = 0\n",
    "first_time = True\n",
    "\n",
    "successful_trajectories = []\n",
    "successful_distances = []\n",
    "successful_stopping_time = []\n",
    "        \n",
    "\n",
    "with tqdm.tqdm(total=trials) as pbar:\n",
    "    while True:\n",
    "        key, subkey = rnd.split(key)\n",
    "        states, dists, in_goal, in_free = jax.vmap(jax.jit(lambda k: rollout(k)), out_axes=-1)(rnd.split(subkey, 10000))\n",
    "        reached_goal_idxs, collision_idxs, total_costs = jax.vmap(process_traj, in_axes=-1)(dists, in_goal, in_free)\n",
    "        successful_idxs = ((reached_goal_idxs < horizon + 1) & (reached_goal_idxs < collision_idxs))\n",
    "\n",
    "        successful_trajectories.append(states[0][:, :, successful_idxs])\n",
    "        successful_distances.append(total_costs[successful_idxs])\n",
    "        successful_stopping_time.append(reached_goal_idxs[successful_idxs])\n",
    "\n",
    "        pbar.update(int(jnp.minimum(successful_idxs.sum(), trials - found)))\n",
    "        found += successful_idxs.sum()\n",
    "\n",
    "        if found > trials:\n",
    "            pbar.update(trials)\n",
    "            pbar.close()\n",
    "            break\n",
    "\n",
    "successful_trajectories = jnp.concatenate(successful_trajectories, axis=-1)[:, :, :trials]\n",
    "successful_distances = jnp.concatenate(successful_distances, axis=0)[:trials]\n",
    "successful_stopping_time = jnp.concatenate(successful_stopping_time, axis=0)[:trials]"
   ]
  },
  {
   "cell_type": "code",
   "execution_count": null,
   "metadata": {
    "pycharm": {
     "name": "#%%\n"
    }
   },
   "outputs": [],
   "source": [
    "successful_trajectories.shape"
   ]
  },
  {
   "cell_type": "code",
   "execution_count": null,
   "metadata": {},
   "outputs": [],
   "source": [
    "alphas.max()"
   ]
  },
  {
   "cell_type": "code",
   "execution_count": null,
   "metadata": {
    "pycharm": {
     "name": "#%%\n"
    }
   },
   "outputs": [],
   "source": [
    "best_n_trajectories = jnp.argsort(successful_distances)#[:100]\n",
    "alphas = (1 / (0.001 * successful_distances))\n",
    "alphas = (alphas / jnp.max(alphas))\n",
    "\n",
    "plt.figure()\n",
    "draw_workspace(workspace, ic, goal)\n",
    "\n",
    "goal_patch = patches.Patch(fill=False, edgecolor='k', hatch=r'/', label='Goal')\n",
    "obs_patch = patches.Patch(fill=True, color='k', label='Obstacle')\n",
    "plt.gca().legend(handles=[goal_patch, obs_patch], loc=2, frameon=False)\n",
    "\n",
    "for idx in best_n_trajectories:\n",
    "    stop = successful_stopping_time[idx]\n",
    "    plt.plot(successful_trajectories[0, :stop, idx], successful_trajectories[1, :stop, idx], c='dodgerblue', alpha=float(alphas[idx]), linewidth=1)\n",
    "\n",
    "plt.gca().set_xticks([])\n",
    "plt.gca().set_yticks([])\n",
    "plt.gca().set_aspect('equal')"
   ]
  },
  {
   "cell_type": "code",
   "execution_count": null,
   "metadata": {
    "pycharm": {
     "name": "#%%\n"
    }
   },
   "outputs": [],
   "source": [
    "gap_numbers = []\n",
    "\n",
    "for i in range(trials):\n",
    "    starts = successful_trajectories[:, :first_in_goal[i], i]\n",
    "    ends = successful_trajectories[:, 1:(first_in_goal[i] + 1), i]\n",
    "    g1 = jax.vmap(lambda s, e: gaps[0].intersects(s, e))(starts.T, ends.T)\n",
    "    g2 = jax.vmap(lambda s, e: gaps[1].intersects(s, e))(starts.T, ends.T)\n",
    "\n",
    "    if jnp.any(g1):\n",
    "        gap_numbers.append(True)\n",
    "    else:\n",
    "        gap_numbers.append(False)\n",
    "\n",
    "gap_numbers = jnp.array(gap_numbers)"
   ]
  },
  {
   "cell_type": "code",
   "execution_count": null,
   "metadata": {
    "pycharm": {
     "name": "#%%\n"
    }
   },
   "outputs": [],
   "source": [
    "@jax.jit\n",
    "def gap_prob(inv_temp: float) -> float:\n",
    "    w = jnp.exp(-inv_temp * successful_distances)\n",
    "\n",
    "    return  (w[gap_numbers] / w.sum()).sum()\n",
    "\n",
    "def set_size(w=None, h=None, ax=None):\n",
    "    \"\"\" w, h: width, height in inches \"\"\"\n",
    "    if not ax:\n",
    "        ax = plt.gca()\n",
    "\n",
    "    l = ax.figure.subplotpars.left\n",
    "    r = ax.figure.subplotpars.right\n",
    "    t = ax.figure.subplotpars.top\n",
    "    b = ax.figure.subplotpars.bottom\n",
    "\n",
    "    figw = float(w) / (r - l) if w is not None else (r - l)\n",
    "    figh = float(h) / (t - b) if h is not None else (t - b)\n",
    "\n",
    "    ax.figure.set_size_inches(figw, figh)"
   ]
  },
  {
   "cell_type": "code",
   "execution_count": null,
   "metadata": {
    "pycharm": {
     "name": "#%%\n"
    }
   },
   "outputs": [],
   "source": [
    "plt.style.use(['science', 'ieee', 'notebook'])\n",
    "plt.style.use(['science', 'notebook'])\n",
    "\n",
    "plt.rc('text', usetex=True)\n",
    "plt.rc('font', family='serif', serif='times')\n",
    "plt.rc('text.latex', preamble='\\\\usepackage{lmodern}\\n\\\\renewcommand{\\\\rmdefault}{ptm}')\n",
    "\n",
    "inv_temps = jnp.linspace(0.0, 10.0)\n",
    "betas_to_check = jnp.array([1.0, 2.0, 4.0, 8.0])\n",
    "\n",
    "plt.figure()\n",
    "\n",
    "plt.plot(inv_temps, 1 - jax.vmap(gap_prob)(inv_temps), color='dodgerblue')\n",
    "\n",
    "for i, beta in enumerate(betas_to_check):\n",
    "    y = 1 - gap_prob(beta)\n",
    "    plt.scatter(beta, y, c='k', zorder=3)\n",
    "    plt.plot([beta, beta], [y, 0], 'k:')\n",
    "\n",
    "label_font_size = 30\n",
    "ticks_font_size = 26\n",
    "\n",
    "plt.xlabel(f'$\\\\beta$', fontsize=label_font_size)\n",
    "plt.xticks(fontsize=ticks_font_size)\n",
    "\n",
    "plt.ylabel(f'Prob. Large Gap Traversed', fontsize=label_font_size)\n",
    "plt.yticks(fontsize=ticks_font_size)\n",
    "\n",
    "plt.title(f'Robust Path Planning', fontsize=label_font_size)\n",
    "\n",
    "\n",
    "plt.ylim([0.0, 1.0])\n",
    "\n",
    "ax = plt.gca()\n",
    "ax.set_aspect(1.0 / ax.get_data_ratio(), adjustable='box')\n",
    "plt.tight_layout()\n",
    "\n",
    "set_size(5.0, 5.0, ax)\n",
    "\n",
    "util.savefig(f'figures/gap-prob-plot', figure_formats)"
   ]
  },
  {
   "cell_type": "code",
   "execution_count": null,
   "metadata": {
    "pycharm": {
     "name": "#%%\n"
    }
   },
   "outputs": [],
   "source": [
    "grid_spacing = 0.01\n",
    "xs = jnp.arange(grid_spacing, 1.0, grid_spacing)\n",
    "ys = jnp.arange(grid_spacing, 1.0, grid_spacing)\n",
    "\n",
    "X, Y = jnp.meshgrid(xs, ys)\n",
    "\n",
    "C = []\n",
    "\n",
    "for i, inv_temp in enumerate(betas_to_check):\n",
    "    logits = -inv_temp * successful_distances\n",
    "\n",
    "    starts = jnp.concatenate([successful_trajectories[:, :first_in_goal[i], i] for i in range(trials)], axis=1)\n",
    "    ends = jnp.concatenate([successful_trajectories[:, 1:(first_in_goal[i] + 1), i] for i in range(trials)], axis=1)\n",
    "\n",
    "    segment_logits = jnp.concatenate([logits[i] * jnp.ones(first_in_goal[i]) for i in range(trials)])\n",
    "\n",
    "    @jax.jit\n",
    "    def compute_color(x: float, y: float, starts: jnp.ndarray, ends: jnp.ndarray, segment_logits: jnp.ndarray) -> float:\n",
    "        centroid = jnp.array([x + grid_spacing / 2.0, y + grid_spacing / 2.0])\n",
    "        dimensions = jnp.array([grid_spacing, grid_spacing])\n",
    "        box = geom.aabb(centroid, dimensions)\n",
    "\n",
    "        return jax.vmap(lambda s, e, w: jax.lax.cond(box.intersects(s, e),\n",
    "                                                     lambda _: w,\n",
    "                                                     lambda _: 0.0,\n",
    "                                                     None), in_axes=(1, 1, 0))(starts, ends, jnp.exp(segment_logits)).sum()\n",
    "\n",
    "\n",
    "    C_for_inv_temp = jnp.stack([jax.vmap(lambda y: compute_color(x, y, starts, ends, segment_logits))(ys) for x in xs], axis=-1)\n",
    "    C.append(C_for_inv_temp / C_for_inv_temp.sum())\n",
    "\n",
    "vmax = jnp.min(jnp.array([jnp.unique(c)[-10] for i, c in enumerate(C)]))"
   ]
  },
  {
   "cell_type": "code",
   "execution_count": null,
   "metadata": {
    "pycharm": {
     "name": "#%%\n"
    }
   },
   "outputs": [],
   "source": [
    "plt.style.use(['science', 'ieee', 'notebook'])\n",
    "plt.style.use(['science', 'notebook'])\n",
    "\n",
    "plt.rc('text', usetex=True)\n",
    "plt.rc('font', family='serif', serif='times')\n",
    "plt.rc('text.latex', preamble='\\\\usepackage{lmodern}\\n\\\\renewcommand{\\\\rmdefault}{ptm}')\n",
    "\n",
    "\n",
    "cmap = mpl.colors.LinearSegmentedColormap.from_list('Dodger Blue', ['white', 'dodgerblue'])\n",
    "\n",
    "def density_plot(ax: plt.Axes, subkey: jnp.ndarray, C: jnp.ndarray, inv_temp: float) -> plt.Axes:\n",
    "    logits = -inv_temp * successful_distances\n",
    "    sampled_idxs = jnp.unique(rnd.categorical(subkey, logits, shape=(trajectories_to_draw,)))\n",
    "\n",
    "    ax.pcolormesh(X, Y, C, cmap=cmap,\n",
    "                    vmin=0.0, vmax=vmax, shading='gouraud')\n",
    "\n",
    "    for j, idx in enumerate(sampled_idxs):\n",
    "        line_handle = ax.plot(successful_trajectories[0, :(first_in_goal[idx] + 1), idx],\n",
    "                              successful_trajectories[1, :(first_in_goal[idx] + 1), idx],\n",
    "                              c='k', linestyle=':', label='Sample Path')\n",
    "\n",
    "    return ax, line_handle[0]\n",
    "\n",
    "\n",
    "\n",
    "for i, inv_temp in enumerate(betas_to_check):\n",
    "    plt.figure()\n",
    "    ax = plt.gca()\n",
    "\n",
    "    key, subkey = rnd.split(key)\n",
    "    ax, line_handle = density_plot(ax, subkey, C[i], inv_temp)\n",
    "    draw_workspace(workspace, ic, goal, ax)\n",
    "\n",
    "    if inv_temp == inv_temps[-1]:\n",
    "        goal_patch = patches.Patch(fill=False, edgecolor='k', hatch=r'/', label='Goal')\n",
    "        obs_patch = patches.Patch(fill=True, color='k', label='Obstacle')\n",
    "        ax.legend(handles=[goal_patch, obs_patch, line_handle], loc=2, frameon=False, fontsize=24)\n",
    "\n",
    "    ax.set_xticks([])\n",
    "    ax.set_yticks([])\n",
    "    ax.set_aspect('equal')\n",
    "\n",
    "    plt.xlabel(f'$\\\\beta = {inv_temp}$', fontsize=label_font_size, labelpad=ticks_font_size + 5)\n",
    "    plt.tight_layout()\n",
    "\n",
    "    set_size(5.0, 5.0, ax=ax)\n",
    "\n",
    "    if inv_temp != betas_to_check[-1]:\n",
    "        util.savefig(f'figures/density-beta-{inv_temp:.3f}', figure_formats)\n",
    "\n",
    "set_size(w=5.0 / 0.93, h=5.0 / 0.93, ax=ax)\n",
    "\n",
    "the_divider = make_axes_locatable(ax)\n",
    "color_axis = the_divider.append_axes('right', size='5%', pad='2%')\n",
    "\n",
    "norm = mpl.colors.Normalize(vmin=0.0, vmax=vmax)\n",
    "#cbar = plt.colorbar(mpl.cm.ScalarMappable(norm=norm, cmap=cmap), cax=color_axis,\n",
    "#                    format=mpl.ticker.FuncFormatter(lambda x, _: f'${x:.0e}$' if x > 0.0 else '0'))\n",
    "cbar = plt.colorbar(mpl.cm.ScalarMappable(norm=norm, cmap=cmap), cax=color_axis)\n",
    "cbar.formatter.set_powerlimits((0, 0))\n",
    "\n",
    "cbar.set_ticks(cbar.ax.get_yticks()[0::2])\n",
    "\n",
    "for t in cbar.ax.get_yticklabels():\n",
    "    t.set_fontsize(ticks_font_size)\n",
    "\n",
    "cbar.update_ticks()\n",
    "util.savefig(f'figures/density-beta-{inv_temp:.3f}', figure_formats)"
   ]
  },
  {
   "cell_type": "code",
   "execution_count": null,
   "metadata": {
    "pycharm": {
     "name": "#%%"
    }
   },
   "outputs": [],
   "source": []
  }
 ],
 "metadata": {
  "kernelspec": {
   "display_name": "Python 3",
   "language": "python",
   "name": "python3"
  },
  "language_info": {
   "codemirror_mode": {
    "name": "ipython",
    "version": 3
   },
   "file_extension": ".py",
   "mimetype": "text/x-python",
   "name": "python",
   "nbconvert_exporter": "python",
   "pygments_lexer": "ipython3",
   "version": "3.9.5"
  }
 },
 "nbformat": 4,
 "nbformat_minor": 1
}
