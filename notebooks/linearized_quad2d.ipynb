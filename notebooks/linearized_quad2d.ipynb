{
 "cells": [
  {
   "cell_type": "code",
   "execution_count": 1,
   "metadata": {
    "collapsed": true
   },
   "outputs": [],
   "source": [
    "import os\n",
    "import sys\n",
    "\n",
    "module_path = os.path.abspath(os.path.join('..'))\n",
    "\n",
    "if module_path not in sys.path:\n",
    "    sys.path.append(module_path)"
   ]
  },
  {
   "cell_type": "code",
   "execution_count": 2,
   "outputs": [],
   "source": [
    "import jax\n",
    "import jax.numpy as jnp\n",
    "import jax.random as rnd\n",
    "import jax.experimental.optimizers as opt\n",
    "\n",
    "import tqdm\n",
    "\n",
    "from rationality import dynamics as dyn,\\\n",
    "                        objectives as obj,\\\n",
    "                        distributions as dst,\\\n",
    "                        controllers as ctl,\\\n",
    "                        simulate as sim, \\\n",
    "                        inference as inf\n",
    "\n",
    "from typing import Tuple"
   ],
   "metadata": {
    "collapsed": false,
    "pycharm": {
     "name": "#%%\n"
    }
   }
  },
  {
   "cell_type": "code",
   "execution_count": 3,
   "outputs": [],
   "source": [
    "save_data = True"
   ],
   "metadata": {
    "collapsed": false,
    "pycharm": {
     "name": "#%%\n"
    }
   }
  },
  {
   "cell_type": "code",
   "execution_count": 4,
   "outputs": [
    {
     "name": "stderr",
     "output_type": "stream",
     "text": [
      "WARNING:absl:No GPU/TPU found, falling back to CPU. (Set TF_CPP_MIN_LOG_LEVEL=0 and rerun for more info.)\n"
     ]
    }
   ],
   "source": [
    "key = rnd.PRNGKey(0)\n",
    "prior_samples = 10000\n",
    "trials = 100\n",
    "horizon = 6 # try 10 to 12\n",
    "\n",
    "percentile = 95\n",
    "\n",
    "is_samples = 100000\n",
    "\n",
    "svgd_samples = 2\n",
    "svgd_kernel = jax.jit(lambda a, b, c: inf.rbf_kernel(a, b, c, 1.0))\n",
    "svgd_iters = 1000\n",
    "svgd_opt = opt.adam(0.005)\n",
    "\n",
    "noise_style = 'fixed'\n",
    "noise_scales = [0.05, 0.05, 0.02, 0.1, 0.1, 0.1] #[0.0, 0.1, 0.075, 0.1, 0.1, 0.1]\n",
    "noise_states = [0, 1, 2, 3, 4, 5] #[0, 1, 2, 3, 4, 5]\n",
    "\n",
    "inv_temps = jnp.array([0.0, 0.1, 0.5, 1.0, 5.0, 10.0, 50.0, jnp.inf])\n",
    "prior_ic_cov = jnp.diag(jnp.array([0.25, 0.25, 0.05, 0.1, 0.1, 1e-12]) ** 2)"
   ],
   "metadata": {
    "collapsed": false,
    "pycharm": {
     "name": "#%%\n"
    }
   }
  },
  {
   "cell_type": "code",
   "execution_count": 5,
   "outputs": [],
   "source": [
    "dt = 0.3 # try ~0.2\n",
    "\n",
    "Q = jnp.eye(6)\n",
    "R = 0.1 * jnp.eye(2)\n",
    "Qf = 100 * jnp.eye(6)\n",
    "\n",
    "ic = jnp.array([1.0, -1.0, 0.0, 0.0, 0.0, 0.0])"
   ],
   "metadata": {
    "collapsed": false,
    "pycharm": {
     "name": "#%%\n"
    }
   }
  },
  {
   "cell_type": "code",
   "execution_count": 6,
   "outputs": [],
   "source": [
    "objective = obj.quadratic(Q, R, Qf)\n",
    "dynamics = dyn.crazyflie2d(dt)\n",
    "linearized_dynamics = dyn.linear(*dyn.linearize(dynamics, jnp.zeros(6),\n",
    "                                                jnp.array([dynamics.params.hover_force, 0.0]), 0))\n",
    "\n",
    "prob = ctl.problem(linearized_dynamics, objective, horizon)"
   ],
   "metadata": {
    "collapsed": false,
    "pycharm": {
     "name": "#%%\n"
    }
   }
  },
  {
   "cell_type": "code",
   "execution_count": 7,
   "outputs": [],
   "source": [
    "key, subkey = rnd.split(key)\n",
    "\n",
    "n = prob.num_states\n",
    "m = prob.num_inputs\n",
    "\n",
    "mpc = ctl.lqr(prob)\n",
    "prior_sim = sim.compile_simulation(prob, mpc)\n",
    "prior_ics = jax.vmap(lambda k: rnd.multivariate_normal(k, ic, prior_ic_cov),\n",
    "                     out_axes=-1)(rnd.split(subkey, trials))\n",
    "\n",
    "prior_states, prior_inputs, prior_costs = jax.vmap(lambda x: sim.run(x, jnp.zeros((n, horizon)), prior_sim, prob,\n",
    "                                                                     mpc), in_axes=1, out_axes=-1)(prior_ics)"
   ],
   "metadata": {
    "collapsed": false,
    "pycharm": {
     "name": "#%%\n"
    }
   }
  },
  {
   "cell_type": "code",
   "execution_count": 8,
   "outputs": [],
   "source": [
    "prior_cov = jnp.diag(jnp.array([5e-2, 2e-5] * horizon) ** 2)\n",
    "\n",
    "prior_params = [dst.GaussianParams(jnp.pad(prior_inputs.mean(axis=2)[:, t:].flatten(order='F'),\n",
    "                                           (0, t * prob.num_inputs)), prior_cov) for t in range(horizon)]\n",
    "\n",
    "isc = ctl.isc(prob, jnp.inf, is_samples, 0, dst.GaussianPrototype(prob.num_inputs), prior_params)"
   ],
   "metadata": {
    "collapsed": false,
    "pycharm": {
     "name": "#%%\n"
    }
   }
  },
  {
   "cell_type": "code",
   "execution_count": 9,
   "outputs": [
    {
     "name": "stdout",
     "output_type": "stream",
     "text": [
      "Estimation Noise for state 0 is N(0, 2.50e-03).\n",
      "Estimation Noise for state 1 is N(0, 2.50e-03).\n",
      "Estimation Noise for state 2 is N(0, 4.00e-04).\n",
      "Estimation Noise for state 3 is N(0, 1.00e-02).\n",
      "Estimation Noise for state 4 is N(0, 1.00e-02).\n",
      "Estimation Noise for state 5 is N(0, 1.00e-02).\n"
     ]
    }
   ],
   "source": [
    "est_noise = jnp.zeros((n, horizon, trials))\n",
    "\n",
    "if noise_style.lower() == 'max':\n",
    "    for state, scale in zip(noise_states, noise_scales):\n",
    "        key, subkey = rnd.split(key)\n",
    "        stddev = (scale * jnp.max(jnp.abs(prior_states[state, :, :])))\n",
    "        est_noise = est_noise.at[state, :, :].set(stddev * rnd.normal(subkey, (horizon, trials)))\n",
    "        print(f'Estimation Noise for state {state} is N(0, {stddev ** 2:.3f}).')\n",
    "\n",
    "elif noise_style.lower() == 'fixed':\n",
    "    for state, scale in zip(noise_states, noise_scales):\n",
    "        key, subkey = rnd.split(key)\n",
    "        est_noise = est_noise.at[state, :, :].set(scale * rnd.normal(subkey, (horizon, trials)))\n",
    "        print(f'Estimation Noise for state {state} is N(0, {scale ** 2:.2e}).')\n",
    "else:\n",
    "    raise ValueError(f\"Noise style must be one of: 'max', 'varying', 'fixed'\")"
   ],
   "metadata": {
    "collapsed": false,
    "pycharm": {
     "name": "#%%\n"
    }
   }
  },
  {
   "cell_type": "code",
   "execution_count": 9,
   "outputs": [],
   "source": [],
   "metadata": {
    "collapsed": false,
    "pycharm": {
     "name": "#%%\n"
    }
   }
  },
  {
   "cell_type": "code",
   "execution_count": 10,
   "outputs": [],
   "source": [
    "mpc_sim = sim.compile_simulation(prob, mpc)\n",
    "isc_sim = sim.compile_simulation(prob, isc)\n",
    "\n",
    "mpc_sim_with_noise = jax.jit(lambda noise: mpc_sim(ic, noise, prob.params, mpc.params))\n",
    "isc_sim_with_noise = jax.jit(lambda inv_temp, key, noise:\n",
    "                             isc_sim(ic, noise, prob.params, ctl.ISCParams(inv_temp, key)))"
   ],
   "metadata": {
    "collapsed": false,
    "pycharm": {
     "name": "#%%\n"
    }
   }
  },
  {
   "cell_type": "code",
   "execution_count": 11,
   "outputs": [],
   "source": [
    "@jax.jit\n",
    "def controller_stats(full_costs: jnp.ndarray, part_costs: jnp.ndarray) -> Tuple[float, float, float, float]:\n",
    "    full_cumm_costs = full_costs.sum(axis=0)\n",
    "    full_inner_percentile = jnp.percentile(full_cumm_costs, percentile)\n",
    "    full_mean = jnp.take(full_cumm_costs, full_cumm_costs <= full_inner_percentile).mean()\n",
    "    full_std = jnp.take(full_cumm_costs, full_cumm_costs <= full_inner_percentile).std()\n",
    "\n",
    "    part_cumm_costs = part_costs.sum(axis=0)\n",
    "    part_inner_percentile = jnp.percentile(part_cumm_costs, percentile)\n",
    "    part_mean = jnp.take(part_cumm_costs, part_cumm_costs <= part_inner_percentile).mean()\n",
    "    part_std = jnp.take(part_cumm_costs, part_cumm_costs <= part_inner_percentile).std()\n",
    "\n",
    "    return full_mean, full_std, part_mean, part_std\n"
   ],
   "metadata": {
    "collapsed": false,
    "pycharm": {
     "name": "#%%\n"
    }
   }
  },
  {
   "cell_type": "code",
   "execution_count": 12,
   "outputs": [
    {
     "name": "stdout",
     "output_type": "stream",
     "text": [
      "        name\t\t                part-obs        \t\tfull-obs        \n",
      "          lqr          \t\t   23.825 ± 2.7994   \t\t    8.637 ± 0.0000   \n",
      "        isc-0.0        \t\t  303.048 ± 179.6336 \t\t  303.048 ± 179.6335 \n",
      "        isc-0.1        \t\t   11.117 ± 2.4124   \t\t   13.346 ± 1.3300   \n",
      "        isc-0.5        \t\t   16.605 ± 3.5161   \t\t   10.979 ± 0.2451   \n",
      "        isc-1.0        \t\t   21.760 ± 0.3864   \t\t   11.094 ± 0.3800   \n",
      "        isc-5.0        \t\t   17.654 ± 1.7343   \t\t    9.435 ± 0.1308   \n",
      "       isc-10.0        \t\t   24.992 ± 3.5591   \t\t    8.937 ± 0.0061   \n",
      "       isc-50.0        \t\t   20.793 ± 2.1092   \t\t    9.444 ± 0.1337   \n",
      "        isc-inf        \t\t   21.654 ± 2.5415   \t\t    9.610 ± 0.1201   \n"
     ]
    },
    {
     "name": "stderr",
     "output_type": "stream",
     "text": [
      "100%|██████████| 8/8 [13:55<00:00, 104.48s/it]\n"
     ]
    }
   ],
   "source": [
    "is_full_states = []\n",
    "is_full_inputs = []\n",
    "is_full_costs = []\n",
    "\n",
    "\n",
    "is_part_states = []\n",
    "is_part_inputs = []\n",
    "is_part_costs = []\n",
    "\n",
    "print(f'        name\\t\\t                part-obs        \\t\\tfull-obs        ')\n",
    "\n",
    "mp_full_states, mp_full_inputs, mp_full_costs = jax.vmap(mpc_sim_with_noise, in_axes=2, out_axes=-1)(jnp.zeros((n, horizon, trials)))\n",
    "mp_part_states, mp_part_inputs, mp_part_costs = jax.vmap(mpc_sim_with_noise, in_axes=2, out_axes=-1)(est_noise)\n",
    "\n",
    "full_mean, full_std, part_mean, part_std = controller_stats(mp_full_costs, mp_part_costs)\n",
    "\n",
    "print(f'{\"lqr\":^23}\\t\\t'\n",
    "          f'{part_mean:>9.3f} ± {part_std:<9.4f}\\t\\t'\n",
    "          f'{full_mean:>9.3f} ± {full_std:<9.4f}')\n",
    "\n",
    "for inv_temp in tqdm.tqdm(inv_temps):\n",
    "    key, subkey = rnd.split(key)\n",
    "\n",
    "    full_results = jax.vmap(isc_sim_with_noise, in_axes=(0, 0, 2), out_axes=-1)(inv_temp * jnp.ones(trials),\n",
    "                                                                                rnd.split(subkey, trials),\n",
    "                                                                                jnp.zeros((n, horizon, trials)))\n",
    "\n",
    "    part_results = jax.vmap(isc_sim_with_noise, in_axes=(0, 0, 2), out_axes=-1)(inv_temp * jnp.ones(trials),\n",
    "                                                                                rnd.split(subkey, trials), est_noise)\n",
    "\n",
    "    is_full_states.append(full_results[0])\n",
    "    is_full_inputs.append(full_results[1])\n",
    "    is_full_costs.append(full_results[2])\n",
    "\n",
    "    is_part_states.append(part_results[0])\n",
    "    is_part_inputs.append(part_results[1])\n",
    "    is_part_costs.append(part_results[2])\n",
    "\n",
    "    full_mean, full_std, part_mean, part_std = controller_stats(is_full_costs[-1], is_part_costs[-1])\n",
    "    name = f'isc-{inv_temp:.3}'\n",
    "\n",
    "    print(f'{name:^23}\\t\\t'\n",
    "          f'{part_mean:>9.3f} ± {part_std:<9.4f}\\t\\t'\n",
    "          f'{full_mean:>9.3f} ± {full_std:<9.4f}')"
   ],
   "metadata": {
    "collapsed": false,
    "pycharm": {
     "name": "#%%\n"
    }
   }
  },
  {
   "cell_type": "code",
   "execution_count": 52,
   "outputs": [],
   "source": [
    "if save_data:\n",
    "    import os\n",
    "    import pandas as pd\n",
    "\n",
    "    def make_df(states: jnp.ndarray, inputs: jnp.ndarray, costs: jnp.ndarray,\n",
    "                name: str, beta: float, vis: str) -> pd.DataFrame:\n",
    "        return pd.concat([pd.DataFrame({\n",
    "            'Controller' : pd.Series([name] * (horizon + 1)),\n",
    "            'Visibility' : pd.Series([vis] * (horizon + 1)),\n",
    "            'beta' : pd.Series([beta] * (horizon + 1)),\n",
    "            'Trial' : pd.Series([trial] * (horizon + 1)),\n",
    "            't' : pd.Series(list(range(horizon + 1))),\n",
    "            'x' : pd.Series(states[0, :, trial]),\n",
    "            'y' : pd.Series(states[1, :, trial]),\n",
    "            'theta' : pd.Series(states[2, :, trial]),\n",
    "            'x_dot' : pd.Series(states[3, :, trial]),\n",
    "            'y_dot' : pd.Series(states[4, :, trial]),\n",
    "            'theta_dot' : pd.Series(states[5, :, trial]),\n",
    "            'Thrust' : pd.Series(inputs[0, :, trial]),\n",
    "            'Moment' : pd.Series(inputs[1, :, trial]),\n",
    "            'Costs' : pd.Series(costs[:, trial])\n",
    "        }) for trial in range(trials)])\n",
    "\n",
    "    mp_full_df = make_df(mp_full_states, mp_full_inputs, mp_full_costs, 'LQR', jnp.nan, 'Full')\n",
    "    mp_part_df = make_df(mp_part_states, mp_part_inputs, mp_part_costs, 'LQR', jnp.nan, 'Part')\n",
    "\n",
    "    full_dfs = [mp_full_df] + [make_df(is_full_states[i], is_full_inputs[i], is_full_costs[i], 'ISC', inv_temp, 'Full')\n",
    "                               for i, inv_temp in enumerate(inv_temps)]\n",
    "\n",
    "    part_dfs = [mp_part_df] + [make_df(is_part_states[i], is_part_inputs[i], is_part_costs[i], 'ISC', inv_temp, 'Part')\n",
    "                               for i, inv_temp in enumerate(inv_temps)]\n",
    "\n",
    "    df = pd.concat(full_dfs + part_dfs)\n",
    "\n",
    "    if os.path.exists('../data/linearized_quad2d/data.pkl'):\n",
    "        os.remove('../data/linearized_quad2d/data.pkl')\n",
    "\n",
    "    df.to_pickle('../data/linearized_quad2d/data.pkl')"
   ],
   "metadata": {
    "collapsed": false,
    "pycharm": {
     "name": "#%%\n"
    }
   }
  },
  {
   "cell_type": "code",
   "execution_count": null,
   "outputs": [],
   "source": [],
   "metadata": {
    "collapsed": false,
    "pycharm": {
     "name": "#%%\n"
    }
   }
  }
 ],
 "metadata": {
  "kernelspec": {
   "display_name": "Python 3",
   "language": "python",
   "name": "python3"
  },
  "language_info": {
   "codemirror_mode": {
    "name": "ipython",
    "version": 2
   },
   "file_extension": ".py",
   "mimetype": "text/x-python",
   "name": "python",
   "nbconvert_exporter": "python",
   "pygments_lexer": "ipython2",
   "version": "2.7.6"
  }
 },
 "nbformat": 4,
 "nbformat_minor": 0
}